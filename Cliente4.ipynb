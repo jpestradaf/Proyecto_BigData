{
 "cells": [
  {
   "cell_type": "code",
   "execution_count": 96,
   "id": "3b8704ed-1a01-4592-81e9-7e1cb3dc55b7",
   "metadata": {},
   "outputs": [
    {
     "name": "stdout",
     "output_type": "stream",
     "text": [
      "Requirement already satisfied: geopandas in /usr/local/lib/python3.8/dist-packages (0.13.2)\n",
      "Requirement already satisfied: pyproj>=3.0.1 in /usr/local/lib/python3.8/dist-packages (from geopandas) (3.5.0)\n",
      "Requirement already satisfied: fiona>=1.8.19 in /usr/local/lib/python3.8/dist-packages (from geopandas) (1.9.6)\n",
      "Requirement already satisfied: pandas>=1.1.0 in /usr/local/lib/python3.8/dist-packages (from geopandas) (1.4.2)\n",
      "Requirement already satisfied: shapely>=1.7.1 in /usr/local/lib/python3.8/dist-packages (from geopandas) (2.0.4)\n",
      "Requirement already satisfied: packaging in /usr/local/lib/python3.8/dist-packages (from geopandas) (21.3)\n",
      "Requirement already satisfied: cligj>=0.5 in /usr/local/lib/python3.8/dist-packages (from fiona>=1.8.19->geopandas) (0.7.2)\n",
      "Requirement already satisfied: click-plugins>=1.0 in /usr/local/lib/python3.8/dist-packages (from fiona>=1.8.19->geopandas) (1.1.1)\n",
      "Requirement already satisfied: click~=8.0 in /usr/local/lib/python3.8/dist-packages (from fiona>=1.8.19->geopandas) (8.1.3)\n",
      "Requirement already satisfied: importlib-metadata in /usr/local/lib/python3.8/dist-packages (from fiona>=1.8.19->geopandas) (4.11.4)\n",
      "Requirement already satisfied: six in /usr/local/lib/python3.8/dist-packages (from fiona>=1.8.19->geopandas) (1.16.0)\n",
      "Requirement already satisfied: certifi in /usr/local/lib/python3.8/dist-packages (from fiona>=1.8.19->geopandas) (2022.5.18.1)\n",
      "Requirement already satisfied: attrs>=19.2.0 in /usr/local/lib/python3.8/dist-packages (from fiona>=1.8.19->geopandas) (21.4.0)\n",
      "Requirement already satisfied: numpy>=1.18.5 in /usr/local/lib/python3.8/dist-packages (from pandas>=1.1.0->geopandas) (1.22.4)\n",
      "Requirement already satisfied: pytz>=2020.1 in /usr/local/lib/python3.8/dist-packages (from pandas>=1.1.0->geopandas) (2022.1)\n",
      "Requirement already satisfied: python-dateutil>=2.8.1 in /usr/local/lib/python3.8/dist-packages (from pandas>=1.1.0->geopandas) (2.8.2)\n",
      "Requirement already satisfied: pyparsing!=3.0.5,>=2.0.2 in /usr/local/lib/python3.8/dist-packages (from packaging->geopandas) (2.4.7)\n",
      "Requirement already satisfied: zipp>=0.5 in /usr/local/lib/python3.8/dist-packages (from importlib-metadata->fiona>=1.8.19->geopandas) (3.8.0)\n",
      "\u001b[33mWARNING: Running pip as the 'root' user can result in broken permissions and conflicting behaviour with the system package manager. It is recommended to use a virtual environment instead: https://pip.pypa.io/warnings/venv\u001b[0m\u001b[33m\n",
      "\u001b[0m--- Logging error ---\n",
      "Traceback (most recent call last):\n",
      "  File \"/usr/local/lib/python3.8/dist-packages/pip/_internal/utils/logging.py\", line 177, in emit\n",
      "    self.console.print(renderable, overflow=\"ignore\", crop=False, style=style)\n",
      "  File \"/usr/local/lib/python3.8/dist-packages/pip/_vendor/rich/console.py\", line 1752, in print\n",
      "    extend(render(renderable, render_options))\n",
      "  File \"/usr/local/lib/python3.8/dist-packages/pip/_vendor/rich/console.py\", line 1390, in render\n",
      "    for render_output in iter_render:\n",
      "  File \"/usr/local/lib/python3.8/dist-packages/pip/_internal/utils/logging.py\", line 134, in __rich_console__\n",
      "    for line in lines:\n",
      "  File \"/usr/local/lib/python3.8/dist-packages/pip/_vendor/rich/segment.py\", line 245, in split_lines\n",
      "    for segment in segments:\n",
      "  File \"/usr/local/lib/python3.8/dist-packages/pip/_vendor/rich/console.py\", line 1368, in render\n",
      "    renderable = rich_cast(renderable)\n",
      "  File \"/usr/local/lib/python3.8/dist-packages/pip/_vendor/rich/protocol.py\", line 36, in rich_cast\n",
      "    renderable = cast_method()\n",
      "  File \"/usr/local/lib/python3.8/dist-packages/pip/_internal/self_outdated_check.py\", line 130, in __rich__\n",
      "    pip_cmd = get_best_invocation_for_this_pip()\n",
      "  File \"/usr/local/lib/python3.8/dist-packages/pip/_internal/utils/entrypoints.py\", line 58, in get_best_invocation_for_this_pip\n",
      "    if found_executable and os.path.samefile(\n",
      "  File \"/usr/lib/python3.8/genericpath.py\", line 101, in samefile\n",
      "    s2 = os.stat(f2)\n",
      "FileNotFoundError: [Errno 2] No such file or directory: '/usr/bin/pip3.8'\n",
      "Call stack:\n",
      "  File \"/usr/local/bin/pip\", line 8, in <module>\n",
      "    sys.exit(main())\n",
      "  File \"/usr/local/lib/python3.8/dist-packages/pip/_internal/cli/main.py\", line 70, in main\n",
      "    return command.main(cmd_args)\n",
      "  File \"/usr/local/lib/python3.8/dist-packages/pip/_internal/cli/base_command.py\", line 101, in main\n",
      "    return self._main(args)\n",
      "  File \"/usr/local/lib/python3.8/dist-packages/pip/_internal/cli/base_command.py\", line 223, in _main\n",
      "    self.handle_pip_version_check(options)\n",
      "  File \"/usr/local/lib/python3.8/dist-packages/pip/_internal/cli/req_command.py\", line 148, in handle_pip_version_check\n",
      "    pip_self_version_check(session, options)\n",
      "  File \"/usr/local/lib/python3.8/dist-packages/pip/_internal/self_outdated_check.py\", line 237, in pip_self_version_check\n",
      "    logger.info(\"[present-rich] %s\", upgrade_prompt)\n",
      "  File \"/usr/lib/python3.8/logging/__init__.py\", line 1446, in info\n",
      "    self._log(INFO, msg, args, **kwargs)\n",
      "  File \"/usr/lib/python3.8/logging/__init__.py\", line 1589, in _log\n",
      "    self.handle(record)\n",
      "  File \"/usr/lib/python3.8/logging/__init__.py\", line 1599, in handle\n",
      "    self.callHandlers(record)\n",
      "  File \"/usr/lib/python3.8/logging/__init__.py\", line 1661, in callHandlers\n",
      "    hdlr.handle(record)\n",
      "  File \"/usr/lib/python3.8/logging/__init__.py\", line 954, in handle\n",
      "    self.emit(record)\n",
      "  File \"/usr/local/lib/python3.8/dist-packages/pip/_internal/utils/logging.py\", line 179, in emit\n",
      "    self.handleError(record)\n",
      "Message: '[present-rich] %s'\n",
      "Arguments: (UpgradePrompt(old='22.1.2', new='24.0'),)\n"
     ]
    }
   ],
   "source": [
    "!pip install geopandas"
   ]
  },
  {
   "cell_type": "code",
   "execution_count": 97,
   "id": "7ed32104-3d75-4e9c-a0e5-2c774fe0521b",
   "metadata": {},
   "outputs": [
    {
     "name": "stdout",
     "output_type": "stream",
     "text": [
      "mkdir: `/raw': File exists\n"
     ]
    }
   ],
   "source": [
    "!hdfs dfs -mkdir /raw"
   ]
  },
  {
   "cell_type": "code",
   "execution_count": 49,
   "id": "b220ec7c-919f-4f6a-8616-74759e93211c",
   "metadata": {},
   "outputs": [
    {
     "name": "stdout",
     "output_type": "stream",
     "text": [
      "Deleted /raw/data_raw.parquet\n"
     ]
    }
   ],
   "source": [
    "!hadoop fs -rm -r /raw/data_raw.parquet"
   ]
  },
  {
   "cell_type": "code",
   "execution_count": 98,
   "id": "bf64e5d2-4d29-4cb3-ae86-49e92824dc07",
   "metadata": {},
   "outputs": [
    {
     "data": {
      "text/html": [
       "\n",
       "            <div>\n",
       "                <p><b>SparkSession - hive</b></p>\n",
       "                \n",
       "        <div>\n",
       "            <p><b>SparkContext</b></p>\n",
       "\n",
       "            <p><a href=\"http://3d568b354311:4040\">Spark UI</a></p>\n",
       "\n",
       "            <dl>\n",
       "              <dt>Version</dt>\n",
       "                <dd><code>v3.1.3</code></dd>\n",
       "              <dt>Master</dt>\n",
       "                <dd><code>local[*]</code></dd>\n",
       "              <dt>AppName</dt>\n",
       "                <dd><code>streaming</code></dd>\n",
       "            </dl>\n",
       "        </div>\n",
       "        \n",
       "            </div>\n",
       "        "
      ],
      "text/plain": [
       "<pyspark.sql.session.SparkSession at 0x7795541a3d00>"
      ]
     },
     "execution_count": 98,
     "metadata": {},
     "output_type": "execute_result"
    }
   ],
   "source": [
    "from pyspark.sql import SparkSession\n",
    "from pyspark.sql.functions import *\n",
    "from pyspark.sql.types import *\n",
    "import time\n",
    "import json\n",
    "\n",
    "spark = SparkSession \\\n",
    "  .builder \\\n",
    "  .appName(\"streaming\") \\\n",
    "  .master(\"local[*]\") \\\n",
    "  .getOrCreate()\n",
    "\n",
    "spark"
   ]
  },
  {
   "cell_type": "code",
   "execution_count": 99,
   "id": "7b62bb85-ffe2-42ad-9272-70d260dbef93",
   "metadata": {},
   "outputs": [],
   "source": [
    "schema = ArrayType(StructType([\n",
    "    StructField(\"latitude\", DoubleType(), True),\n",
    "    StructField(\"longitude\", DoubleType(), True),\n",
    "    StructField(\"date\", StringType(), True),\n",
    "    StructField(\"customer_id\", IntegerType(), True),\n",
    "    StructField(\"employee_id\", IntegerType(), True),\n",
    "    StructField(\"quantity_products\", IntegerType(), True),\n",
    "    StructField(\"order_id\", StringType(), True)\n",
    "]))\n",
    "\n",
    "static_schema = StructType([\n",
    "    StructField(\"latitude\", DoubleType(), True),\n",
    "    StructField(\"longitude\", DoubleType(), True),\n",
    "    StructField(\"date\", StringType(), True),\n",
    "    StructField(\"customer_id\", IntegerType(), True),\n",
    "    StructField(\"employee_id\", IntegerType(), True),\n",
    "    StructField(\"quantity_products\", IntegerType(), True),\n",
    "    StructField(\"order_id\", StringType(), True)\n",
    "])"
   ]
  },
  {
   "cell_type": "code",
   "execution_count": 100,
   "id": "7a3c43c1-6683-40fb-b4a8-fb9c7497cb76",
   "metadata": {},
   "outputs": [],
   "source": [
    "static_df = spark.createDataFrame([], static_schema)\n",
    "n = 1\n",
    "while n<=30:\n",
    "    streaming_df = spark.readStream.format(\"socket\").option(\"host\", \"localhost\").option(\"port\", \"8000\").load()\n",
    "    json_df = streaming_df.select(from_json(col(\"value\"), schema).alias(\"data\"))\n",
    "    json_df = json_df.selectExpr(\"explode(data) as dict\").select(\"dict.*\")\n",
    "    writing_df = json_df.writeStream.format(\"memory\").queryName(\"socketData\").outputMode(\"update\").start()\n",
    "    static_stream_df = spark.sql(\"SELECT * FROM socketData\")\n",
    "    static_df = static_df.union(static_stream_df)\n",
    "    writing_df.awaitTermination(2)\n",
    "    writing_df.stop()\n",
    "    n += 1\n",
    "    if static_df.count() > 20:\n",
    "        static_df.write.mode('append').parquet('/raw/data_raw.parquet')\n",
    "        static_df = spark.createDataFrame([], static_schema)\n",
    "    time.sleep(5)"
   ]
  },
  {
   "cell_type": "code",
   "execution_count": 101,
   "id": "7bc91841-026d-4ba2-a32c-68fb269c5fee",
   "metadata": {},
   "outputs": [
    {
     "name": "stdout",
     "output_type": "stream",
     "text": [
      "Tabla estatica: 132\n",
      "+------------------+------------------+-------------------+-----------+-----------+-----------------+------------------------------------+\n",
      "|latitude          |longitude         |date               |customer_id|employee_id|quantity_products|order_id                            |\n",
      "+------------------+------------------+-------------------+-----------+-----------+-----------------+------------------------------------+\n",
      "|6.25793920439463  |-75.52284945246791|19/06/2024 20:52:47|8647       |1473       |92               |d8b9b417-b098-4344-b137-362894e4dcep|\n",
      "|6.183064659371221 |-75.67390941700788|19/06/2024 04:48:54|2354       |9435       |60               |d8b9b417-b098-4344-b137-362894e4dcep|\n",
      "|6.198929982040268 |-75.68510755820814|19/06/2024 20:52:47|8505       |2470       |147              |d8b9b417-b098-4344-b137-362894e4dceo|\n",
      "|6.230269129471986 |-75.6407396896264 |19/06/2024 04:48:54|3340       |2232       |89               |d8b9b417-b098-4344-b137-362894e4dceo|\n",
      "|6.318428279847346 |-75.64791365270706|19/06/2024 04:48:54|4353       |1679       |177              |d8b9b417-b098-4344-b137-362894e4dcen|\n",
      "|6.344544234313163 |-75.71678879836861|19/06/2024 20:52:47|5065       |6337       |-6               |d8b9b417-b098-4344-b137-362894e4dcen|\n",
      "|6.238013358450878 |-75.58127093238693|19/06/2024 20:52:47|9443       |9435       |143              |d8b9b417-b098-4344-b137-362894e4dcem|\n",
      "|6.24987455202094  |-75.50597618548768|19/06/2024 04:48:54|3545       |1473       |1                |d8b9b417-b098-4344-b137-362894e4dcem|\n",
      "|6.20255803740119  |-75.65086617693987|19/06/2024 20:52:40|7494       |2470       |90               |d8b9b417-b098-4344-b137-362894e4dcel|\n",
      "|6.287970854766344 |-75.6795794745463 |19/06/2024 04:48:47|4969       |9435       |186              |d8b9b417-b098-4344-b137-362894e4dcel|\n",
      "|6.263568575260895 |-75.54660871176017|19/06/2024 20:52:40|3268       |5668       |204              |d8b9b417-b098-4344-b137-362894e4dcek|\n",
      "|6.2405476645618405|-75.57185997130067|19/06/2024 04:48:47|9098       |9438       |61               |d8b9b417-b098-4344-b137-362894e4dcek|\n",
      "|6.280739991021422 |-75.5846195701715 |19/06/2024 20:52:40|9673       |9726       |151              |d8b9b417-b098-4344-b137-362894e4dcej|\n",
      "|6.352825557153189 |-75.6585362469849 |19/06/2024 04:48:39|2841       |8362       |156              |d8b9b417-b098-4344-b137-362894e4dcej|\n",
      "|6.224322957280546 |-75.58642359642037|19/06/2024 04:48:32|3251       |6337       |84               |d8b9b417-b098-4344-b137-362894e4dcei|\n",
      "|6.2405218067057495|-75.66427448958446|19/06/2024 20:52:32|5560       |1561       |8                |d8b9b417-b098-4344-b137-362894e4dcei|\n",
      "|6.230929805559059 |-75.62234531571421|19/06/2024 04:48:25|2068       |9726       |50               |d8b9b417-b098-4344-b137-362894e4dceh|\n",
      "|6.230956695217333 |-75.48160388853223|19/06/2024 20:52:32|6374       |9726       |41               |d8b9b417-b098-4344-b137-362894e4dceh|\n",
      "|6.229691729709528 |-75.49531124098976|19/06/2024 20:52:25|6976       |1482       |98               |d8b9b417-b098-4344-b137-362894e4dceg|\n",
      "|6.24828320958275  |-75.69458267099908|19/06/2024 04:48:25|5716       |3830       |136              |d8b9b417-b098-4344-b137-362894e4dceg|\n",
      "+------------------+------------------+-------------------+-----------+-----------+-----------------+------------------------------------+\n",
      "only showing top 20 rows\n",
      "\n"
     ]
    }
   ],
   "source": [
    "df = spark.read.parquet(\"/raw/data_raw.parquet\")\n",
    "print(\"Tabla estatica:\", df.count())\n",
    "df = df.orderBy(desc(\"order_id\"))\n",
    "df.show(truncate=False)"
   ]
  },
  {
   "cell_type": "code",
   "execution_count": 102,
   "id": "22682611-af0e-41c0-80d1-d34f9abe3202",
   "metadata": {},
   "outputs": [],
   "source": [
    "paths = [\n",
    "    'file:///workspace/base.data/50001.parquet',\n",
    "    'file:///workspace/base.data/customers.parquet',\n",
    "    'file:///workspace/base.data/employees.parquet',\n",
    "    'file:///workspace/base.data/medellin_neighborhoods.parquet'\n",
    "]\n",
    "\n",
    "hdfs_destination = \"hdfs:///raw/\"\n"
   ]
  },
  {
   "cell_type": "markdown",
   "id": "a1cead0c-e4c1-49c0-9f54-651797912c0a",
   "metadata": {},
   "source": [
    "Función para mover archivos a HDFS"
   ]
  },
  {
   "cell_type": "code",
   "execution_count": 103,
   "id": "d31f572f-276e-48e7-99bc-d0d6753346da",
   "metadata": {},
   "outputs": [
    {
     "name": "stdout",
     "output_type": "stream",
     "text": [
      "Archivo 50001.parquet movido a hdfs:///raw/\n",
      "Archivo customers.parquet movido a hdfs:///raw/\n",
      "Archivo employees.parquet movido a hdfs:///raw/\n",
      "Archivo medellin_neighborhoods.parquet movido a hdfs:///raw/\n"
     ]
    }
   ],
   "source": [
    "def move_to_hdfs(file_paths, hdfs_dest):\n",
    "    for path in file_paths:\n",
    "        # Leer el archivo local\n",
    "        df = spark.read.parquet(path)\n",
    "        \n",
    "        # Extraer el nombre del archivo para usarlo como nombre de archivo en HDFS\n",
    "        file_name = path.split(\"/\")[-1]\n",
    "        \n",
    "        # Escribir en HDFS\n",
    "        df.write.parquet(hdfs_dest + file_name, mode=\"overwrite\")\n",
    "        \n",
    "        print(f\"Archivo {file_name} movido a {hdfs_dest}\")\n",
    "\n",
    "# Llamar a la función para mover archivos\n",
    "move_to_hdfs(paths, hdfs_destination)\n"
   ]
  },
  {
   "cell_type": "markdown",
   "id": "d567b18a-0342-4d60-99d0-feed8d701250",
   "metadata": {},
   "source": [
    "Listar Archivos en HDFS desde Python"
   ]
  },
  {
   "cell_type": "code",
   "execution_count": 104,
   "id": "fb908d92-2fbc-4e73-b2ce-46aaa47e3b0b",
   "metadata": {},
   "outputs": [
    {
     "name": "stdout",
     "output_type": "stream",
     "text": [
      "Found 5 items\n",
      "drwxr-xr-x   - root supergroup          0 2024-06-19 20:56 /raw/50001.parquet\n",
      "drwxr-xr-x   - root supergroup          0 2024-06-19 20:56 /raw/customers.parquet\n",
      "drwxr-xr-x   - root supergroup          0 2024-06-19 20:52 /raw/data_raw.parquet\n",
      "drwxr-xr-x   - root supergroup          0 2024-06-19 20:56 /raw/employees.parquet\n",
      "drwxr-xr-x   - root supergroup          0 2024-06-19 20:56 /raw/medellin_neighborhoods.parquet\n",
      "\n"
     ]
    }
   ],
   "source": [
    "from subprocess import Popen, PIPE\n",
    "\n",
    "# Comando para listar archivos en HDFS\n",
    "command = ['hadoop', 'fs', '-ls', '/raw']\n",
    "\n",
    "# Ejecutar el comando y capturar la salida\n",
    "process = Popen(command, stdout=PIPE, stderr=PIPE)\n",
    "stdout, stderr = process.communicate()\n",
    "\n",
    "# Decodificar la salida y mostrarla\n",
    "output = stdout.decode()\n",
    "print(output)\n"
   ]
  },
  {
   "cell_type": "code",
   "execution_count": 105,
   "id": "bed29a1c-40a1-4e7c-a5f4-c401b4efac16",
   "metadata": {},
   "outputs": [],
   "source": [
    "# Definir la ruta base en HDFS\n",
    "hdfs_base_path = 'hdfs://localhost:9000/raw'\n",
    "\n",
    "# Leer cada archivo Parquet\n",
    "df_50001 = spark.read.parquet(hdfs_base_path + '/50001.parquet')\n",
    "df_customers = spark.read.parquet(hdfs_base_path + '/customers.parquet')\n",
    "df_data_raw = spark.read.parquet(hdfs_base_path + '/data_raw.parquet')\n",
    "df_employees = spark.read.parquet(hdfs_base_path + '/employees.parquet')\n",
    "df_neighborhoods = spark.read.parquet(hdfs_base_path + '/medellin_neighborhoods.parquet')\n"
   ]
  },
  {
   "cell_type": "code",
   "execution_count": 106,
   "id": "c7630fa9-7da8-404b-93bb-dac0f77aaabc",
   "metadata": {},
   "outputs": [
    {
     "name": "stdout",
     "output_type": "stream",
     "text": [
      "+------------------+------------------+-------------------+-----------+-----------+-----------------+--------------------+\n",
      "|          latitude|         longitude|               date|customer_id|employee_id|quantity_products|            order_id|\n",
      "+------------------+------------------+-------------------+-----------+-----------+-----------------+--------------------+\n",
      "| 6.264198325828029|-75.70341889601379|19/06/2024 20:51:02|       7041|       9438|              135|d8b9b417-b098-434...|\n",
      "| 6.186075326766365| -75.5543462599129|19/06/2024 20:51:55|       9869|       9438|              104|d8b9b417-b098-434...|\n",
      "|6.3031184264160895| -75.6061881263135|19/06/2024 20:50:01|       6121|       1679|               78|d8b9b417-b098-434...|\n",
      "| 6.213752084841632| -75.6560596963381|19/06/2024 04:45:56|       5370|       6659|              179|d8b9b417-b098-434...|\n",
      "| 6.256734161883117|-75.65165960270286|19/06/2024 04:46:48|       5670|       1737|               44|d8b9b417-b098-434...|\n",
      "|6.2937101019925565|-75.55845630604685|19/06/2024 04:47:56|       5024|       9726|              116|d8b9b417-b098-434...|\n",
      "|6.2571277079857595|-75.58532326909435|19/06/2024 20:51:02|       7305|       2232|              106|d8b9b417-b098-434...|\n",
      "| 6.205638533075326|-75.62882804888227|19/06/2024 20:51:55|       2561|       5668|               -2|d8b9b417-b098-434...|\n",
      "| 6.230532427919653|-75.50037567966193|19/06/2024 20:50:01|       9526|       2232|              161|d8b9b417-b098-434...|\n",
      "| 6.302201026317701|-75.55336296623393|19/06/2024 04:45:56|       5414|       3455|               93|d8b9b417-b098-434...|\n",
      "+------------------+------------------+-------------------+-----------+-----------+-----------------+--------------------+\n",
      "only showing top 10 rows\n",
      "\n"
     ]
    }
   ],
   "source": [
    "df_data_raw.show(10)\n"
   ]
  },
  {
   "cell_type": "code",
   "execution_count": 107,
   "id": "eac3290d-5258-45ee-a039-224c05bba946",
   "metadata": {},
   "outputs": [
    {
     "name": "stdout",
     "output_type": "stream",
     "text": [
      "+--------+----------+----------+----------+----------+--------------------+\n",
      "|DPTOMPIO|DPTO_CCDGO|MPIO_CCDGO|MPIO_CNMBR|MPIO_CCNCT|            geometry|\n",
      "+--------+----------+----------+----------+----------+--------------------+\n",
      "|   05001|        05|       001|  MEDELLÍN|     05001|[01 03 00 00 00 0...|\n",
      "+--------+----------+----------+----------+----------+--------------------+\n",
      "\n"
     ]
    }
   ],
   "source": [
    "df_50001.show()"
   ]
  },
  {
   "cell_type": "code",
   "execution_count": 108,
   "id": "fdd6a694-b8e7-44e9-a8ce-8f047ef110e0",
   "metadata": {},
   "outputs": [
    {
     "name": "stdout",
     "output_type": "stream",
     "text": [
      "+--------+------+----------+--------------+-----------------+---------------------------+--------------+----------------+------------------+--------------------+\n",
      "|OBJECTID|CODIGO|    NOMBRE|IDENTIFICACION|LIMITEMUNICIPIOID|SUBTIPO_COMUNACORREGIMIENTO|LINK_DOCUMENTO|       SHAPEAREA|          SHAPELEN|            geometry|\n",
      "+--------+------+----------+--------------+-----------------+---------------------------+--------------+----------------+------------------+--------------------+\n",
      "|     321|    01|   POPULAR|      COMUNA 1|              001|                          1|          null|3098289.60257159| 9604.987826371042|[01 03 00 00 00 0...|\n",
      "|     322|    02|SANTA CRUZ|      COMUNA 2|              001|                          1|          null|2195874.52580248| 8597.714448746181|[01 03 00 00 00 0...|\n",
      "|     323|    03|  MANRIQUE|      COMUNA 3|              001|                          1|          null|5096746.29132065|  12078.2371083362|[01 03 00 00 00 0...|\n",
      "|     324|    04|  ARANJUEZ|      COMUNA 4|              001|                          1|          null|4883731.20686567|  9643.08926478059|[01 03 00 00 00 0...|\n",
      "|     325|    05|  CASTILLA|      COMUNA 5|              001|                          1|          null|6064367.05380115|16098.614898044401|[01 03 00 00 00 0...|\n",
      "+--------+------+----------+--------------+-----------------+---------------------------+--------------+----------------+------------------+--------------------+\n",
      "only showing top 5 rows\n",
      "\n"
     ]
    }
   ],
   "source": [
    "df_neighborhoods.show(5)"
   ]
  },
  {
   "cell_type": "code",
   "execution_count": 109,
   "id": "873d1b36-03c8-40ce-9339-c46d9f0b4e41",
   "metadata": {},
   "outputs": [
    {
     "name": "stdout",
     "output_type": "stream",
     "text": [
      "+-----------+----------------+--------------+--------------------+--------------------+---------+\n",
      "|employee_id|            name|         phone|               email|             address|comission|\n",
      "+-----------+----------------+--------------+--------------------+--------------------+---------+\n",
      "|       3830|Shaeleigh Turner|1-382-217-5724|pellentesque.ultr...| Ap #497-3659 Eu St.|     0.06|\n",
      "|       8362|  Catherine King|1-721-878-1085|  sed@localstack.com|Ap #897-2636 Enim...|     0.07|\n",
      "|       6696|    Patricia Cox|1-265-643-2312|imperdiet.erat.no...|Ap #775-1599 Sed Av.|     0.04|\n",
      "|       1482|   Elijah Parker|1-960-392-6387|blandit.congue@lo...|P.O. Box 351, 382...|     0.13|\n",
      "|       9435|    Ryan Nichols|1-746-416-6687|porttitor.tellus....|P.O. Box 829, 407...|     0.18|\n",
      "+-----------+----------------+--------------+--------------------+--------------------+---------+\n",
      "only showing top 5 rows\n",
      "\n"
     ]
    }
   ],
   "source": [
    "df_employees.show(5)"
   ]
  },
  {
   "cell_type": "code",
   "execution_count": 110,
   "id": "7596947a-b3a2-4faa-90b3-74660dea0a49",
   "metadata": {},
   "outputs": [
    {
     "name": "stdout",
     "output_type": "stream",
     "text": [
      "root\n",
      " |-- latitude: double (nullable = true)\n",
      " |-- longitude: double (nullable = true)\n",
      " |-- date: string (nullable = true)\n",
      " |-- customer_id: integer (nullable = true)\n",
      " |-- employee_id: integer (nullable = true)\n",
      " |-- quantity_products: integer (nullable = true)\n",
      " |-- order_id: string (nullable = true)\n",
      "\n",
      "La cantidad de eventos es: 132\n"
     ]
    }
   ],
   "source": [
    "# Mostrar el esquema del DataFrame\n",
    "df_data_raw.printSchema()\n",
    "\n",
    "# Contar la cantidad de eventos\n",
    "event_count = df_data_raw.count()\n",
    "# Mostrar la cantidad de eventos\n",
    "print(f\"La cantidad de eventos es: {event_count}\")"
   ]
  },
  {
   "cell_type": "code",
   "execution_count": 111,
   "id": "e523b73c-f8d8-43db-90ff-c10cc6c033fc",
   "metadata": {},
   "outputs": [],
   "source": [
    "#Dejar las tablas en bronze con HIVE\n",
    "from pyspark.sql import SparkSession\n",
    "\n",
    "spark = SparkSession.builder \\\n",
    "    .appName(\"Spark SQL Hive Integration\") \\\n",
    "    .config(\"spark.sql.warehouse.dir\", \"/user/hive/warehouse\") \\\n",
    "    .enableHiveSupport() \\\n",
    "    .getOrCreate()"
   ]
  },
  {
   "cell_type": "code",
   "execution_count": 112,
   "id": "e76937de-511a-4a03-ad80-be2f86f5f782",
   "metadata": {},
   "outputs": [],
   "source": [
    "# Aumentar el límite de la tasa de datos de IOPub\n",
    "from notebook.services.config import ConfigManager\n",
    "cm = ConfigManager().update('notebook', {\n",
    "    'ServerApp': {\n",
    "        'iopub_data_rate_limit': 10000000\n",
    "    }\n",
    "})\n"
   ]
  },
  {
   "cell_type": "code",
   "execution_count": 113,
   "id": "08dd74a7-a3ff-4677-9f10-d81c5a1588e6",
   "metadata": {},
   "outputs": [
    {
     "data": {
      "text/plain": [
       "DataFrame[]"
      ]
     },
     "execution_count": 113,
     "metadata": {},
     "output_type": "execute_result"
    }
   ],
   "source": [
    "# Crear la base de datos bronze si no existe\n",
    "spark.sql(\"CREATE DATABASE IF NOT EXISTS bronze\")"
   ]
  },
  {
   "cell_type": "code",
   "execution_count": 114,
   "id": "3d407f02-a261-4837-8a92-6ad43b33cb01",
   "metadata": {},
   "outputs": [],
   "source": [
    "# Guardar los datos como una tabla en la base de datos bronze\n",
    "df_data_raw.write.mode('overwrite').saveAsTable('bronze.almacenamiento_bronze')"
   ]
  },
  {
   "cell_type": "code",
   "execution_count": 115,
   "id": "49a93d43-92f8-43c3-adb9-19478b6bda83",
   "metadata": {},
   "outputs": [
    {
     "name": "stdout",
     "output_type": "stream",
     "text": [
      "+------------------+------------------+-------------------+-----------+-----------+-----------------+------------------------------------+\n",
      "|latitude          |longitude         |date               |customer_id|employee_id|quantity_products|order_id                            |\n",
      "+------------------+------------------+-------------------+-----------+-----------+-----------------+------------------------------------+\n",
      "|6.207646785033583 |-75.67205276992796|19/06/2024 04:48:11|3118       |3455       |47               |d8b9b417-b098-4344-b137-362894e4dcea|\n",
      "|6.194005736634873 |-75.55700426663965|19/06/2024 20:51:17|9678       |3830       |24               |d8b9b417-b098-4344-b137-362894e4dcdd|\n",
      "|6.260501418879362 |-75.53895438134626|19/06/2024 20:52:10|7459       |1561       |90               |d8b9b417-b098-4344-b137-362894e4dcea|\n",
      "|6.272821397970896 |-75.70678988842589|19/06/2024 20:50:16|1215       |9435       |111              |d8b9b417-b098-4344-b137-362894e4dcci|\n",
      "|6.352380414515474 |-75.67248169490588|19/06/2024 04:46:03|4838       |1561       |111              |d8b9b417-b098-4344-b137-362894e4dcci|\n",
      "|6.217922484518395 |-75.56662923399179|19/06/2024 04:47:10|3572       |3830       |169              |d8b9b417-b098-4344-b137-362894e4dcdd|\n",
      "|6.251752110133688 |-75.56613171297177|19/06/2024 04:48:11|3118       |6337       |59               |d8b9b417-b098-4344-b137-362894e4dceb|\n",
      "|6.215307927629603 |-75.6505491551952 |19/06/2024 04:47:40|3522       |6659       |65               |d8b9b417-b098-4344-b137-362894e4dcdp|\n",
      "|6.318428279847346 |-75.64791365270706|19/06/2024 04:48:54|4353       |1679       |177              |d8b9b417-b098-4344-b137-362894e4dcen|\n",
      "|6.260071553334424 |-75.51579176978792|19/06/2024 20:51:40|3802       |9726       |17               |d8b9b417-b098-4344-b137-362894e4dcdq|\n",
      "|6.344544234313163 |-75.71678879836861|19/06/2024 20:52:47|5065       |6337       |-6               |d8b9b417-b098-4344-b137-362894e4dcen|\n",
      "|6.2731491873694605|-75.69789634036069|19/06/2024 20:50:54|1317       |1737       |175              |d8b9b417-b098-4344-b137-362894e4dccv|\n",
      "|6.268207620897693 |-75.57372487134396|19/06/2024 04:46:40|8535       |9726       |104              |d8b9b417-b098-4344-b137-362894e4dccv|\n",
      "|6.329015662123116 |-75.68247861144998|19/06/2024 04:47:40|9481       |9726       |143              |d8b9b417-b098-4344-b137-362894e4dcdq|\n",
      "|6.2905982356941115|-75.50226629461086|19/06/2024 04:46:18|3864       |3830       |77               |d8b9b417-b098-4344-b137-362894e4dccm|\n",
      "|6.354383441104902 |-75.7069034349467 |19/06/2024 04:47:18|3902       |2470       |142              |d8b9b417-b098-4344-b137-362894e4dcdh|\n",
      "|6.224645463106296 |-75.63444069642033|19/06/2024 04:48:25|2566       |2470       |111              |d8b9b417-b098-4344-b137-362894e4dcef|\n",
      "|6.197096826876844 |-75.53479128091755|19/06/2024 20:51:25|2666       |6696       |111              |d8b9b417-b098-4344-b137-362894e4dcdi|\n",
      "|6.266131846942806 |-75.49771910138955|19/06/2024 20:52:17|9176       |6337       |-10              |d8b9b417-b098-4344-b137-362894e4dcef|\n",
      "|6.221309153021699 |-75.51602381980412|19/06/2024 20:50:32|5522       |6337       |120              |d8b9b417-b098-4344-b137-362894e4dccn|\n",
      "+------------------+------------------+-------------------+-----------+-----------+-----------------+------------------------------------+\n",
      "only showing top 20 rows\n",
      "\n"
     ]
    }
   ],
   "source": [
    "# Verificar que la tabla está guardada en almacenamiento_bronze\n",
    "spark.sql(\"SELECT * FROM bronze.almacenamiento_bronze\").show(truncate=False)"
   ]
  },
  {
   "cell_type": "code",
   "execution_count": 116,
   "id": "6d426422-c8cf-4ff2-b69c-357fab7f5a9b",
   "metadata": {},
   "outputs": [],
   "source": [
    "# Crear la base de datos bronze si no existe\n",
    "spark.sql(\"CREATE DATABASE IF NOT EXISTS bronze\")\n",
    "# Guardar los datos como una tabla en la base de datos municipio\n",
    "df_50001.write.mode('overwrite').saveAsTable('bronze.municipio')\n",
    "# Verificar que la tabla está guardada en municipio\n",
    "#spark.sql(\"SELECT * FROM bronze.municipio\").show(truncate=False, n=20)\n"
   ]
  },
  {
   "cell_type": "code",
   "execution_count": 117,
   "id": "b6ff64eb-71a2-4976-9ba6-3cb37b9b2330",
   "metadata": {},
   "outputs": [
    {
     "name": "stdout",
     "output_type": "stream",
     "text": [
      "+------+----------+--------------+-----------------+---------------------------+\n",
      "|CODIGO|NOMBRE    |IDENTIFICACION|LIMITEMUNICIPIOID|SUBTIPO_COMUNACORREGIMIENTO|\n",
      "+------+----------+--------------+-----------------+---------------------------+\n",
      "|01    |POPULAR   |COMUNA 1      |001              |1                          |\n",
      "|02    |SANTA CRUZ|COMUNA 2      |001              |1                          |\n",
      "|03    |MANRIQUE  |COMUNA 3      |001              |1                          |\n",
      "|04    |ARANJUEZ  |COMUNA 4      |001              |1                          |\n",
      "|05    |CASTILLA  |COMUNA 5      |001              |1                          |\n",
      "+------+----------+--------------+-----------------+---------------------------+\n",
      "only showing top 5 rows\n",
      "\n"
     ]
    }
   ],
   "source": [
    "# Crear la base de datos bronze si no existe\n",
    "spark.sql(\"CREATE DATABASE IF NOT EXISTS bronze\")\n",
    "# Guardar los datos como una tabla en la base de datos neighborhoods\n",
    "df_neighborhoods.write.mode('overwrite').saveAsTable('bronze.neighborhoods')\n",
    "# Verificar que la tabla está guardada en barrios y mostrar solo las primeras 20 filas de algunas columnas\n",
    "spark.sql(\"SELECT CODIGO, NOMBRE, IDENTIFICACION, LIMITEMUNICIPIOID,SUBTIPO_COMUNACORREGIMIENTO  FROM bronze.neighborhoods\").show(truncate=False, n=5)\n"
   ]
  },
  {
   "cell_type": "code",
   "execution_count": 118,
   "id": "fbaf02e1-5d22-49b5-ad0a-631ec350bb40",
   "metadata": {},
   "outputs": [
    {
     "name": "stdout",
     "output_type": "stream",
     "text": [
      "+-----------+--------------------+--------------+------------------------------+-------------------------------+\n",
      "|customer_id|name                |phone         |email                         |address                        |\n",
      "+-----------+--------------------+--------------+------------------------------+-------------------------------+\n",
      "|4758       |Callie Reyes        |1-765-410-5785|magnis.dis@protonmail.ca      |151-4553 Interdum Road         |\n",
      "|5379       |Elizabeth Washington|1-955-634-5542|vel@google.edu                |4063 Nunc St.                  |\n",
      "|8111       |Hasad Wright        |1-324-830-5595|sed.auctor@aol.org            |Ap #625-8512 Non Rd.           |\n",
      "|9258       |Kirk Watts          |1-578-784-1146|laoreet.ipsum@protonmail.org  |211-2213 Pede St.              |\n",
      "|9142       |Cally Robbins       |1-887-472-0478|at.augue.id@google.com        |Ap #287-6324 A, Av.            |\n",
      "|5041       |Benedict Underwood  |1-138-146-9856|ante.ipsum@yahoo.ca           |2927 Velit Rd.                 |\n",
      "|4082       |Maite Frye          |1-978-891-2669|felis.ullamcorper@yahoo.org   |P.O. Box 304, 9982 Fusce Avenue|\n",
      "|7169       |John Austin         |1-110-466-4233|sit.amet.risus@yahoo.net      |4152 Nec Av.                   |\n",
      "|8481       |Janna Luna          |1-766-272-8164|donec.tincidunt@icloud.net    |Ap #411-662 Cum St.            |\n",
      "|9956       |Fritz Reid          |1-424-372-6261|malesuada@outlook.net         |308-2145 Neque. Ave            |\n",
      "|9867       |Alden Kerr          |1-246-193-8421|dolor@outlook.couk            |Ap #864-5025 Ipsum St.         |\n",
      "|8920       |Guinevere Ratliff   |1-601-313-7068|sed@protonmail.ca             |Ap #492-6216 Purus. Rd.        |\n",
      "|9534       |Thor Donaldson      |1-234-408-7380|rutrum@outlook.com            |Ap #655-1719 Sagittis St.      |\n",
      "|6693       |Jakeem Sargent      |1-151-736-7234|vitae.aliquam.eros@outlook.com|Ap #937-1675 Eu, Avenue        |\n",
      "|5363       |Knox Best           |1-768-521-2260|nunc.id@hotmail.com           |Ap #145-4692 Quis Street       |\n",
      "|5582       |Emily Carr          |1-820-241-7872|vel@protonmail.couk           |3036 Sit Rd.                   |\n",
      "|1215       |Chancellor Hurley   |1-546-281-1855|eget.volutpat@yahoo.com       |684-6633 Nec St.               |\n",
      "|2082       |Dean Fischer        |1-537-215-3226|accumsan@icloud.net           |242-770 Per Av.                |\n",
      "|5405       |Mariko Jacobson     |1-834-652-1855|risus.donec@icloud.net        |423-3881 Nisl. Road            |\n",
      "|1965       |Dustin Powers       |1-615-360-3967|erat.eget@protonmail.org      |Ap #959-5827 Malesuada Av.     |\n",
      "+-----------+--------------------+--------------+------------------------------+-------------------------------+\n",
      "only showing top 20 rows\n",
      "\n"
     ]
    }
   ],
   "source": [
    "# Crear la base de datos bronze si no existe\n",
    "spark.sql(\"CREATE DATABASE IF NOT EXISTS bronze\")\n",
    "# Guardar los datos como una tabla en la base de datos clientes\n",
    "df_customers.write.mode('overwrite').saveAsTable('bronze.customers')\n",
    "# Verificar que la tabla está guardada en clientes\n",
    "spark.sql(\"SELECT * FROM bronze.customers\").show(truncate=False)"
   ]
  },
  {
   "cell_type": "code",
   "execution_count": 119,
   "id": "71e86519-8ca1-46db-96ea-75f682a55fc2",
   "metadata": {},
   "outputs": [
    {
     "name": "stdout",
     "output_type": "stream",
     "text": [
      "+-----------+-----------------+--------------+--------------------------------------+-----------------------------+---------+\n",
      "|employee_id|name             |phone         |email                                 |address                      |comission|\n",
      "+-----------+-----------------+--------------+--------------------------------------+-----------------------------+---------+\n",
      "|3830       |Shaeleigh Turner |1-382-217-5724|pellentesque.ultricies@localstack.com |Ap #497-3659 Eu St.          |0.06     |\n",
      "|8362       |Catherine King   |1-721-878-1085|sed@localstack.com                    |Ap #897-2636 Enim Av.        |0.07     |\n",
      "|6696       |Patricia Cox     |1-265-643-2312|imperdiet.erat.nonummy@localstack.com |Ap #775-1599 Sed Av.         |0.04     |\n",
      "|1482       |Elijah Parker    |1-960-392-6387|blandit.congue@localstack.com         |P.O. Box 351, 3827 Dolor. Ave|0.13     |\n",
      "|9435       |Ryan Nichols     |1-746-416-6687|porttitor.tellus.non@localstack.com   |P.O. Box 829, 4074 Et Rd.    |0.18     |\n",
      "|4750       |Howard Guthrie   |1-411-714-2257|donec.luctus@localstack.com           |719-3465 Sagittis St.        |0.16     |\n",
      "|5668       |Melanie Ball     |1-642-654-0825|mi@localstack.com                     |Ap #491-4951 Rutrum Avenue   |0.18     |\n",
      "|1473       |Celeste Johns    |1-164-659-1664|quisque.ac@localstack.com             |8081 Dapibus Rd.             |0.07     |\n",
      "|9726       |Christen Hamilton|1-837-188-3723|proin.eget.odio@localstack.com        |265-4608 Ut Road             |0.17     |\n",
      "|1561       |Amelia Nolan     |1-638-262-0243|arcu.vestibulum@localstack.com        |7114 Tincidunt Av.           |0.09     |\n",
      "|9438       |Dacey Barr       |1-129-332-2987|in.consectetuer.ipsum@localstack.com  |351-2943 Maecenas Rd.        |0.02     |\n",
      "|1737       |Althea Mckenzie  |1-472-806-5180|cum.sociis@localstack.com             |Ap #530-6235 Vestibulum St.  |0.13     |\n",
      "|1679       |Darius Greer     |1-456-650-5173|blandit@localstack.com                |207-6885 Aliquam St.         |0.04     |\n",
      "|6659       |Melinda Le       |1-842-714-5612|turpis.nulla@localstack.com           |448-8729 Elit. Av.           |0.06     |\n",
      "|1114       |Bevis Sanford    |1-581-141-6488|aliquam.ornare.libero@localstack.com  |Ap #863-9016 Dolor St.       |0.14     |\n",
      "|2470       |Ori Tucker       |1-260-486-5538|nisl.maecenas.malesuada@localstack.com|P.O. Box 130, 746 Libero. Rd.|0.1      |\n",
      "|2232       |Forrest Bradley  |1-781-609-6287|enim.mauris@localstack.com            |994-5433 Sem Av.             |0.07     |\n",
      "|6337       |Phyllis Hubbard  |1-422-851-1159|in.at.pede@localstack.com             |4850 In Av.                  |0.1      |\n",
      "|3455       |Davis Jenkins    |1-561-441-2126|justo.proin@localstack.com            |3600 Blandit St.             |0.13     |\n",
      "|4942       |Sydnee Kirby     |1-347-675-1366|sem@localstack.com                    |543-6641 Nec Ave             |0.16     |\n",
      "+-----------+-----------------+--------------+--------------------------------------+-----------------------------+---------+\n",
      "\n"
     ]
    }
   ],
   "source": [
    "# Crear la base de datos bronze si no existe\n",
    "spark.sql(\"CREATE DATABASE IF NOT EXISTS bronze\")\n",
    "# Guardar los datos como una tabla en la base de datos empleados\n",
    "df_employees.write.mode('overwrite').saveAsTable('bronze.employees')\n",
    "# Verificar que la tabla está guardada en empleados\n",
    "spark.sql(\"SELECT * FROM bronze.employees\").show(truncate=False)"
   ]
  },
  {
   "cell_type": "markdown",
   "id": "7a7dd1bb-d59c-40fc-a12b-a21a20886f99",
   "metadata": {},
   "source": [
    "# En Bronze se dejaron las tablas en Hive: nombre BD= bronze con tablas 1.almacenamiento_bronze 2.municipio 3.neighborhoods 4.customers y 5.employees\n",
    "\n",
    "##### CAPA SILVER ###########"
   ]
  },
  {
   "cell_type": "code",
   "execution_count": 120,
   "id": "29f6ce4f-8cc1-4f1f-be4a-0890f11f19fd",
   "metadata": {},
   "outputs": [
    {
     "name": "stdout",
     "output_type": "stream",
     "text": [
      "+--------+--------------------+-----------+\n",
      "|database|           tableName|isTemporary|\n",
      "+--------+--------------------+-----------+\n",
      "|  bronze|almacenamiento_br...|      false|\n",
      "|  bronze|           customers|      false|\n",
      "|  bronze|           employees|      false|\n",
      "|  bronze|           municipio|      false|\n",
      "|  bronze|       neighborhoods|      false|\n",
      "|        |          socketdata|       true|\n",
      "+--------+--------------------+-----------+\n",
      "\n"
     ]
    }
   ],
   "source": [
    "# Listar las tablas en la base de datos eventos_bronze\n",
    "tables_bronze = spark.sql(\"SHOW TABLES IN bronze\")\n",
    "tables_bronze.show()"
   ]
  },
  {
   "cell_type": "code",
   "execution_count": 121,
   "id": "3cdd423c-ac07-4f8a-9357-3754e753b786",
   "metadata": {},
   "outputs": [],
   "source": [
    "from pyspark.sql import SparkSession\n",
    "from pyspark.sql.functions import col, year, to_timestamp, month, dayofmonth, hour, minute, second, date_format\n"
   ]
  },
  {
   "cell_type": "code",
   "execution_count": 122,
   "id": "22f60798-151e-4fe0-bac9-7ad4ed64e138",
   "metadata": {},
   "outputs": [],
   "source": [
    "spark = SparkSession.builder \\\n",
    "    .appName(\"Transformación Bronze a Silver\") \\\n",
    "    .getOrCreate()\n"
   ]
  },
  {
   "cell_type": "code",
   "execution_count": 123,
   "id": "ed117996-3aa9-4501-a000-31f18ee7b7ed",
   "metadata": {},
   "outputs": [],
   "source": [
    "bronze_path_hdfs = 'hdfs://localhost:9000/raw'\n"
   ]
  },
  {
   "cell_type": "code",
   "execution_count": 124,
   "id": "3ffd6009-949c-441a-8285-57122b1c69d5",
   "metadata": {},
   "outputs": [],
   "source": [
    "df_bronze = spark.read.parquet(bronze_path_hdfs + '/data_raw.parquet')\n"
   ]
  },
  {
   "cell_type": "code",
   "execution_count": 137,
   "id": "b98fb83e-878d-4900-815b-da5f965d47a8",
   "metadata": {},
   "outputs": [
    {
     "name": "stdout",
     "output_type": "stream",
     "text": [
      "root\n",
      " |-- latitude: double (nullable = true)\n",
      " |-- longitude: double (nullable = true)\n",
      " |-- date: string (nullable = true)\n",
      " |-- customer_id: integer (nullable = true)\n",
      " |-- employee_id: integer (nullable = true)\n",
      " |-- quantity_products: integer (nullable = true)\n",
      " |-- order_id: string (nullable = true)\n",
      "\n",
      "+------------------+------------------+-------------------+-----------+-----------+-----------------+------------------------------------+\n",
      "|latitude          |longitude         |date               |customer_id|employee_id|quantity_products|order_id                            |\n",
      "+------------------+------------------+-------------------+-----------+-----------+-----------------+------------------------------------+\n",
      "|6.264198325828029 |-75.70341889601379|19/06/2024 20:51:02|7041       |9438       |135              |d8b9b417-b098-4344-b137-362894e4dccx|\n",
      "|6.186075326766365 |-75.5543462599129 |19/06/2024 20:51:55|9869       |9438       |104              |d8b9b417-b098-4344-b137-362894e4dcdu|\n",
      "|6.3031184264160895|-75.6061881263135 |19/06/2024 20:50:01|6121       |1679       |78               |d8b9b417-b098-4344-b137-362894e4dccc|\n",
      "|6.213752084841632 |-75.6560596963381 |19/06/2024 04:45:56|5370       |6659       |179              |d8b9b417-b098-4344-b137-362894e4dccc|\n",
      "|6.256734161883117 |-75.65165960270286|19/06/2024 04:46:48|5670       |1737       |44               |d8b9b417-b098-4344-b137-362894e4dccx|\n",
      "|6.2937101019925565|-75.55845630604685|19/06/2024 04:47:56|5024       |9726       |116              |d8b9b417-b098-4344-b137-362894e4dcdv|\n",
      "|6.2571277079857595|-75.58532326909435|19/06/2024 20:51:02|7305       |2232       |106              |d8b9b417-b098-4344-b137-362894e4dccy|\n",
      "|6.205638533075326 |-75.62882804888227|19/06/2024 20:51:55|2561       |5668       |-2               |d8b9b417-b098-4344-b137-362894e4dcdv|\n",
      "|6.230532427919653 |-75.50037567966193|19/06/2024 20:50:01|9526       |2232       |161              |d8b9b417-b098-4344-b137-362894e4dccd|\n",
      "|6.302201026317701 |-75.55336296623393|19/06/2024 04:45:56|5414       |3455       |93               |d8b9b417-b098-4344-b137-362894e4dccd|\n",
      "+------------------+------------------+-------------------+-----------+-----------+-----------------+------------------------------------+\n",
      "only showing top 10 rows\n",
      "\n"
     ]
    }
   ],
   "source": [
    "df_bronze.printSchema()\n",
    "df_bronze.show(10, truncate=False)\n"
   ]
  },
  {
   "cell_type": "code",
   "execution_count": 138,
   "id": "d1de7620-0c1f-4ad5-adc4-0468b82a8c75",
   "metadata": {},
   "outputs": [
    {
     "name": "stdout",
     "output_type": "stream",
     "text": [
      "mkdir: `/silver': File exists\n"
     ]
    }
   ],
   "source": [
    "!hdfs dfs -mkdir /silver"
   ]
  },
  {
   "cell_type": "markdown",
   "id": "c0f9f806-cbba-41d7-a861-84a17f5c9997",
   "metadata": {},
   "source": [
    "# Definir la ruta base en HDFS para la capa Silver"
   ]
  },
  {
   "cell_type": "code",
   "execution_count": 139,
   "id": "9045fec6-4876-4337-aebe-bee1773b95e1",
   "metadata": {},
   "outputs": [],
   "source": [
    "silver_path_hdfs = \"hdfs://localhost:9000/silver\""
   ]
  },
  {
   "cell_type": "code",
   "execution_count": 140,
   "id": "e90a9a3e-7406-4ddd-97e9-49a823a7e88e",
   "metadata": {},
   "outputs": [
    {
     "name": "stdout",
     "output_type": "stream",
     "text": [
      "root\n",
      " |-- latitude: double (nullable = true)\n",
      " |-- longitude: double (nullable = true)\n",
      " |-- customer_id: integer (nullable = true)\n",
      " |-- employee_id: integer (nullable = true)\n",
      " |-- quantity_products: integer (nullable = true)\n",
      " |-- order_id: string (nullable = true)\n",
      " |-- event_date: timestamp (nullable = true)\n",
      " |-- partition_date: string (nullable = true)\n",
      " |-- event_day: integer (nullable = true)\n",
      " |-- event_hour: integer (nullable = true)\n",
      " |-- event_minute: integer (nullable = true)\n",
      " |-- event_month: integer (nullable = true)\n",
      " |-- event_second: integer (nullable = true)\n",
      " |-- event_year: integer (nullable = true)\n",
      "\n",
      "+------------------+------------------+-----------+-----------+-----------------+------------------------------------+-------------------+--------------+---------+----------+------------+-----------+------------+----------+\n",
      "|latitude          |longitude         |customer_id|employee_id|quantity_products|order_id                            |event_date         |partition_date|event_day|event_hour|event_minute|event_month|event_second|event_year|\n",
      "+------------------+------------------+-----------+-----------+-----------------+------------------------------------+-------------------+--------------+---------+----------+------------+-----------+------------+----------+\n",
      "|6.264198325828029 |-75.70341889601379|7041       |9438       |135              |d8b9b417-b098-4344-b137-362894e4dccx|2024-06-19 20:51:02|19062024      |19       |20        |51          |6          |2           |2024      |\n",
      "|6.186075326766365 |-75.5543462599129 |9869       |9438       |104              |d8b9b417-b098-4344-b137-362894e4dcdu|2024-06-19 20:51:55|19062024      |19       |20        |51          |6          |55          |2024      |\n",
      "|6.3031184264160895|-75.6061881263135 |6121       |1679       |78               |d8b9b417-b098-4344-b137-362894e4dccc|2024-06-19 20:50:01|19062024      |19       |20        |50          |6          |1           |2024      |\n",
      "|6.213752084841632 |-75.6560596963381 |5370       |6659       |179              |d8b9b417-b098-4344-b137-362894e4dccc|2024-06-19 04:45:56|19062024      |19       |4         |45          |6          |56          |2024      |\n",
      "|6.256734161883117 |-75.65165960270286|5670       |1737       |44               |d8b9b417-b098-4344-b137-362894e4dccx|2024-06-19 04:46:48|19062024      |19       |4         |46          |6          |48          |2024      |\n",
      "|6.2937101019925565|-75.55845630604685|5024       |9726       |116              |d8b9b417-b098-4344-b137-362894e4dcdv|2024-06-19 04:47:56|19062024      |19       |4         |47          |6          |56          |2024      |\n",
      "|6.2571277079857595|-75.58532326909435|7305       |2232       |106              |d8b9b417-b098-4344-b137-362894e4dccy|2024-06-19 20:51:02|19062024      |19       |20        |51          |6          |2           |2024      |\n",
      "|6.205638533075326 |-75.62882804888227|2561       |5668       |-2               |d8b9b417-b098-4344-b137-362894e4dcdv|2024-06-19 20:51:55|19062024      |19       |20        |51          |6          |55          |2024      |\n",
      "|6.230532427919653 |-75.50037567966193|9526       |2232       |161              |d8b9b417-b098-4344-b137-362894e4dccd|2024-06-19 20:50:01|19062024      |19       |20        |50          |6          |1           |2024      |\n",
      "|6.302201026317701 |-75.55336296623393|5414       |3455       |93               |d8b9b417-b098-4344-b137-362894e4dccd|2024-06-19 04:45:56|19062024      |19       |4         |45          |6          |56          |2024      |\n",
      "+------------------+------------------+-----------+-----------+-----------------+------------------------------------+-------------------+--------------+---------+----------+------------+-----------+------------+----------+\n",
      "only showing top 10 rows\n",
      "\n"
     ]
    }
   ],
   "source": [
    "# Transformación del DataFrame\n",
    "df_silver = df_bronze.withColumn(\"event_date\", to_timestamp(col(\"date\"), \"dd/MM/yyyy HH:mm:ss\")) \\\n",
    "    .withColumn(\"partition_date\", date_format(col(\"event_date\"), \"ddMMyyyy\")) \\\n",
    "    .withColumn(\"event_day\", dayofmonth(col(\"event_date\"))) \\\n",
    "    .withColumn(\"event_hour\", hour(col(\"event_date\"))) \\\n",
    "    .withColumn(\"event_minute\", minute(col(\"event_date\"))) \\\n",
    "    .withColumn(\"event_month\", month(col(\"event_date\"))) \\\n",
    "    .withColumn(\"event_second\", second(col(\"event_date\"))) \\\n",
    "    .withColumn(\"event_year\", year(col(\"event_date\"))) \\\n",
    "    .withColumnRenamed(\"order_id\", \"order_id\") \\\n",
    "    .withColumnRenamed(\"employee_id\", \"employee_id\") \\\n",
    "    .withColumnRenamed(\"quantity_products\", \"quantity_products\") \\\n",
    "    .withColumnRenamed(\"latitude\", \"latitude\") \\\n",
    "    .withColumnRenamed(\"longitude\", \"longitude\") \\\n",
    "    .withColumnRenamed(\"customer_id\", \"customer_id\")\n",
    "\n",
    "# Eliminar la columna original de fecha si no es necesaria\n",
    "df_silver = df_silver.drop(\"date\")\n",
    "\n",
    "# Mostrar el esquema y las primeras 10 filas\n",
    "df_silver.printSchema()\n",
    "df_silver.show(10, truncate=False)"
   ]
  },
  {
   "cell_type": "code",
   "execution_count": 141,
   "id": "3cc70dc6-3bfc-4681-ae37-93dfcba44af8",
   "metadata": {},
   "outputs": [],
   "source": [
    "# Guardar el DataFrame df_silver en la ruta definida en HDFS\n",
    "df_silver.write.mode(\"overwrite\").parquet(silver_path_hdfs + \"/df_silver\")"
   ]
  },
  {
   "cell_type": "code",
   "execution_count": 142,
   "id": "5c91a065-edd0-42ac-bae7-3e687cf05912",
   "metadata": {},
   "outputs": [
    {
     "name": "stdout",
     "output_type": "stream",
     "text": [
      "++\n",
      "||\n",
      "++\n",
      "++\n",
      "\n"
     ]
    }
   ],
   "source": [
    "# Crear la base de datos silver en Hive\n",
    "tables_silver = spark.sql(\"CREATE DATABASE IF NOT EXISTS silver\")\n",
    "tables_silver.show()"
   ]
  },
  {
   "cell_type": "code",
   "execution_count": 143,
   "id": "e83d857b-28f2-476a-8c9f-4bc1b2e7148c",
   "metadata": {},
   "outputs": [
    {
     "name": "stdout",
     "output_type": "stream",
     "text": [
      "+------------------+------------------+-----------+-----------+-----------------+------------------------------------+-------------------+--------------+---------+----------+------------+-----------+------------+----------+\n",
      "|latitude          |longitude         |customer_id|employee_id|quantity_products|order_id                            |event_date         |partition_date|event_day|event_hour|event_minute|event_month|event_second|event_year|\n",
      "+------------------+------------------+-----------+-----------+-----------------+------------------------------------+-------------------+--------------+---------+----------+------------+-----------+------------+----------+\n",
      "|6.205638533075326 |-75.62882804888227|2561       |5668       |-2               |d8b9b417-b098-4344-b137-362894e4dcdv|2024-06-19 20:51:55|19062024      |19       |20        |51          |6          |55          |2024      |\n",
      "|6.230532427919653 |-75.50037567966193|9526       |2232       |161              |d8b9b417-b098-4344-b137-362894e4dccd|2024-06-19 20:50:01|19062024      |19       |20        |50          |6          |1           |2024      |\n",
      "|6.302201026317701 |-75.55336296623393|5414       |3455       |93               |d8b9b417-b098-4344-b137-362894e4dccd|2024-06-19 04:45:56|19062024      |19       |4         |45          |6          |56          |2024      |\n",
      "|6.196157036838776 |-75.65982129853266|5110       |5668       |197              |d8b9b417-b098-4344-b137-362894e4dccy|2024-06-19 04:46:48|19062024      |19       |4         |46          |6          |48          |2024      |\n",
      "|6.286984249094751 |-75.56313119169856|1906       |9726       |79               |d8b9b417-b098-4344-b137-362894e4dcdw|2024-06-19 04:47:56|19062024      |19       |4         |47          |6          |56          |2024      |\n",
      "|6.241367856073861 |-75.637825563201  |4039       |1737       |94               |d8b9b417-b098-4344-b137-362894e4dccz|2024-06-19 20:51:02|19062024      |19       |20        |51          |6          |2           |2024      |\n",
      "|6.242903980616583 |-75.61844141253732|9004       |6696       |103              |d8b9b417-b098-4344-b137-362894e4dcdw|2024-06-19 20:51:55|19062024      |19       |20        |51          |6          |55          |2024      |\n",
      "|6.264198325828029 |-75.70341889601379|7041       |9438       |135              |d8b9b417-b098-4344-b137-362894e4dccx|2024-06-19 20:51:02|19062024      |19       |20        |51          |6          |2           |2024      |\n",
      "|6.186075326766365 |-75.5543462599129 |9869       |9438       |104              |d8b9b417-b098-4344-b137-362894e4dcdu|2024-06-19 20:51:55|19062024      |19       |20        |51          |6          |55          |2024      |\n",
      "|6.3031184264160895|-75.6061881263135 |6121       |1679       |78               |d8b9b417-b098-4344-b137-362894e4dccc|2024-06-19 20:50:01|19062024      |19       |20        |50          |6          |1           |2024      |\n",
      "|6.213752084841632 |-75.6560596963381 |5370       |6659       |179              |d8b9b417-b098-4344-b137-362894e4dccc|2024-06-19 04:45:56|19062024      |19       |4         |45          |6          |56          |2024      |\n",
      "|6.256734161883117 |-75.65165960270286|5670       |1737       |44               |d8b9b417-b098-4344-b137-362894e4dccx|2024-06-19 04:46:48|19062024      |19       |4         |46          |6          |48          |2024      |\n",
      "|6.2937101019925565|-75.55845630604685|5024       |9726       |116              |d8b9b417-b098-4344-b137-362894e4dcdv|2024-06-19 04:47:56|19062024      |19       |4         |47          |6          |56          |2024      |\n",
      "|6.2571277079857595|-75.58532326909435|7305       |2232       |106              |d8b9b417-b098-4344-b137-362894e4dccy|2024-06-19 20:51:02|19062024      |19       |20        |51          |6          |2           |2024      |\n",
      "|6.207646785033583 |-75.67205276992796|3118       |3455       |47               |d8b9b417-b098-4344-b137-362894e4dcea|2024-06-19 04:48:11|19062024      |19       |4         |48          |6          |11          |2024      |\n",
      "|6.194005736634873 |-75.55700426663965|9678       |3830       |24               |d8b9b417-b098-4344-b137-362894e4dcdd|2024-06-19 20:51:17|19062024      |19       |20        |51          |6          |17          |2024      |\n",
      "|6.260501418879362 |-75.53895438134626|7459       |1561       |90               |d8b9b417-b098-4344-b137-362894e4dcea|2024-06-19 20:52:10|19062024      |19       |20        |52          |6          |10          |2024      |\n",
      "|6.272821397970896 |-75.70678988842589|1215       |9435       |111              |d8b9b417-b098-4344-b137-362894e4dcci|2024-06-19 20:50:16|19062024      |19       |20        |50          |6          |16          |2024      |\n",
      "|6.352380414515474 |-75.67248169490588|4838       |1561       |111              |d8b9b417-b098-4344-b137-362894e4dcci|2024-06-19 04:46:03|19062024      |19       |4         |46          |6          |3           |2024      |\n",
      "|6.217922484518395 |-75.56662923399179|3572       |3830       |169              |d8b9b417-b098-4344-b137-362894e4dcdd|2024-06-19 04:47:10|19062024      |19       |4         |47          |6          |10          |2024      |\n",
      "+------------------+------------------+-----------+-----------+-----------------+------------------------------------+-------------------+--------------+---------+----------+------------+-----------+------------+----------+\n",
      "only showing top 20 rows\n",
      "\n"
     ]
    }
   ],
   "source": [
    "# Crear la base de datos silver si no existe\n",
    "spark.sql(\"CREATE DATABASE IF NOT EXISTS silver\")\n",
    "# Guardar los datos como una tabla en la base de datos silver\n",
    "df_silver.write.mode('overwrite').saveAsTable('silver.silver')\n",
    "# Verificar que la tabla está guardada en empleados\n",
    "spark.sql(\"SELECT * FROM silver.silver\").show(truncate=False)"
   ]
  },
  {
   "cell_type": "code",
   "execution_count": 136,
   "id": "3aa8fcde-1043-41ca-a8b2-6f0844ce4161",
   "metadata": {},
   "outputs": [],
   "source": [
    "#df_silver = df_silver.join(df_communes, on=[df_silver.latitude == df_communes.latitude, df_silver.longitude == df_communes.longitude], how=\"left\") \\\n",
    "#    .select(df_silver[\"*\"], df_communes[\"commune\"], df_communes[\"neighborhood\"]"
   ]
  },
  {
   "cell_type": "markdown",
   "id": "a9c4173c-354d-4bc7-93c9-3d9c99f370b7",
   "metadata": {},
   "source": [
    "# Union (join) "
   ]
  },
  {
   "cell_type": "code",
   "execution_count": 45,
   "id": "92d90966-f53e-4670-9364-c69cd2b07bda",
   "metadata": {},
   "outputs": [],
   "source": [
    "#from pyspark.sql.functions import col\n",
    "\n",
    "# Unir eventos con información de clientes\n",
    "#df_eventos = almacenamiento_bronze.join(\n",
    "    clientes,\n",
    "    almacenamiento_bronze.customer_id == customers.customer_id,\n",
    "    \"left\"\n",
    ").select(\n",
    "    almacenamiento_bronze[\"*\"],  # Seleccionar todos los campos de eventos\n",
    "    customers[\"name\"].alias(\"customer_name\")  # Añadir el nombre del cliente\n",
    ")"
   ]
  },
  {
   "cell_type": "code",
   "execution_count": 46,
   "id": "4f739706-86a5-4192-ad6a-c487dd541dac",
   "metadata": {},
   "outputs": [
    {
     "name": "stdout",
     "output_type": "stream",
     "text": [
      "+-----------------+------------------+-------------------+-----------+-----------+-----------------+------------------------------------+--------------+\n",
      "|latitude         |longitude         |date               |customer_id|employee_id|quantity_products|order_id                            |customer_name |\n",
      "+-----------------+------------------+-------------------+-----------+-----------+-----------------+------------------------------------+--------------+\n",
      "|6.287253619436304|-75.59859567560713|18/06/2024 21:23:57|9723       |3830       |386              |d8b9b417-b098-4344-b137-362894e4dcel|Owen Davenport|\n",
      "|6.203530513155968|-75.63432984287904|18/06/2024 21:22:55|9059       |1561       |593              |d8b9b417-b098-4344-b137-362894e4dccl|Garrett Booth |\n",
      "|6.225420074041011|-75.65419144934765|18/06/2024 21:24:20|3770       |3455       |636              |d8b9b417-b098-4344-b137-362894e4dcfl|Carol Santiago|\n",
      "|6.238686550450639|-75.56815898930817|18/06/2024 21:26:22|9595       |1737       |514              |d8b9b417-b098-4344-b137-362894e4dcki|Indira Chaney |\n",
      "|6.292585887939182|-75.6348551273931 |18/06/2024 21:24:43|7629       |6337       |724              |d8b9b417-b098-4344-b137-362894e4dcgn|Grant Myers   |\n",
      "+-----------------+------------------+-------------------+-----------+-----------+-----------------+------------------------------------+--------------+\n",
      "only showing top 5 rows\n",
      "\n"
     ]
    }
   ],
   "source": [
    "# Mostrar el DataFrame\n",
    "#df_eventos.show(truncate=False, n=5)"
   ]
  },
  {
   "cell_type": "code",
   "execution_count": 47,
   "id": "62f8cef3-b668-4e8e-998f-9e0fbfe005f0",
   "metadata": {},
   "outputs": [
    {
     "name": "stdout",
     "output_type": "stream",
     "text": [
      "root\n",
      " |-- latitude: double (nullable = true)\n",
      " |-- longitude: double (nullable = true)\n",
      " |-- date: string (nullable = true)\n",
      " |-- customer_id: integer (nullable = true)\n",
      " |-- employee_id: integer (nullable = true)\n",
      " |-- quantity_products: integer (nullable = true)\n",
      " |-- order_id: string (nullable = true)\n",
      " |-- customer_name: string (nullable = true)\n",
      "\n"
     ]
    }
   ],
   "source": [
    "df_eventos.printSchema()"
   ]
  },
  {
   "cell_type": "code",
   "execution_count": null,
   "id": "deb268e3-c365-4e6a-a2c6-41c6473a02f6",
   "metadata": {},
   "outputs": [],
   "source": []
  }
 ],
 "metadata": {
  "kernelspec": {
   "display_name": "Python 3 (ipykernel)",
   "language": "python",
   "name": "python3"
  },
  "language_info": {
   "codemirror_mode": {
    "name": "ipython",
    "version": 3
   },
   "file_extension": ".py",
   "mimetype": "text/x-python",
   "name": "python",
   "nbconvert_exporter": "python",
   "pygments_lexer": "ipython3",
   "version": "3.8.10"
  }
 },
 "nbformat": 4,
 "nbformat_minor": 5
}
