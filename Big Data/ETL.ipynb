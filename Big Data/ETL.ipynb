{
 "cells": [
  {
   "cell_type": "code",
   "execution_count": 1,
   "id": "024d4476-fb0e-46c8-ab2c-84447418a6fc",
   "metadata": {},
   "outputs": [],
   "source": [
    "from pyspark.sql import SparkSession\n",
    "from pyspark.sql.functions import *\n",
    "from pyspark.sql.types import *\n",
    "from datetime import datetime\n",
    "import subprocess\n",
    "import time"
   ]
  },
  {
   "cell_type": "code",
   "execution_count": 2,
   "id": "0538dbb5-251b-45ad-b04c-b1db3d01c0b9",
   "metadata": {},
   "outputs": [
    {
     "name": "stderr",
     "output_type": "stream",
     "text": [
      "Setting default log level to \"WARN\".\n",
      "To adjust logging level use sc.setLogLevel(newLevel). For SparkR, use setLogLevel(newLevel).\n"
     ]
    }
   ],
   "source": [
    "#def inicitializa_db():\n",
    "spark = SparkSession.builder \\\n",
    "    .appName(\"Spark SQL Hive Integration\") \\\n",
    "    .master(\"local[*]\") \\\n",
    "    .getOrCreate()\n",
    "\n",
    "spark.sql(\"CREATE DATABASE IF NOT EXISTS data\")\n",
    "spark.sql(\"DROP TABLE IF EXISTS data.bronze\")\n",
    "spark.sql(\"DROP TABLE IF EXISTS data.silver\")\n",
    "spark.sql(\"DROP TABLE IF EXISTS data.gold\")\n",
    "spark.sql(\"DROP TABLE IF EXISTS data.medellin\")\n",
    "spark.sql(\"DROP TABLE IF EXISTS data.customers\")\n",
    "spark.sql(\"DROP TABLE IF EXISTS data.employees\")\n",
    "spark.sql(\"DROP TABLE IF EXISTS data.neigbohoods\")\n",
    "\n",
    "df_50001 = spark.read.parquet('/data/50001.parquet')\n",
    "df_customers = spark.read.parquet('/data/customers.parquet')\n",
    "df_employees = spark.read.parquet('/data/employees.parquet')\n",
    "df_neighborhoods = spark.read.parquet('/data/medellin_neighborhoods.parquet')\n",
    "    \n",
    "df_50001.write.mode('append').saveAsTable('data.medellin')\n",
    "df_customers.write.mode('append').saveAsTable('data.customers')\n",
    "df_employees.write.mode('append').saveAsTable('data.employees')\n",
    "df_neighborhoods.write.mode('append').saveAsTable('data.neigbohoods')"
   ]
  },
  {
   "cell_type": "code",
   "execution_count": 3,
   "id": "3c587401-d08a-49c9-b065-f8a9b1ed19d4",
   "metadata": {},
   "outputs": [],
   "source": [
    "def raw_to_silver():\n",
    "    # Crear sesión de Spark\n",
    "    #spark = SparkSession \\\n",
    "    #    .builder \\\n",
    "    #    .appName(\"Silver Zone Creation\") \\\n",
    "    #    .master(\"local[*]\") \\\n",
    "    #    .getOrCreate()\n",
    "\n",
    "    # Definir la ruta base en HDFS\n",
    "    #hdfs_base_path = 'hdfs://localhost:9000'\n",
    "\n",
    "    # Leer cada archivo Parquet\n",
    "    #df_50001 = spark.read.parquet(hdfs_base_path + '/data/50001.parquet')\n",
    "    #df_customers = spark.read.parquet(hdfs_base_path + '/data/customers.parquet')\n",
    "    df_data_raw = spark.read.parquet('/raw/new/*.parquet')\n",
    "    #df_employees = spark.read.parquet(hdfs_base_path + '/data/employees.parquet')\n",
    "    df_neighborhoods = spark.read.parquet('/data/medellin_neighborhoods.parquet')\n",
    "\n",
    "    # Crear la base de datos bronze si no existe\n",
    "    #spark.sql(\"CREATE DATABASE IF NOT EXISTS bronze\")\n",
    "    # Guardar los datos como una tabla en la base de datos bronze\n",
    "    df_data_raw.write.mode('append').saveAsTable('data.bronze')\n",
    "\n",
    "    df_silver = df_data_raw.withColumn(\"event_date\", to_timestamp(col(\"date\"), \"dd/MM/yyyy HH:mm:ss\")) \\\n",
    "        .withColumn(\"partition_date\", date_format(col(\"event_date\"), \"ddMMyyyy\")) \\\n",
    "        .withColumn(\"event_day\", dayofmonth(col(\"event_date\"))) \\\n",
    "        .withColumn(\"event_hour\", hour(col(\"event_date\"))) \\\n",
    "        .withColumn(\"event_minute\", minute(col(\"event_date\"))) \\\n",
    "        .withColumn(\"event_month\", month(col(\"event_date\"))) \\\n",
    "        .withColumn(\"event_second\", second(col(\"event_date\"))) \\\n",
    "        .withColumn(\"event_year\", year(col(\"event_date\"))) \\\n",
    "        .withColumnRenamed(\"order_id\", \"order_id\") \\\n",
    "        .withColumnRenamed(\"employee_id\", \"employee_id\") \\\n",
    "        .withColumnRenamed(\"quantity_products\", \"quantity_products\") \\\n",
    "        .withColumnRenamed(\"latitude\", \"latitude\") \\\n",
    "        .withColumnRenamed(\"longitude\", \"longitude\") \\\n",
    "        .withColumnRenamed(\"customer_id\", \"customer_id\")\n",
    "\n",
    "    # Eliminar la columna original de fecha si no es necesaria\n",
    "    df_silver = df_silver.drop(\"date\")\n",
    "\n",
    "    # Seleccionar solo las columnas NOMBRE e IDENTIFICACION de df_neighborhoods, y renombrar OBJECTID a object_id\n",
    "    df_neighborhoods_seleccionado = df_neighborhoods.select(\n",
    "        col(\"OBJECTID\").alias(\"object_id\"),\n",
    "        col(\"NOMBRE\").alias(\"neighborhood\"),\n",
    "        col(\"IDENTIFICACION\").alias(\"commune\")\n",
    "    )\n",
    "\n",
    "    # Realizar el left join en la columna object_id\n",
    "    df_resultado = df_silver.join(\n",
    "        df_neighborhoods_seleccionado,\n",
    "        df_silver['object_id'] == df_neighborhoods_seleccionado['object_id'],\n",
    "        \"left\"\n",
    "    ).select(\n",
    "        df_silver['*'],  # Seleccionar todas las columnas de df_silver\n",
    "        df_neighborhoods_seleccionado['neighborhood'],  # Seleccionar la columna renombrada neighborhood\n",
    "        df_neighborhoods_seleccionado['commune']  # Seleccionar la columna renombrada commune\n",
    "    ).drop(df_silver['object_id'])  # Eliminar la columna object_id del resultado final\n",
    "\n",
    "    # Guardar datos procesados en la zona Silver\n",
    "    current_time = datetime.now().strftime(\"%Y%m%d%H%M%S\")\n",
    "    output_path = \"/silver/new/data_silver_\"+current_time+\".parquet\"\n",
    "    df_resultado.write.mode('overwrite').parquet(output_path)\n",
    "\n",
    "    # Mover a carpeta de procesados\n",
    "    src_path = \"/raw/new/*.parquet\"\n",
    "    dest_path = \"/raw/processed/\"\n",
    "    cmd = f\"hdfs dfs -mv {src_path} {dest_path}\"\n",
    "    result = subprocess.run(cmd, shell=True, check=True, stdout=subprocess.PIPE, stderr=subprocess.PIPE)\n",
    "    # Detener sesión de Spark\n",
    "    #spark.stop()"
   ]
  },
  {
   "cell_type": "code",
   "execution_count": 4,
   "id": "1f247039-069b-45b6-b137-2ecbc6a98030",
   "metadata": {},
   "outputs": [],
   "source": [
    "def silver_to_gold():\n",
    "    # Crear sesión de Spark\n",
    "    #spark = SparkSession.builder \\\n",
    "    #    .appName(\"Gold Zone Creation\") \\\n",
    "    #    .master(\"local[*]\") \\\n",
    "    #    .getOrCreate()\n",
    "\n",
    "    # Leer datos de la zona Silver\n",
    "    silver_path = \"/silver/new/*.parquet\"\n",
    "    silver_df = spark.read.parquet(silver_path)\n",
    "\n",
    "    # Crear las tablas en SQL en gold\n",
    "    #spark.sql(\"CREATE DATABASE IF NOT EXISTS silver\")\n",
    "    silver_df.write.mode('append').saveAsTable('data.silver')\n",
    "    \n",
    "    # Leer datos complementarios\n",
    "    customers_df = spark.read.parquet(\"/data/customers.parquet\")\n",
    "    employees_df = spark.read.parquet(\"/data/employees.parquet\")\n",
    "\n",
    "    # Agregar información de clientes\n",
    "    silver_df = silver_df.join(customers_df, silver_df.customer_id == customers_df.customer_id, \"left\") \\\n",
    "        .select(silver_df[\"*\"], customers_df[\"name\"].alias(\"customer_name\"), customers_df[\"phone\"].alias(\"customer_phone\"), customers_df[\"email\"].alias(\"customer_email\"), customers_df[\"address\"].alias(\"customer_address\"))\n",
    "\n",
    "    # Agregar información de empleados\n",
    "    silver_df = silver_df.join(employees_df, silver_df.employee_id == employees_df.employee_id, \"left\") \\\n",
    "        .select(silver_df[\"*\"], employees_df[\"name\"].alias(\"employee_name\"), employees_df[\"phone\"].alias(\"employee_phone\"), employees_df[\"email\"].alias(\"employee_email\"), employees_df[\"address\"].alias(\"employee_address\"), employees_df[\"comission\"].alias(\"employee_commission\"))\n",
    "\n",
    "    # Ventas detalladas\n",
    "    detailed_sales_df = silver_df.select(\n",
    "        \"order_id\", \n",
    "        # \"customer_id\", \n",
    "        \"customer_name\", \n",
    "        # \"customer_phone\", \n",
    "        # \"customer_email\", \n",
    "        # \"customer_address\", \n",
    "        # \"employee_id\", \n",
    "        \"employee_name\", \n",
    "        # \"employee_phone\", \n",
    "        # \"employee_email\", \n",
    "        # \"employee_address\", \n",
    "        \"employee_commission\", \n",
    "        \"latitude\",\n",
    "        \"longitude\",\n",
    "        \"commune\", \n",
    "        \"neighborhood\", \n",
    "        \"quantity_products\", \n",
    "        \"event_date\"\n",
    "    )\n",
    "\n",
    "    # Obtener la fecha y hora actual para el nombre del archivo\n",
    "    current_time = datetime.now().strftime(\"%Y%m%d%H%M%S\")\n",
    "    output_path = \"/gold/detailed_sales_\"+current_time+\".parquet\"\n",
    "\n",
    "    # Guardar datos procesados en la zona Gold\n",
    "    detailed_sales_df.write.mode('overwrite').parquet(output_path)\n",
    "\n",
    "    # Crear las tablas en SQL en gold\n",
    "    #spark.sql(\"CREATE DATABASE IF NOT EXISTS gold\")\n",
    "    detailed_sales_df.write.mode('append').saveAsTable('data.gold')\n",
    "\n",
    "    # Mover cada archivo\n",
    "    src_path = \"/silver/new/*.parquet\"\n",
    "    dest_path = \"/silver/processed/\"\n",
    "    cmd = f\"hdfs dfs -mv {src_path} {dest_path}\"\n",
    "    result = subprocess.run(cmd, shell=True, check=True, stdout=subprocess.PIPE, stderr=subprocess.PIPE)\n",
    "\n",
    "    # Mover archivos de silver/new a silver/processed\n",
    "    #processed_path = \"hdfs://namenode:9000/silver/processed\"\n",
    "\n",
    "    # Listar los archivos en la ruta silver/new\n",
    "    #fs = spark._jvm.org.apache.hadoop.fs.FileSystem.get(spark._jsc.hadoopConfiguration())\n",
    "    #files_to_move = fs.listStatus(spark._jvm.org.apache.hadoop.fs.Path(silver_path))\n",
    "\n",
    "    # Mover cada archivo\n",
    "    #for file in files_to_move:\n",
    "        #old_path = file.getPath()\n",
    "        #new_path = spark._jvm.org.apache.hadoop.fs.Path(os.path.join(processed_path, old_path.getName()))\n",
    "        #fs.rename(old_path, new_path)\n",
    "\n",
    "    # Detener sesión de Spark\n",
    "    #spark.stop()\n"
   ]
  },
  {
   "cell_type": "code",
   "execution_count": 10,
   "id": "ce0d066e-b6ea-49bc-8358-977fcc975591",
   "metadata": {},
   "outputs": [
    {
     "name": "stderr",
     "output_type": "stream",
     "text": [
      "                                                                                \r"
     ]
    }
   ],
   "source": [
    "raw_to_silver()"
   ]
  },
  {
   "cell_type": "code",
   "execution_count": 11,
   "id": "9fb8a121-d9af-490e-86ec-b823a8b32a2f",
   "metadata": {},
   "outputs": [],
   "source": [
    "silver_to_gold()"
   ]
  },
  {
   "cell_type": "code",
   "execution_count": 9,
   "id": "f96aafca-91c8-4680-bf3e-10b788750665",
   "metadata": {},
   "outputs": [
    {
     "ename": "KeyboardInterrupt",
     "evalue": "",
     "output_type": "error",
     "traceback": [
      "\u001b[0;31m---------------------------------------------------------------------------\u001b[0m",
      "\u001b[0;31mKeyboardInterrupt\u001b[0m                         Traceback (most recent call last)",
      "Input \u001b[0;32mIn [9]\u001b[0m, in \u001b[0;36m<cell line: 3>\u001b[0;34m()\u001b[0m\n\u001b[1;32m      1\u001b[0m n \u001b[38;5;241m=\u001b[39m \u001b[38;5;241m1\u001b[39m\n\u001b[1;32m      2\u001b[0m \u001b[38;5;28;01mwhile\u001b[39;00m \u001b[38;5;28;01mTrue\u001b[39;00m:\n\u001b[0;32m----> 3\u001b[0m     \u001b[43mtime\u001b[49m\u001b[38;5;241;43m.\u001b[39;49m\u001b[43msleep\u001b[49m\u001b[43m(\u001b[49m\u001b[38;5;241;43m1800\u001b[39;49m\u001b[43m)\u001b[49m\n\u001b[1;32m      4\u001b[0m     raw_to_silver()\n\u001b[1;32m      5\u001b[0m     \u001b[38;5;28;01mif\u001b[39;00m n\u001b[38;5;241m==\u001b[39m\u001b[38;5;241m2\u001b[39m:\n",
      "\u001b[0;31mKeyboardInterrupt\u001b[0m: "
     ]
    }
   ],
   "source": [
    "n = 1\n",
    "while True:\n",
    "    time.sleep(1800)\n",
    "    raw_to_silver()\n",
    "    if n==2:\n",
    "        silver_to_gold()\n",
    "        n = 1\n",
    "    n += 1\n",
    "    "
   ]
  },
  {
   "cell_type": "code",
   "execution_count": 12,
   "id": "16e509eb-9003-4668-84a2-52af1b68bede",
   "metadata": {},
   "outputs": [
    {
     "name": "stdout",
     "output_type": "stream",
     "text": [
      "+---------+\n",
      "|namespace|\n",
      "+---------+\n",
      "|     data|\n",
      "|  default|\n",
      "+---------+\n",
      "\n"
     ]
    }
   ],
   "source": [
    "tables_bronze = spark.sql(\"SHOW DATABASES\")\n",
    "tables_bronze.show()"
   ]
  },
  {
   "cell_type": "code",
   "execution_count": 13,
   "id": "f02273eb-ccda-4004-a953-ccd6ec9d178d",
   "metadata": {},
   "outputs": [
    {
     "name": "stdout",
     "output_type": "stream",
     "text": [
      "+--------+-----------+-----------+\n",
      "|database|  tableName|isTemporary|\n",
      "+--------+-----------+-----------+\n",
      "|    data|     bronze|      false|\n",
      "|    data|  customers|      false|\n",
      "|    data|  employees|      false|\n",
      "|    data|       gold|      false|\n",
      "|    data|   medellin|      false|\n",
      "|    data|neigbohoods|      false|\n",
      "|    data|     silver|      false|\n",
      "+--------+-----------+-----------+\n",
      "\n"
     ]
    }
   ],
   "source": [
    "tables_bronze = spark.sql(\"SHOW TABLES FROM data\")\n",
    "tables_bronze.show()"
   ]
  },
  {
   "cell_type": "code",
   "execution_count": 73,
   "id": "c3888614-045c-4be0-a5d5-01b6beeaa3c5",
   "metadata": {},
   "outputs": [
    {
     "name": "stdout",
     "output_type": "stream",
     "text": [
      "+---------+------------------+------------------+-------------------+-----------+-----------+-----------------+------------------------------------+\n",
      "|object_id|latitude          |longitude         |date               |customer_id|employee_id|quantity_products|order_id                            |\n",
      "+---------+------------------+------------------+-------------------+-----------+-----------+-----------------+------------------------------------+\n",
      "|326      |6.2933392820791   |-75.57543431005836|21/06/2024 18:31:26|8566       |9438       |627              |d8b9b417-b098-4344-b137-362894e4dcgs|\n",
      "|337      |6.272703723685749 |-75.66630375214945|21/06/2024 18:31:26|7530       |3830       |248              |d8b9b417-b098-4344-b137-362894e4dcgr|\n",
      "|339      |6.1939160192933205|-75.5276128503188 |21/06/2024 18:31:26|2733       |4942       |430              |d8b9b417-b098-4344-b137-362894e4dcgq|\n",
      "|336      |6.2898095960461395|-75.67758282547585|21/06/2024 18:31:26|5102       |3830       |720              |d8b9b417-b098-4344-b137-362894e4dcgp|\n",
      "|336      |6.333912035254577 |-75.6761120685151 |21/06/2024 18:31:26|1440       |6696       |667              |d8b9b417-b098-4344-b137-362894e4dcgo|\n",
      "|339      |6.181869194094351 |-75.54818097026738|21/06/2024 18:31:26|6374       |5668       |632              |d8b9b417-b098-4344-b137-362894e4dcgn|\n",
      "|337      |6.305209710522103 |-75.65336497375827|21/06/2024 18:30:53|1888       |1114       |420              |d8b9b417-b098-4344-b137-362894e4dcgm|\n",
      "|322      |6.29568715983407  |-75.55096391449902|21/06/2024 18:30:53|3673       |1114       |650              |d8b9b417-b098-4344-b137-362894e4dcgl|\n",
      "|339      |6.265267825667777 |-75.534172895982  |21/06/2024 18:30:53|5604       |8362       |696              |d8b9b417-b098-4344-b137-362894e4dcgk|\n",
      "|334      |6.192891441806798 |-75.56613718223551|21/06/2024 18:30:53|4758       |1473       |791              |d8b9b417-b098-4344-b137-362894e4dcgj|\n",
      "|337      |6.298617870678057 |-75.66195784912543|21/06/2024 18:30:53|7494       |9726       |632              |d8b9b417-b098-4344-b137-362894e4dcgi|\n",
      "|337      |6.2810392537605635|-75.65046717660722|21/06/2024 18:30:53|5102       |1679       |484              |d8b9b417-b098-4344-b137-362894e4dcgh|\n",
      "|339      |6.204062115083239 |-75.51557372288266|21/06/2024 18:30:53|3673       |1473       |508              |d8b9b417-b098-4344-b137-362894e4dcgg|\n",
      "|331      |6.242702592023879 |-75.60594420884183|21/06/2024 18:30:53|9534       |6337       |409              |d8b9b417-b098-4344-b137-362894e4dcgf|\n",
      "|339      |6.269407039468515 |-75.5000855179583 |21/06/2024 18:30:20|5356       |2470       |416              |d8b9b417-b098-4344-b137-362894e4dcge|\n",
      "|336      |6.364624269212359 |-75.68600757388144|21/06/2024 18:30:20|7812       |4942       |450              |d8b9b417-b098-4344-b137-362894e4dcgd|\n",
      "|337      |6.28343514534737  |-75.62908766710106|21/06/2024 18:30:20|9784       |6696       |992              |d8b9b417-b098-4344-b137-362894e4dcgc|\n",
      "|324      |6.270603885323677 |-75.56439936171657|21/06/2024 18:30:20|8220       |6659       |441              |d8b9b417-b098-4344-b137-362894e4dcgb|\n",
      "|336      |6.334707023531371 |-75.70810433134211|21/06/2024 18:30:20|2369       |2232       |765              |d8b9b417-b098-4344-b137-362894e4dcga|\n",
      "|337      |6.302182956389789 |-75.62668160125915|21/06/2024 18:29:47|2772       |6337       |651              |d8b9b417-b098-4344-b137-362894e4dcfz|\n",
      "+---------+------------------+------------------+-------------------+-----------+-----------+-----------------+------------------------------------+\n",
      "only showing top 20 rows\n",
      "\n"
     ]
    }
   ],
   "source": [
    "spark.sql(\"SELECT * FROM data.bronze\").orderBy(desc(\"order_id\")).show(truncate=False)"
   ]
  },
  {
   "cell_type": "code",
   "execution_count": 18,
   "id": "e07107b2-e7cb-469c-b1a4-a01a91f3661e",
   "metadata": {},
   "outputs": [
    {
     "name": "stdout",
     "output_type": "stream",
     "text": [
      "+------------------+------------------+-----------+-----------+-----------------+------------------------------------+-------------------+--------------+---------+----------+------------+-----------+------------+----------+------------------------------------------+----------------+\n",
      "|latitude          |longitude         |customer_id|employee_id|quantity_products|order_id                            |event_date         |partition_date|event_day|event_hour|event_minute|event_month|event_second|event_year|neighborhood                              |commune         |\n",
      "+------------------+------------------+-----------+-----------+-----------------+------------------------------------+-------------------+--------------+---------+----------+------------+-----------+------------+----------+------------------------------------------+----------------+\n",
      "|6.2933392820791   |-75.57543431005836|8566       |9438       |627              |d8b9b417-b098-4344-b137-362894e4dcgs|2024-06-21 18:31:26|21062024      |21       |18        |31          |6          |26          |2024      |DOCE DE OCTUBRE                           |COMUNA 6        |\n",
      "|6.272703723685749 |-75.66630375214945|7530       |3830       |248              |d8b9b417-b098-4344-b137-362894e4dcgr|2024-06-21 18:31:26|21062024      |21       |18        |31          |6          |26          |2024      |CORREGIMIENTO DE SAN CRISTÓBAL            |CORREGIMIENTO 60|\n",
      "|6.1939160192933205|-75.5276128503188 |2733       |4942       |430              |d8b9b417-b098-4344-b137-362894e4dcgq|2024-06-21 18:31:26|21062024      |21       |18        |31          |6          |26          |2024      |CORREGIMIENTO DE SANTA ELENA              |CORREGIMIENTO 90|\n",
      "|6.2898095960461395|-75.67758282547585|5102       |3830       |720              |d8b9b417-b098-4344-b137-362894e4dcgp|2024-06-21 18:31:26|21062024      |21       |18        |31          |6          |26          |2024      |CORREGIMIENTO DE SAN SEBASTIÁN DE PALMITAS|CORREGIMIENTO 50|\n",
      "|6.333912035254577 |-75.6761120685151 |1440       |6696       |667              |d8b9b417-b098-4344-b137-362894e4dcgo|2024-06-21 18:31:26|21062024      |21       |18        |31          |6          |26          |2024      |CORREGIMIENTO DE SAN SEBASTIÁN DE PALMITAS|CORREGIMIENTO 50|\n",
      "|6.181869194094351 |-75.54818097026738|6374       |5668       |632              |d8b9b417-b098-4344-b137-362894e4dcgn|2024-06-21 18:31:26|21062024      |21       |18        |31          |6          |26          |2024      |CORREGIMIENTO DE SANTA ELENA              |CORREGIMIENTO 90|\n",
      "|6.305209710522103 |-75.65336497375827|1888       |1114       |420              |d8b9b417-b098-4344-b137-362894e4dcgm|2024-06-21 18:30:53|21062024      |21       |18        |30          |6          |53          |2024      |CORREGIMIENTO DE SAN CRISTÓBAL            |CORREGIMIENTO 60|\n",
      "|6.29568715983407  |-75.55096391449902|3673       |1114       |650              |d8b9b417-b098-4344-b137-362894e4dcgl|2024-06-21 18:30:53|21062024      |21       |18        |30          |6          |53          |2024      |SANTA CRUZ                                |COMUNA 2        |\n",
      "|6.265267825667777 |-75.534172895982  |5604       |8362       |696              |d8b9b417-b098-4344-b137-362894e4dcgk|2024-06-21 18:30:53|21062024      |21       |18        |30          |6          |53          |2024      |CORREGIMIENTO DE SANTA ELENA              |CORREGIMIENTO 90|\n",
      "|6.192891441806798 |-75.56613718223551|4758       |1473       |791              |d8b9b417-b098-4344-b137-362894e4dcgj|2024-06-21 18:30:53|21062024      |21       |18        |30          |6          |53          |2024      |EL POBLADO                                |COMUNA 14       |\n",
      "|6.298617870678057 |-75.66195784912543|7494       |9726       |632              |d8b9b417-b098-4344-b137-362894e4dcgi|2024-06-21 18:30:53|21062024      |21       |18        |30          |6          |53          |2024      |CORREGIMIENTO DE SAN CRISTÓBAL            |CORREGIMIENTO 60|\n",
      "|6.2810392537605635|-75.65046717660722|5102       |1679       |484              |d8b9b417-b098-4344-b137-362894e4dcgh|2024-06-21 18:30:53|21062024      |21       |18        |30          |6          |53          |2024      |CORREGIMIENTO DE SAN CRISTÓBAL            |CORREGIMIENTO 60|\n",
      "|6.204062115083239 |-75.51557372288266|3673       |1473       |508              |d8b9b417-b098-4344-b137-362894e4dcgg|2024-06-21 18:30:53|21062024      |21       |18        |30          |6          |53          |2024      |CORREGIMIENTO DE SANTA ELENA              |CORREGIMIENTO 90|\n",
      "|6.242702592023879 |-75.60594420884183|9534       |6337       |409              |d8b9b417-b098-4344-b137-362894e4dcgf|2024-06-21 18:30:53|21062024      |21       |18        |30          |6          |53          |2024      |LAURELES ESTADIO                          |COMUNA 11       |\n",
      "|6.269407039468515 |-75.5000855179583 |5356       |2470       |416              |d8b9b417-b098-4344-b137-362894e4dcge|2024-06-21 18:30:20|21062024      |21       |18        |30          |6          |20          |2024      |CORREGIMIENTO DE SANTA ELENA              |CORREGIMIENTO 90|\n",
      "|6.364624269212359 |-75.68600757388144|7812       |4942       |450              |d8b9b417-b098-4344-b137-362894e4dcgd|2024-06-21 18:30:20|21062024      |21       |18        |30          |6          |20          |2024      |CORREGIMIENTO DE SAN SEBASTIÁN DE PALMITAS|CORREGIMIENTO 50|\n",
      "|6.28343514534737  |-75.62908766710106|9784       |6696       |992              |d8b9b417-b098-4344-b137-362894e4dcgc|2024-06-21 18:30:20|21062024      |21       |18        |30          |6          |20          |2024      |CORREGIMIENTO DE SAN CRISTÓBAL            |CORREGIMIENTO 60|\n",
      "|6.270603885323677 |-75.56439936171657|8220       |6659       |441              |d8b9b417-b098-4344-b137-362894e4dcgb|2024-06-21 18:30:20|21062024      |21       |18        |30          |6          |20          |2024      |ARANJUEZ                                  |COMUNA 4        |\n",
      "|6.334707023531371 |-75.70810433134211|2369       |2232       |765              |d8b9b417-b098-4344-b137-362894e4dcga|2024-06-21 18:30:20|21062024      |21       |18        |30          |6          |20          |2024      |CORREGIMIENTO DE SAN SEBASTIÁN DE PALMITAS|CORREGIMIENTO 50|\n",
      "|6.302182956389789 |-75.62668160125915|2772       |6337       |651              |d8b9b417-b098-4344-b137-362894e4dcfz|2024-06-21 18:29:47|21062024      |21       |18        |29          |6          |47          |2024      |CORREGIMIENTO DE SAN CRISTÓBAL            |CORREGIMIENTO 60|\n",
      "+------------------+------------------+-----------+-----------+-----------------+------------------------------------+-------------------+--------------+---------+----------+------------+-----------+------------+----------+------------------------------------------+----------------+\n",
      "only showing top 20 rows\n",
      "\n"
     ]
    }
   ],
   "source": [
    "spark.sql(\"SELECT * FROM data.silver\").orderBy(desc(\"order_id\")).show(truncate=False)"
   ]
  },
  {
   "cell_type": "code",
   "execution_count": 17,
   "id": "472e2885-abdf-4ddb-adf3-c7530dfc45e3",
   "metadata": {},
   "outputs": [
    {
     "name": "stdout",
     "output_type": "stream",
     "text": [
      "+------------------------------------+-----------------+-----------------+-------------------+------------------+------------------+----------------+------------------------------------------+-----------------+-------------------+\n",
      "|order_id                            |customer_name    |employee_name    |employee_commission|latitude          |longitude         |commune         |neighborhood                              |quantity_products|event_date         |\n",
      "+------------------------------------+-----------------+-----------------+-------------------+------------------+------------------+----------------+------------------------------------------+-----------------+-------------------+\n",
      "|d8b9b417-b098-4344-b137-362894e4dcgs|Tatum Finley     |Dacey Barr       |0.02               |6.2933392820791   |-75.57543431005836|COMUNA 6        |DOCE DE OCTUBRE                           |627              |2024-06-21 18:31:26|\n",
      "|d8b9b417-b098-4344-b137-362894e4dcgr|Prescott Hatfield|Shaeleigh Turner |0.06               |6.272703723685749 |-75.66630375214945|CORREGIMIENTO 60|CORREGIMIENTO DE SAN CRISTÓBAL            |248              |2024-06-21 18:31:26|\n",
      "|d8b9b417-b098-4344-b137-362894e4dcgq|Renee Barber     |Sydnee Kirby     |0.16               |6.1939160192933205|-75.5276128503188 |CORREGIMIENTO 90|CORREGIMIENTO DE SANTA ELENA              |430              |2024-06-21 18:31:26|\n",
      "|d8b9b417-b098-4344-b137-362894e4dcgp|Orli Watts       |Shaeleigh Turner |0.06               |6.2898095960461395|-75.67758282547585|CORREGIMIENTO 50|CORREGIMIENTO DE SAN SEBASTIÁN DE PALMITAS|720              |2024-06-21 18:31:26|\n",
      "|d8b9b417-b098-4344-b137-362894e4dcgo|Myles Ellis      |Patricia Cox     |0.04               |6.333912035254577 |-75.6761120685151 |CORREGIMIENTO 50|CORREGIMIENTO DE SAN SEBASTIÁN DE PALMITAS|667              |2024-06-21 18:31:26|\n",
      "|d8b9b417-b098-4344-b137-362894e4dcgn|Tarik Gonzalez   |Melanie Ball     |0.18               |6.181869194094351 |-75.54818097026738|CORREGIMIENTO 90|CORREGIMIENTO DE SANTA ELENA              |632              |2024-06-21 18:31:26|\n",
      "|d8b9b417-b098-4344-b137-362894e4dcgm|Gareth Wagner    |Bevis Sanford    |0.14               |6.305209710522103 |-75.65336497375827|CORREGIMIENTO 60|CORREGIMIENTO DE SAN CRISTÓBAL            |420              |2024-06-21 18:30:53|\n",
      "|d8b9b417-b098-4344-b137-362894e4dcgl|Blossom Woods    |Bevis Sanford    |0.14               |6.29568715983407  |-75.55096391449902|COMUNA 2        |SANTA CRUZ                                |650              |2024-06-21 18:30:53|\n",
      "|d8b9b417-b098-4344-b137-362894e4dcgk|Otto Holman      |Catherine King   |0.07               |6.265267825667777 |-75.534172895982  |CORREGIMIENTO 90|CORREGIMIENTO DE SANTA ELENA              |696              |2024-06-21 18:30:53|\n",
      "|d8b9b417-b098-4344-b137-362894e4dcgj|Callie Reyes     |Celeste Johns    |0.07               |6.192891441806798 |-75.56613718223551|COMUNA 14       |EL POBLADO                                |791              |2024-06-21 18:30:53|\n",
      "|d8b9b417-b098-4344-b137-362894e4dcgi|Uriel Frederick  |Christen Hamilton|0.17               |6.298617870678057 |-75.66195784912543|CORREGIMIENTO 60|CORREGIMIENTO DE SAN CRISTÓBAL            |632              |2024-06-21 18:30:53|\n",
      "|d8b9b417-b098-4344-b137-362894e4dcgh|Orli Watts       |Darius Greer     |0.04               |6.2810392537605635|-75.65046717660722|CORREGIMIENTO 60|CORREGIMIENTO DE SAN CRISTÓBAL            |484              |2024-06-21 18:30:53|\n",
      "|d8b9b417-b098-4344-b137-362894e4dcgg|Blossom Woods    |Celeste Johns    |0.07               |6.204062115083239 |-75.51557372288266|CORREGIMIENTO 90|CORREGIMIENTO DE SANTA ELENA              |508              |2024-06-21 18:30:53|\n",
      "|d8b9b417-b098-4344-b137-362894e4dcgf|Thor Donaldson   |Phyllis Hubbard  |0.1                |6.242702592023879 |-75.60594420884183|COMUNA 11       |LAURELES ESTADIO                          |409              |2024-06-21 18:30:53|\n",
      "|d8b9b417-b098-4344-b137-362894e4dcge|Slade Kane       |Ori Tucker       |0.1                |6.269407039468515 |-75.5000855179583 |CORREGIMIENTO 90|CORREGIMIENTO DE SANTA ELENA              |416              |2024-06-21 18:30:20|\n",
      "|d8b9b417-b098-4344-b137-362894e4dcgd|Thaddeus Bauer   |Sydnee Kirby     |0.16               |6.364624269212359 |-75.68600757388144|CORREGIMIENTO 50|CORREGIMIENTO DE SAN SEBASTIÁN DE PALMITAS|450              |2024-06-21 18:30:20|\n",
      "|d8b9b417-b098-4344-b137-362894e4dcgc|Tiger Kline      |Patricia Cox     |0.04               |6.28343514534737  |-75.62908766710106|CORREGIMIENTO 60|CORREGIMIENTO DE SAN CRISTÓBAL            |992              |2024-06-21 18:30:20|\n",
      "|d8b9b417-b098-4344-b137-362894e4dcgb|Steven Mcmillan  |Melinda Le       |0.06               |6.270603885323677 |-75.56439936171657|COMUNA 4        |ARANJUEZ                                  |441              |2024-06-21 18:30:20|\n",
      "|d8b9b417-b098-4344-b137-362894e4dcga|Kimberley Stanley|Forrest Bradley  |0.07               |6.334707023531371 |-75.70810433134211|CORREGIMIENTO 50|CORREGIMIENTO DE SAN SEBASTIÁN DE PALMITAS|765              |2024-06-21 18:30:20|\n",
      "|d8b9b417-b098-4344-b137-362894e4dcfz|Athena Wagner    |Phyllis Hubbard  |0.1                |6.302182956389789 |-75.62668160125915|CORREGIMIENTO 60|CORREGIMIENTO DE SAN CRISTÓBAL            |651              |2024-06-21 18:29:47|\n",
      "+------------------------------------+-----------------+-----------------+-------------------+------------------+------------------+----------------+------------------------------------------+-----------------+-------------------+\n",
      "only showing top 20 rows\n",
      "\n"
     ]
    }
   ],
   "source": [
    "spark.sql(\"SELECT * FROM data.gold\").orderBy(desc(\"order_id\")).show(truncate=False)"
   ]
  },
  {
   "cell_type": "code",
   "execution_count": 24,
   "id": "5911fe35-0de2-49a7-bbd8-e8cc5534a02a",
   "metadata": {},
   "outputs": [],
   "source": [
    "df = spark.sql(\"SELECT * FROM data.gold\")"
   ]
  },
  {
   "cell_type": "code",
   "execution_count": 33,
   "id": "b61b3426-4392-4d9c-ba24-36e662fc34fa",
   "metadata": {},
   "outputs": [],
   "source": [
    "df.write.csv(\"file:///workspace/data_gold\",header=True,mode=\"overwrite\" )"
   ]
  },
  {
   "cell_type": "code",
   "execution_count": 32,
   "id": "9bde03c4-0ce6-4f26-8a10-4d8b6a4d6ec5",
   "metadata": {},
   "outputs": [
    {
     "name": "stdout",
     "output_type": "stream",
     "text": [
      "Jetty_0_0_0_0_50070_hdfs____w2cu08\n",
      "Jetty_0_0_0_0_50090_secondary____y6aanv\n",
      "Jetty_0_0_0_0_8042_node____19tj0x\n",
      "Jetty_0_0_0_0_8088_cluster____u0rgz3\n",
      "Jetty_localhost_35941_datanode____.7fdf0l\n",
      "blockmgr-3a22b263-1687-4b3e-929e-e80a41bc92fb\n",
      "blockmgr-4e6acca6-2595-4f30-895d-2f20dc8543a6\n",
      "blockmgr-53cf20b1-478c-4e73-9388-d4d5dd56611e\n",
      "data_gold\n",
      "data_gold.csv\n",
      "devcontainers-c8ede362-dd5d-4bea-bc0a-c5eac77031941718996330278\n",
      "devcontainers-d284f1da-b782-4cba-b46f-9ebc5a084ac41718996373275\n",
      "hadoop-root\n",
      "hadoop-root-datanode.pid\n",
      "hadoop-root-namenode.pid\n",
      "hadoop-root-secondarynamenode.pid\n",
      "hsperfdata_root\n",
      "liblz4-java-3941417813265118985.so\n",
      "liblz4-java-3941417813265118985.so.lck\n",
      "liblz4-java-6518985352252515161.so\n",
      "liblz4-java-6518985352252515161.so.lck\n",
      "snappy-1.0.5-490aab39-846c-475e-950e-aa2ba9765407-libsnappyjava.so\n",
      "snappy-1.0.5-d3bfa40e-4011-4c28-bbcc-0d5d196ccc92-libsnappyjava.so\n",
      "spark-0ac61ff1-10e0-482e-b08e-f6977b460ef8\n",
      "spark-0e468879-cc78-4335-bf92-e5d213879006\n",
      "spark-246b4979-bfd7-4716-a284-04047704d1ac\n",
      "spark-3dfae855-f1b6-4123-bbcf-bce59514aedd\n",
      "spark-eecfe3c4-11dc-4e4e-ae87-789e3a858463\n",
      "spark-fe204961-aa54-4d56-8ff6-0ea970030b22\n",
      "temporary-056c5738-08fa-4586-88af-bb5c6610d8c8\n",
      "temporary-0c954e7a-4233-46e0-8a93-d602e6605bee\n",
      "temporary-11b7b4e6-3dcd-4b3d-8b7f-90288982dde5\n",
      "temporary-18c0753f-6813-45b1-a3d7-65c95c4b373d\n",
      "temporary-1eab58e6-fbe1-4fbf-82a3-d012dd889a66\n",
      "temporary-1fb99768-db15-47cd-adc4-ff4f8e411f4e\n",
      "temporary-20674a3c-59a5-4c32-97f1-19c4104b906b\n",
      "temporary-236290f0-097b-42c7-854a-0d7da7021dd4\n",
      "temporary-25e4aa2c-1c35-470d-9cba-71ccaab1a63d\n",
      "temporary-2a27bc3f-14a3-41a5-9e0d-a1246c060081\n",
      "temporary-2a979f53-0fd7-4e18-9534-68e8fcc27b1c\n",
      "temporary-2da60ed2-ea90-489d-a7a9-fbb608b187aa\n",
      "temporary-2e5c1c9b-17fa-46c9-b749-66ba9c16c63c\n",
      "temporary-34f216f6-e8aa-4929-b571-1ad8eb0eb076\n",
      "temporary-356527a7-fb07-4c60-9e21-86e89d2d0fad\n",
      "temporary-3cc812d8-f6cc-4067-95f6-64cfdd148664\n",
      "temporary-4281d609-a0d1-475b-b9a7-3a2d4722743d\n",
      "temporary-47876181-9dc6-42ae-8bb5-2178056ba46d\n",
      "temporary-49fce5b6-f56d-46e4-b073-bc05769f0872\n",
      "temporary-530a82ab-21dc-493d-933a-c58a73f23795\n",
      "temporary-552e7b09-53af-4ff7-8330-f622fde73ded\n",
      "temporary-58509e67-b535-45a2-8f5c-65aa1ead9b5d\n",
      "temporary-5897742e-89e4-4a53-aa87-a3116581e503\n",
      "temporary-59acecfd-a64b-463f-9d4b-e0a3c4d68be7\n",
      "temporary-59fbdbf5-26bf-4eff-9155-b4359c9e0cf2\n",
      "temporary-5d58e235-19a7-4304-86ca-726c36d1ef86\n",
      "temporary-67f52825-c5a8-4b3e-93e2-fdfa598ea88c\n",
      "temporary-6c3bad13-8495-4d28-acc2-b3a1d4da3fe3\n",
      "temporary-70f347e6-4ed3-4ad4-898d-783485f855ea\n",
      "temporary-72deab5b-d9dc-42e3-8c8d-307cc23d0ea2\n",
      "temporary-75458957-5bc7-460e-b7e7-523707f28acc\n",
      "temporary-769de0fb-876c-4b15-a922-2f3f8b60a0b7\n",
      "temporary-76c7e821-b8b2-4ddb-ac93-192c4e807215\n",
      "temporary-7bbc0b5d-ad04-40c2-8d6b-575e8dbe1ab8\n",
      "temporary-7cf863ee-3415-4ff8-af6e-aa7b01b1a93a\n",
      "temporary-7fea79f9-7bdb-4193-823c-0234b7ad388f\n",
      "temporary-80bc3881-9fc4-4866-9ef8-20d5e6de1276\n",
      "temporary-83b6e9be-4aa5-45fe-a952-9c92e9a5d114\n",
      "temporary-86600cbe-1263-4532-a135-ccf92d7052e1\n",
      "temporary-8b4c8a03-aef3-4ce4-915b-020e095692d1\n",
      "temporary-96f23276-692f-45a1-b899-f55122ddf8f5\n",
      "temporary-98eb9501-508f-4653-8f7d-f309135da457\n",
      "temporary-9b9c1ede-64d9-4398-ab92-119ab20de1f6\n",
      "temporary-9bbed1bd-89b9-4c6e-ac56-e61ccceac43f\n",
      "temporary-9c3de701-211c-4a5b-b5df-a1eafa520198\n",
      "temporary-9e9ad840-5e59-4449-8c5b-1dd874f25072\n",
      "temporary-a586bd0d-c28a-46c0-9415-6aafa8156d32\n",
      "temporary-b0d7b872-902c-49a7-841e-173f5764c8df\n",
      "temporary-ba6d0608-76fe-4cee-aa6b-05b9a9437196\n",
      "temporary-bb627c24-f417-4735-afbd-83783312c889\n",
      "temporary-bfd659e1-d867-4e13-93df-a5652c975877\n",
      "temporary-c4459010-c30b-49e9-9ff4-62c9835a785e\n",
      "temporary-c4b54fcf-69fe-48d7-84df-e6ca6110c3b4\n",
      "temporary-c9313174-de29-4cdf-8b2b-88f3136f9bbd\n",
      "temporary-cb31f432-d729-450a-afac-9cde69605520\n",
      "temporary-cbea21e2-a0a7-479e-9ff8-08b11d5db969\n",
      "temporary-cce34d52-88de-4bbc-801f-2aafda344e94\n",
      "temporary-cdd409ec-8db3-46ac-837a-f7e15be4a50f\n",
      "temporary-d601d066-26d5-48fb-bec0-457f238d52d7\n",
      "temporary-dc9c749b-1bb5-4656-a52d-3c87aefc6618\n",
      "temporary-dd59af2c-136f-465a-ae15-51fab36a6d76\n",
      "temporary-df019967-5c63-4528-83b9-b04cf1f3464d\n",
      "temporary-ee51a509-395e-43ec-bafb-40b1a04a13cc\n",
      "temporary-ef86dd18-7570-4b09-bced-797dceebedd5\n",
      "temporary-f0e4ac15-539b-4629-8376-f32e3590c1fb\n",
      "temporary-f3c3bb84-46f2-4eb9-8b14-1397eeb2a449\n",
      "temporary-f461cf22-04b2-440c-9b39-4ff0a316615e\n",
      "temporary-fd843e2d-590c-4d97-b19c-b7bcc074b60e\n",
      "vscode-git-7b362a6025.sock\n",
      "vscode-git-d3244e7224.sock\n",
      "vscode-ipc-5081bd6d-47cf-4d2a-aee2-2519e19b6a0a.sock\n",
      "vscode-ipc-967d5851-01c8-4ae6-a63e-b5bd195cdc0a.sock\n",
      "vscode-remote-containers-14819676-2e1c-493b-a499-b2f926386ecf.js\n",
      "vscode-remote-containers-f35c25be-7553-4c4b-b2c6-675e99192311.js\n",
      "vscode-remote-containers-ipc-14819676-2e1c-493b-a499-b2f926386ecf.sock\n",
      "vscode-remote-containers-ipc-f35c25be-7553-4c4b-b2c6-675e99192311.sock\n",
      "vscode-remote-containers-server-14819676-2e1c-493b-a499-b2f926386ecf.js\n",
      "vscode-remote-containers-server-f35c25be-7553-4c4b-b2c6-675e99192311.js\n",
      "yarn--resourcemanager.pid\n",
      "yarn-root-nodemanager.pid\n"
     ]
    }
   ],
   "source": [
    "!ls /tmp"
   ]
  },
  {
   "cell_type": "code",
   "execution_count": 35,
   "id": "0a4e12b5-3e80-4279-8373-f6edf413aae4",
   "metadata": {},
   "outputs": [],
   "source": [
    "pandas_df = df.toPandas()"
   ]
  },
  {
   "cell_type": "code",
   "execution_count": 60,
   "id": "69ae075d-3612-46e4-a76d-473bc4f83d08",
   "metadata": {},
   "outputs": [
    {
     "name": "stdout",
     "output_type": "stream",
     "text": [
      "<class 'pandas.core.frame.DataFrame'>\n",
      "RangeIndex: 21 entries, 0 to 20\n",
      "Data columns (total 2 columns):\n",
      " #   Column             Non-Null Count  Dtype \n",
      "---  ------             --------------  ----- \n",
      " 0   neighborhood       21 non-null     object\n",
      " 1   quantity_products  21 non-null     int32 \n",
      "dtypes: int32(1), object(1)\n",
      "memory usage: 380.0+ bytes\n"
     ]
    },
    {
     "data": {
      "image/png": "[encoded data removed]",
      "text/plain": [
       "<Figure size 432x288 with 1 Axes>"
      ]
     },
     "metadata": {
      "needs_background": "light"
     },
     "output_type": "display_data"
    }
   ],
   "source": [
    "import matplotlib.pyplot as plt\n",
    "import pandas as pd\n",
    "df1 = pandas_df[['neighborhood','quantity_products' ]]\n",
    "df_gen = df1.groupby(['neighborhood']).sum()\n",
    "df_gen = df_gen.reset_index()\n",
    "df_gen.info()\n",
    "x = df_gen['neighborhood'].values\n",
    "y = df_gen['quantity_products'].values\n",
    "plt.bar(x,y)\n",
    "plt.xticks(rotation=90)\n",
    "#plt.grid()\n",
    "plt.ylabel('Quantity products')\n",
    "plt.show()"
   ]
  },
  {
   "cell_type": "code",
   "execution_count": null,
   "id": "24f20685-8ed5-465e-8da6-6681fbeed0ff",
   "metadata": {},
   "outputs": [
    {
     "name": "stderr",
     "output_type": "stream",
     "text": [
      "/tmp/ipykernel_1421/2629574780.py:2: SettingWithCopyWarning: \n",
      "A value is trying to be set on a copy of a slice from a DataFrame.\n",
      "Try using .loc[row_indexer,col_indexer] = value instead\n",
      "\n",
      "See the caveats in the documentation: https://pandas.pydata.org/pandas-docs/stable/user_guide/indexing.html#returning-a-view-versus-a-copy\n",
      "  df1['event_date'] = df1['event_date'].astype(str)\n"
     ]
    },
    {
     "data": {
      "image/png": "[encoded data removed]",
      "text/plain": [
       "<Figure size 432x288 with 1 Axes>"
      ]
     },
     "metadata": {
      "needs_background": "light"
     },
     "output_type": "display_data"
    }
   ],
   "source": [
    "df1 = pandas_df[['event_date','quantity_products' ]]\n",
    "df1['event_date'] = df1['event_date'].astype(str)\n",
    "#df1.info()\n",
    "df_gen = df1.groupby(['event_date']).sum()\n",
    "#df_gen = df_gen.reset_index()\n",
    "#df_gen.info()\n",
    "plt.plot(df_gen['quantity_products'])\n",
    "#x = df_gen['neighborhood'].values\n",
    "#y = df_gen['quantity_products'].values\n",
    "#plt.bar(x,y)\n",
    "plt.xticks(rotation=90)\n",
    "plt.grid()\n",
    "plt.ylabel('Quantity products')\n",
    "plt.show()"
   ]
  },
  {
   "cell_type": "code",
   "execution_count": null,
   "id": "c3d468f1-5ae8-4c86-81c6-ba7a29a7da39",
   "metadata": {},
   "outputs": [],
   "source": []
  }
 ],
 "metadata": {
  "kernelspec": {
   "display_name": "Python 3 (ipykernel)",
   "language": "python",
   "name": "python3"
  },
  "language_info": {
   "codemirror_mode": {
    "name": "ipython",
    "version": 3
   },
   "file_extension": ".py",
   "mimetype": "text/x-python",
   "name": "python",
   "nbconvert_exporter": "python",
   "pygments_lexer": "ipython3",
   "version": "3.8.10"
  }
 },
 "nbformat": 4,
 "nbformat_minor": 5
}
