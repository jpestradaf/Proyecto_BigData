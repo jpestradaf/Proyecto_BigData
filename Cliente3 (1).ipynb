{
 "cells": [
  {
   "cell_type": "code",
   "execution_count": 1,
   "id": "3b8704ed-1a01-4592-81e9-7e1cb3dc55b7",
   "metadata": {},
   "outputs": [
    {
     "name": "stdout",
     "output_type": "stream",
     "text": [
      "Collecting geopandas\n",
      "  Downloading geopandas-0.13.2-py3-none-any.whl (1.1 MB)\n",
      "\u001b[2K     \u001b[90m━━━━━━━━━━━━━━━━━━━━━━━━━━━━━━━━━━━━━━━━\u001b[0m \u001b[32m1.1/1.1 MB\u001b[0m \u001b[31m2.6 MB/s\u001b[0m eta \u001b[36m0:00:00\u001b[0m00:01\u001b[0m00:01\u001b[0m0m\n",
      "\u001b[?25hCollecting fiona>=1.8.19\n",
      "  Downloading fiona-1.9.6-cp38-cp38-manylinux2014_x86_64.whl (15.7 MB)\n",
      "\u001b[2K     \u001b[90m━━━━━━━━━━━━━━━━━━━━━━━━━━━━━━━━━━━━━━━━\u001b[0m \u001b[32m15.7/15.7 MB\u001b[0m \u001b[31m45.6 MB/s\u001b[0m eta \u001b[36m0:00:00\u001b[0m00:01\u001b[0m00:01\u001b[0m\n",
      "\u001b[?25hCollecting pyproj>=3.0.1\n",
      "  Downloading pyproj-3.5.0-cp38-cp38-manylinux_2_17_x86_64.manylinux2014_x86_64.whl (7.8 MB)\n",
      "\u001b[2K     \u001b[90m━━━━━━━━━━━━━━━━━━━━━━━━━━━━━━━━━━━━━━━━\u001b[0m \u001b[32m7.8/7.8 MB\u001b[0m \u001b[31m19.3 MB/s\u001b[0m eta \u001b[36m0:00:00\u001b[0m00:01\u001b[0m00:01\u001b[0mm\n",
      "\u001b[?25hRequirement already satisfied: packaging in /usr/local/lib/python3.8/dist-packages (from geopandas) (21.3)\n",
      "Collecting shapely>=1.7.1\n",
      "  Downloading shapely-2.0.4-cp38-cp38-manylinux_2_17_x86_64.manylinux2014_x86_64.whl (2.5 MB)\n",
      "\u001b[2K     \u001b[90m━━━━━━━━━━━━━━━━━━━━━━━━━━━━━━━━━━━━━━━━\u001b[0m \u001b[32m2.5/2.5 MB\u001b[0m \u001b[31m65.9 MB/s\u001b[0m eta \u001b[36m0:00:00\u001b[0m:00:01\u001b[0m\n",
      "\u001b[?25hRequirement already satisfied: pandas>=1.1.0 in /usr/local/lib/python3.8/dist-packages (from geopandas) (1.4.2)\n",
      "Requirement already satisfied: importlib-metadata in /usr/local/lib/python3.8/dist-packages (from fiona>=1.8.19->geopandas) (4.11.4)\n",
      "Requirement already satisfied: attrs>=19.2.0 in /usr/local/lib/python3.8/dist-packages (from fiona>=1.8.19->geopandas) (21.4.0)\n",
      "Requirement already satisfied: certifi in /usr/local/lib/python3.8/dist-packages (from fiona>=1.8.19->geopandas) (2022.5.18.1)\n",
      "Requirement already satisfied: six in /usr/local/lib/python3.8/dist-packages (from fiona>=1.8.19->geopandas) (1.16.0)\n",
      "Collecting cligj>=0.5\n",
      "  Downloading cligj-0.7.2-py3-none-any.whl (7.1 kB)\n",
      "Requirement already satisfied: click~=8.0 in /usr/local/lib/python3.8/dist-packages (from fiona>=1.8.19->geopandas) (8.1.3)\n",
      "Collecting click-plugins>=1.0\n",
      "  Downloading click_plugins-1.1.1-py2.py3-none-any.whl (7.5 kB)\n",
      "Requirement already satisfied: pytz>=2020.1 in /usr/local/lib/python3.8/dist-packages (from pandas>=1.1.0->geopandas) (2022.1)\n",
      "Requirement already satisfied: numpy>=1.18.5 in /usr/local/lib/python3.8/dist-packages (from pandas>=1.1.0->geopandas) (1.22.4)\n",
      "Requirement already satisfied: python-dateutil>=2.8.1 in /usr/local/lib/python3.8/dist-packages (from pandas>=1.1.0->geopandas) (2.8.2)\n",
      "Requirement already satisfied: pyparsing!=3.0.5,>=2.0.2 in /usr/local/lib/python3.8/dist-packages (from packaging->geopandas) (2.4.7)\n",
      "Requirement already satisfied: zipp>=0.5 in /usr/local/lib/python3.8/dist-packages (from importlib-metadata->fiona>=1.8.19->geopandas) (3.8.0)\n",
      "Installing collected packages: shapely, pyproj, cligj, click-plugins, fiona, geopandas\n",
      "Successfully installed click-plugins-1.1.1 cligj-0.7.2 fiona-1.9.6 geopandas-0.13.2 pyproj-3.5.0 shapely-2.0.4\n",
      "\u001b[33mWARNING: Running pip as the 'root' user can result in broken permissions and conflicting behaviour with the system package manager. It is recommended to use a virtual environment instead: https://pip.pypa.io/warnings/venv\u001b[0m\u001b[33m\n",
      "\u001b[0m--- Logging error ---\n",
      "Traceback (most recent call last):\n",
      "  File \"/usr/local/lib/python3.8/dist-packages/pip/_internal/utils/logging.py\", line 177, in emit\n",
      "    self.console.print(renderable, overflow=\"ignore\", crop=False, style=style)\n",
      "  File \"/usr/local/lib/python3.8/dist-packages/pip/_vendor/rich/console.py\", line 1752, in print\n",
      "    extend(render(renderable, render_options))\n",
      "  File \"/usr/local/lib/python3.8/dist-packages/pip/_vendor/rich/console.py\", line 1390, in render\n",
      "    for render_output in iter_render:\n",
      "  File \"/usr/local/lib/python3.8/dist-packages/pip/_internal/utils/logging.py\", line 134, in __rich_console__\n",
      "    for line in lines:\n",
      "  File \"/usr/local/lib/python3.8/dist-packages/pip/_vendor/rich/segment.py\", line 245, in split_lines\n",
      "    for segment in segments:\n",
      "  File \"/usr/local/lib/python3.8/dist-packages/pip/_vendor/rich/console.py\", line 1368, in render\n",
      "    renderable = rich_cast(renderable)\n",
      "  File \"/usr/local/lib/python3.8/dist-packages/pip/_vendor/rich/protocol.py\", line 36, in rich_cast\n",
      "    renderable = cast_method()\n",
      "  File \"/usr/local/lib/python3.8/dist-packages/pip/_internal/self_outdated_check.py\", line 130, in __rich__\n",
      "    pip_cmd = get_best_invocation_for_this_pip()\n",
      "  File \"/usr/local/lib/python3.8/dist-packages/pip/_internal/utils/entrypoints.py\", line 58, in get_best_invocation_for_this_pip\n",
      "    if found_executable and os.path.samefile(\n",
      "  File \"/usr/lib/python3.8/genericpath.py\", line 101, in samefile\n",
      "    s2 = os.stat(f2)\n",
      "FileNotFoundError: [Errno 2] No such file or directory: '/usr/bin/pip3.8'\n",
      "Call stack:\n",
      "  File \"/usr/local/bin/pip\", line 8, in <module>\n",
      "    sys.exit(main())\n",
      "  File \"/usr/local/lib/python3.8/dist-packages/pip/_internal/cli/main.py\", line 70, in main\n",
      "    return command.main(cmd_args)\n",
      "  File \"/usr/local/lib/python3.8/dist-packages/pip/_internal/cli/base_command.py\", line 101, in main\n",
      "    return self._main(args)\n",
      "  File \"/usr/local/lib/python3.8/dist-packages/pip/_internal/cli/base_command.py\", line 223, in _main\n",
      "    self.handle_pip_version_check(options)\n",
      "  File \"/usr/local/lib/python3.8/dist-packages/pip/_internal/cli/req_command.py\", line 148, in handle_pip_version_check\n",
      "    pip_self_version_check(session, options)\n",
      "  File \"/usr/local/lib/python3.8/dist-packages/pip/_internal/self_outdated_check.py\", line 237, in pip_self_version_check\n",
      "    logger.info(\"[present-rich] %s\", upgrade_prompt)\n",
      "  File \"/usr/lib/python3.8/logging/__init__.py\", line 1446, in info\n",
      "    self._log(INFO, msg, args, **kwargs)\n",
      "  File \"/usr/lib/python3.8/logging/__init__.py\", line 1589, in _log\n",
      "    self.handle(record)\n",
      "  File \"/usr/lib/python3.8/logging/__init__.py\", line 1599, in handle\n",
      "    self.callHandlers(record)\n",
      "  File \"/usr/lib/python3.8/logging/__init__.py\", line 1661, in callHandlers\n",
      "    hdlr.handle(record)\n",
      "  File \"/usr/lib/python3.8/logging/__init__.py\", line 954, in handle\n",
      "    self.emit(record)\n",
      "  File \"/usr/local/lib/python3.8/dist-packages/pip/_internal/utils/logging.py\", line 179, in emit\n",
      "    self.handleError(record)\n",
      "Message: '[present-rich] %s'\n",
      "Arguments: (UpgradePrompt(old='22.1.2', new='24.0'),)\n"
     ]
    }
   ],
   "source": [
    "!pip install geopandas"
   ]
  },
  {
   "cell_type": "code",
   "execution_count": 13,
   "id": "7ed32104-3d75-4e9c-a0e5-2c774fe0521b",
   "metadata": {},
   "outputs": [
    {
     "name": "stdout",
     "output_type": "stream",
     "text": [
      "mkdir: `/raw': File exists\n"
     ]
    }
   ],
   "source": [
    "!hdfs dfs -mkdir /raw"
   ]
  },
  {
   "cell_type": "code",
   "execution_count": 12,
   "id": "b220ec7c-919f-4f6a-8616-74759e93211c",
   "metadata": {},
   "outputs": [
    {
     "name": "stdout",
     "output_type": "stream",
     "text": [
      "Deleted /raw/data_raw.parquet\n"
     ]
    }
   ],
   "source": [
    "!hadoop fs -rm -r /raw/data_raw.parquet"
   ]
  },
  {
   "cell_type": "code",
   "execution_count": 14,
   "id": "bf64e5d2-4d29-4cb3-ae86-49e92824dc07",
   "metadata": {},
   "outputs": [
    {
     "data": {
      "text/html": [
       "\n",
       "            <div>\n",
       "                <p><b>SparkSession - in-memory</b></p>\n",
       "                \n",
       "        <div>\n",
       "            <p><b>SparkContext</b></p>\n",
       "\n",
       "            <p><a href=\"http://3d568b354311:4040\">Spark UI</a></p>\n",
       "\n",
       "            <dl>\n",
       "              <dt>Version</dt>\n",
       "                <dd><code>v3.1.3</code></dd>\n",
       "              <dt>Master</dt>\n",
       "                <dd><code>local[*]</code></dd>\n",
       "              <dt>AppName</dt>\n",
       "                <dd><code>streaming</code></dd>\n",
       "            </dl>\n",
       "        </div>\n",
       "        \n",
       "            </div>\n",
       "        "
      ],
      "text/plain": [
       "<pyspark.sql.session.SparkSession at 0x7795541a3d00>"
      ]
     },
     "execution_count": 14,
     "metadata": {},
     "output_type": "execute_result"
    }
   ],
   "source": [
    "from pyspark.sql import SparkSession\n",
    "from pyspark.sql.functions import *\n",
    "from pyspark.sql.types import *\n",
    "import time\n",
    "import json\n",
    "\n",
    "spark = SparkSession \\\n",
    "  .builder \\\n",
    "  .appName(\"streaming\") \\\n",
    "  .master(\"local[*]\") \\\n",
    "  .getOrCreate()\n",
    "\n",
    "spark"
   ]
  },
  {
   "cell_type": "code",
   "execution_count": 15,
   "id": "7b62bb85-ffe2-42ad-9272-70d260dbef93",
   "metadata": {},
   "outputs": [],
   "source": [
    "schema = ArrayType(StructType([\n",
    "    StructField(\"latitude\", DoubleType(), True),\n",
    "    StructField(\"longitude\", DoubleType(), True),\n",
    "    StructField(\"date\", StringType(), True),\n",
    "    StructField(\"customer_id\", IntegerType(), True),\n",
    "    StructField(\"employee_id\", IntegerType(), True),\n",
    "    StructField(\"quantity_products\", IntegerType(), True),\n",
    "    StructField(\"order_id\", StringType(), True)\n",
    "]))\n",
    "\n",
    "static_schema = StructType([\n",
    "    StructField(\"latitude\", DoubleType(), True),\n",
    "    StructField(\"longitude\", DoubleType(), True),\n",
    "    StructField(\"date\", StringType(), True),\n",
    "    StructField(\"customer_id\", IntegerType(), True),\n",
    "    StructField(\"employee_id\", IntegerType(), True),\n",
    "    StructField(\"quantity_products\", IntegerType(), True),\n",
    "    StructField(\"order_id\", StringType(), True)\n",
    "])"
   ]
  },
  {
   "cell_type": "code",
   "execution_count": 16,
   "id": "7a3c43c1-6683-40fb-b4a8-fb9c7497cb76",
   "metadata": {},
   "outputs": [
    {
     "name": "stderr",
     "output_type": "stream",
     "text": [
      "                                                                                \r"
     ]
    }
   ],
   "source": [
    "static_df = spark.createDataFrame([], static_schema)\n",
    "n = 1\n",
    "while n<=30:\n",
    "    streaming_df = spark.readStream.format(\"socket\").option(\"host\", \"localhost\").option(\"port\", \"8000\").load()\n",
    "    json_df = streaming_df.select(from_json(col(\"value\"), schema).alias(\"data\"))\n",
    "    json_df = json_df.selectExpr(\"explode(data) as dict\").select(\"dict.*\")\n",
    "    writing_df = json_df.writeStream.format(\"memory\").queryName(\"socketData\").outputMode(\"update\").start()\n",
    "    static_stream_df = spark.sql(\"SELECT * FROM socketData\")\n",
    "    static_df = static_df.union(static_stream_df)\n",
    "    writing_df.awaitTermination(2)\n",
    "    writing_df.stop()\n",
    "    n += 1\n",
    "    if static_df.count() > 20:\n",
    "        static_df.write.mode('append').parquet('/raw/data_raw.parquet')\n",
    "        static_df = spark.createDataFrame([], static_schema)\n",
    "    time.sleep(5)"
   ]
  },
  {
   "cell_type": "code",
   "execution_count": 17,
   "id": "7bc91841-026d-4ba2-a32c-68fb269c5fee",
   "metadata": {},
   "outputs": [
    {
     "name": "stdout",
     "output_type": "stream",
     "text": [
      "Tabla estatica: 231\n",
      "+------------------+------------------+-------------------+-----------+-----------+-----------------+------------------------------------+\n",
      "|latitude          |longitude         |date               |customer_id|employee_id|quantity_products|order_id                            |\n",
      "+------------------+------------------+-------------------+-----------+-----------+-----------------+------------------------------------+\n",
      "|6.337055484171179 |-75.69237343917386|18/06/2024 21:26:29|8837       |1679       |265              |d8b9b417-b098-4344-b137-362894e4dcky|\n",
      "|6.237450077477118 |-75.4922645802722 |18/06/2024 21:26:29|7267       |9726       |634              |d8b9b417-b098-4344-b137-362894e4dckx|\n",
      "|6.211663524422019 |-75.66130353520231|18/06/2024 21:26:29|9569       |1114       |372              |d8b9b417-b098-4344-b137-362894e4dckw|\n",
      "|6.276978616060629 |-75.54003012817529|18/06/2024 21:26:29|2545       |9726       |654              |d8b9b417-b098-4344-b137-362894e4dckv|\n",
      "|6.214086996557132 |-75.51740765715363|18/06/2024 21:26:29|5460       |2470       |804              |d8b9b417-b098-4344-b137-362894e4dcku|\n",
      "|6.196118509666326 |-75.66236989297653|18/06/2024 21:26:29|9983       |6696       |441              |d8b9b417-b098-4344-b137-362894e4dckt|\n",
      "|6.272129864324031 |-75.64890269186544|18/06/2024 21:26:29|6964       |1473       |351              |d8b9b417-b098-4344-b137-362894e4dcks|\n",
      "|6.305249974263929 |-75.55656182113897|18/06/2024 21:26:29|9430       |6337       |726              |d8b9b417-b098-4344-b137-362894e4dckr|\n",
      "|6.360449716362895 |-75.69957046963381|18/06/2024 21:26:22|5515       |1679       |165              |d8b9b417-b098-4344-b137-362894e4dckq|\n",
      "|6.338828078129224 |-75.713118257052  |18/06/2024 21:26:22|9176       |6696       |615              |d8b9b417-b098-4344-b137-362894e4dckp|\n",
      "|6.29904365906197  |-75.63363902729483|18/06/2024 21:26:22|2666       |3455       |232              |d8b9b417-b098-4344-b137-362894e4dcko|\n",
      "|6.240149235743102 |-75.64796622525655|18/06/2024 21:26:22|8714       |1737       |683              |d8b9b417-b098-4344-b137-362894e4dckn|\n",
      "|6.238848004778292 |-75.67715336780397|18/06/2024 21:26:22|4797       |1473       |660              |d8b9b417-b098-4344-b137-362894e4dckm|\n",
      "|6.258122455463511 |-75.56809089888037|18/06/2024 21:26:22|8144       |9726       |836              |d8b9b417-b098-4344-b137-362894e4dckl|\n",
      "|6.1682019245573505|-75.67945762702763|18/06/2024 21:26:22|8481       |3830       |341              |d8b9b417-b098-4344-b137-362894e4dckk|\n",
      "|6.355541542608058 |-75.69878617127664|18/06/2024 21:26:22|3472       |1561       |223              |d8b9b417-b098-4344-b137-362894e4dckj|\n",
      "|6.238686550450639 |-75.56815898930817|18/06/2024 21:26:22|9595       |1737       |514              |d8b9b417-b098-4344-b137-362894e4dcki|\n",
      "|6.2397823017713065|-75.55571838181604|18/06/2024 21:26:22|3472       |5668       |461              |d8b9b417-b098-4344-b137-362894e4dckh|\n",
      "|6.247008640494506 |-75.59392559547524|18/06/2024 21:26:15|9633       |1114       |667              |d8b9b417-b098-4344-b137-362894e4dckg|\n",
      "|6.243504719564348 |-75.63964223785572|18/06/2024 21:26:15|9430       |1561       |961              |d8b9b417-b098-4344-b137-362894e4dckf|\n",
      "+------------------+------------------+-------------------+-----------+-----------+-----------------+------------------------------------+\n",
      "only showing top 20 rows\n",
      "\n"
     ]
    }
   ],
   "source": [
    "df = spark.read.parquet(\"/raw/data_raw.parquet\")\n",
    "print(\"Tabla estatica:\", df.count())\n",
    "df = df.orderBy(desc(\"order_id\"))\n",
    "df.show(truncate=False)"
   ]
  },
  {
   "cell_type": "code",
   "execution_count": 18,
   "id": "22682611-af0e-41c0-80d1-d34f9abe3202",
   "metadata": {},
   "outputs": [],
   "source": [
    "paths = [\n",
    "    'file:///workspace/base.data/50001.parquet',\n",
    "    'file:///workspace/base.data/customers.parquet',\n",
    "    'file:///workspace/base.data/employees.parquet',\n",
    "    'file:///workspace/base.data/medellin_neighborhoods.parquet'\n",
    "]\n",
    "\n",
    "hdfs_destination = \"hdfs:///raw/\"\n"
   ]
  },
  {
   "cell_type": "markdown",
   "id": "a1cead0c-e4c1-49c0-9f54-651797912c0a",
   "metadata": {},
   "source": [
    "Función para mover archivos a HDFS"
   ]
  },
  {
   "cell_type": "code",
   "execution_count": 19,
   "id": "d31f572f-276e-48e7-99bc-d0d6753346da",
   "metadata": {},
   "outputs": [
    {
     "name": "stdout",
     "output_type": "stream",
     "text": [
      "Archivo 50001.parquet movido a hdfs:///raw/\n",
      "Archivo customers.parquet movido a hdfs:///raw/\n",
      "Archivo employees.parquet movido a hdfs:///raw/\n",
      "Archivo medellin_neighborhoods.parquet movido a hdfs:///raw/\n"
     ]
    }
   ],
   "source": [
    "def move_to_hdfs(file_paths, hdfs_dest):\n",
    "    for path in file_paths:\n",
    "        # Leer el archivo local\n",
    "        df = spark.read.parquet(path)\n",
    "        \n",
    "        # Extraer el nombre del archivo para usarlo como nombre de archivo en HDFS\n",
    "        file_name = path.split(\"/\")[-1]\n",
    "        \n",
    "        # Escribir en HDFS\n",
    "        df.write.parquet(hdfs_dest + file_name, mode=\"overwrite\")\n",
    "        \n",
    "        print(f\"Archivo {file_name} movido a {hdfs_dest}\")\n",
    "\n",
    "# Llamar a la función para mover archivos\n",
    "move_to_hdfs(paths, hdfs_destination)\n"
   ]
  },
  {
   "cell_type": "markdown",
   "id": "d567b18a-0342-4d60-99d0-feed8d701250",
   "metadata": {},
   "source": [
    "Listar Archivos en HDFS desde Python"
   ]
  },
  {
   "cell_type": "code",
   "execution_count": 20,
   "id": "fb908d92-2fbc-4e73-b2ce-46aaa47e3b0b",
   "metadata": {},
   "outputs": [
    {
     "name": "stdout",
     "output_type": "stream",
     "text": [
      "Found 5 items\n",
      "drwxr-xr-x   - root supergroup          0 2024-06-18 21:31 /raw/50001.parquet\n",
      "drwxr-xr-x   - root supergroup          0 2024-06-18 21:31 /raw/customers.parquet\n",
      "drwxr-xr-x   - root supergroup          0 2024-06-18 21:26 /raw/data_raw.parquet\n",
      "drwxr-xr-x   - root supergroup          0 2024-06-18 21:31 /raw/employees.parquet\n",
      "drwxr-xr-x   - root supergroup          0 2024-06-18 21:31 /raw/medellin_neighborhoods.parquet\n",
      "\n"
     ]
    }
   ],
   "source": [
    "from subprocess import Popen, PIPE\n",
    "\n",
    "# Comando para listar archivos en HDFS\n",
    "command = ['hadoop', 'fs', '-ls', '/raw']\n",
    "\n",
    "# Ejecutar el comando y capturar la salida\n",
    "process = Popen(command, stdout=PIPE, stderr=PIPE)\n",
    "stdout, stderr = process.communicate()\n",
    "\n",
    "# Decodificar la salida y mostrarla\n",
    "output = stdout.decode()\n",
    "print(output)\n"
   ]
  },
  {
   "cell_type": "code",
   "execution_count": 21,
   "id": "bed29a1c-40a1-4e7c-a5f4-c401b4efac16",
   "metadata": {},
   "outputs": [],
   "source": [
    "# Definir la ruta base en HDFS\n",
    "hdfs_base_path = 'hdfs://localhost:9000/raw'\n",
    "\n",
    "# Leer cada archivo Parquet\n",
    "df_50001 = spark.read.parquet(hdfs_base_path + '/50001.parquet')\n",
    "df_customers = spark.read.parquet(hdfs_base_path + '/customers.parquet')\n",
    "df_data_raw = spark.read.parquet(hdfs_base_path + '/data_raw.parquet')\n",
    "df_employees = spark.read.parquet(hdfs_base_path + '/employees.parquet')\n",
    "df_neighborhoods = spark.read.parquet(hdfs_base_path + '/medellin_neighborhoods.parquet')\n"
   ]
  },
  {
   "cell_type": "code",
   "execution_count": 22,
   "id": "c7630fa9-7da8-404b-93bb-dac0f77aaabc",
   "metadata": {},
   "outputs": [
    {
     "name": "stdout",
     "output_type": "stream",
     "text": [
      "+------------------+------------------+-------------------+-----------+-----------+-----------------+--------------------+\n",
      "|          latitude|         longitude|               date|customer_id|employee_id|quantity_products|            order_id|\n",
      "+------------------+------------------+-------------------+-----------+-----------+-----------------+--------------------+\n",
      "| 6.199984569931321| -75.5726134212415|18/06/2024 21:23:26|       4419|       9726|              487|d8b9b417-b098-434...|\n",
      "| 6.182487449108699|-75.56851534023963|18/06/2024 21:25:29|       4161|       9726|              251|d8b9b417-b098-434...|\n",
      "| 6.208628146586892|-75.53739380286768|18/06/2024 21:25:52|       1669|       1679|              531|d8b9b417-b098-434...|\n",
      "|   6.2076206902838|-75.53799454237576|18/06/2024 21:23:49|       4207|       1482|              266|d8b9b417-b098-434...|\n",
      "| 6.304345061931938|-75.54549401566487|18/06/2024 21:22:55|       1999|       6337|              340|d8b9b417-b098-434...|\n",
      "|  6.27925875563687|-75.68013314132412|18/06/2024 21:24:12|       5395|       6696|              730|d8b9b417-b098-434...|\n",
      "| 6.230798374017854| -75.6475318581205|18/06/2024 21:26:15|       4360|       9435|              481|d8b9b417-b098-434...|\n",
      "|6.2772815059847495|-75.70498856251157|18/06/2024 21:24:43|       5390|       2470|              232|d8b9b417-b098-434...|\n",
      "| 6.283836054027665|-75.58308697037859|18/06/2024 21:25:06|       4431|       6659|              398|d8b9b417-b098-434...|\n",
      "| 6.244030281261044|-75.60573631029013|18/06/2024 21:23:26|       5195|       2232|              634|d8b9b417-b098-434...|\n",
      "+------------------+------------------+-------------------+-----------+-----------+-----------------+--------------------+\n",
      "only showing top 10 rows\n",
      "\n"
     ]
    }
   ],
   "source": [
    "df_data_raw.show(10)\n"
   ]
  },
  {
   "cell_type": "code",
   "execution_count": 23,
   "id": "eac3290d-5258-45ee-a039-224c05bba946",
   "metadata": {},
   "outputs": [
    {
     "name": "stdout",
     "output_type": "stream",
     "text": [
      "+--------+----------+----------+----------+----------+--------------------+\n",
      "|DPTOMPIO|DPTO_CCDGO|MPIO_CCDGO|MPIO_CNMBR|MPIO_CCNCT|            geometry|\n",
      "+--------+----------+----------+----------+----------+--------------------+\n",
      "|   05001|        05|       001|  MEDELLÍN|     05001|[01 03 00 00 00 0...|\n",
      "+--------+----------+----------+----------+----------+--------------------+\n",
      "\n"
     ]
    }
   ],
   "source": [
    "df_50001.show()"
   ]
  },
  {
   "cell_type": "code",
   "execution_count": 24,
   "id": "fdd6a694-b8e7-44e9-a8ce-8f047ef110e0",
   "metadata": {},
   "outputs": [
    {
     "name": "stdout",
     "output_type": "stream",
     "text": [
      "+--------+------+----------+--------------+-----------------+---------------------------+--------------+----------------+------------------+--------------------+\n",
      "|OBJECTID|CODIGO|    NOMBRE|IDENTIFICACION|LIMITEMUNICIPIOID|SUBTIPO_COMUNACORREGIMIENTO|LINK_DOCUMENTO|       SHAPEAREA|          SHAPELEN|            geometry|\n",
      "+--------+------+----------+--------------+-----------------+---------------------------+--------------+----------------+------------------+--------------------+\n",
      "|     321|    01|   POPULAR|      COMUNA 1|              001|                          1|          null|3098289.60257159| 9604.987826371042|[01 03 00 00 00 0...|\n",
      "|     322|    02|SANTA CRUZ|      COMUNA 2|              001|                          1|          null|2195874.52580248| 8597.714448746181|[01 03 00 00 00 0...|\n",
      "|     323|    03|  MANRIQUE|      COMUNA 3|              001|                          1|          null|5096746.29132065|  12078.2371083362|[01 03 00 00 00 0...|\n",
      "|     324|    04|  ARANJUEZ|      COMUNA 4|              001|                          1|          null|4883731.20686567|  9643.08926478059|[01 03 00 00 00 0...|\n",
      "|     325|    05|  CASTILLA|      COMUNA 5|              001|                          1|          null|6064367.05380115|16098.614898044401|[01 03 00 00 00 0...|\n",
      "+--------+------+----------+--------------+-----------------+---------------------------+--------------+----------------+------------------+--------------------+\n",
      "only showing top 5 rows\n",
      "\n"
     ]
    }
   ],
   "source": [
    "df_neighborhoods.show(5)"
   ]
  },
  {
   "cell_type": "code",
   "execution_count": 25,
   "id": "873d1b36-03c8-40ce-9339-c46d9f0b4e41",
   "metadata": {},
   "outputs": [
    {
     "name": "stdout",
     "output_type": "stream",
     "text": [
      "+-----------+----------------+--------------+--------------------+--------------------+---------+\n",
      "|employee_id|            name|         phone|               email|             address|comission|\n",
      "+-----------+----------------+--------------+--------------------+--------------------+---------+\n",
      "|       3830|Shaeleigh Turner|1-382-217-5724|pellentesque.ultr...| Ap #497-3659 Eu St.|     0.06|\n",
      "|       8362|  Catherine King|1-721-878-1085|  sed@localstack.com|Ap #897-2636 Enim...|     0.07|\n",
      "|       6696|    Patricia Cox|1-265-643-2312|imperdiet.erat.no...|Ap #775-1599 Sed Av.|     0.04|\n",
      "|       1482|   Elijah Parker|1-960-392-6387|blandit.congue@lo...|P.O. Box 351, 382...|     0.13|\n",
      "|       9435|    Ryan Nichols|1-746-416-6687|porttitor.tellus....|P.O. Box 829, 407...|     0.18|\n",
      "+-----------+----------------+--------------+--------------------+--------------------+---------+\n",
      "only showing top 5 rows\n",
      "\n"
     ]
    }
   ],
   "source": [
    "df_employees.show(5)"
   ]
  },
  {
   "cell_type": "code",
   "execution_count": 26,
   "id": "7596947a-b3a2-4faa-90b3-74660dea0a49",
   "metadata": {},
   "outputs": [
    {
     "name": "stdout",
     "output_type": "stream",
     "text": [
      "root\n",
      " |-- latitude: double (nullable = true)\n",
      " |-- longitude: double (nullable = true)\n",
      " |-- date: string (nullable = true)\n",
      " |-- customer_id: integer (nullable = true)\n",
      " |-- employee_id: integer (nullable = true)\n",
      " |-- quantity_products: integer (nullable = true)\n",
      " |-- order_id: string (nullable = true)\n",
      "\n",
      "La cantidad de eventos es: 231\n"
     ]
    }
   ],
   "source": [
    "# Mostrar el esquema del DataFrame\n",
    "df_data_raw.printSchema()\n",
    "\n",
    "# Contar la cantidad de eventos\n",
    "event_count = df_data_raw.count()\n",
    "# Mostrar la cantidad de eventos\n",
    "print(f\"La cantidad de eventos es: {event_count}\")"
   ]
  },
  {
   "cell_type": "code",
   "execution_count": 27,
   "id": "e523b73c-f8d8-43db-90ff-c10cc6c033fc",
   "metadata": {},
   "outputs": [],
   "source": [
    "#Dejar las tablas en bronze con HIVE\n",
    "from pyspark.sql import SparkSession\n",
    "\n",
    "spark = SparkSession.builder \\\n",
    "    .appName(\"Spark SQL Hive Integration\") \\\n",
    "    .config(\"spark.sql.warehouse.dir\", \"/user/hive/warehouse\") \\\n",
    "    .enableHiveSupport() \\\n",
    "    .getOrCreate()"
   ]
  },
  {
   "cell_type": "code",
   "execution_count": 28,
   "id": "e76937de-511a-4a03-ad80-be2f86f5f782",
   "metadata": {},
   "outputs": [],
   "source": [
    "# Aumentar el límite de la tasa de datos de IOPub\n",
    "from notebook.services.config import ConfigManager\n",
    "cm = ConfigManager().update('notebook', {\n",
    "    'ServerApp': {\n",
    "        'iopub_data_rate_limit': 10000000\n",
    "    }\n",
    "})\n"
   ]
  },
  {
   "cell_type": "code",
   "execution_count": 29,
   "id": "08dd74a7-a3ff-4677-9f10-d81c5a1588e6",
   "metadata": {},
   "outputs": [
    {
     "data": {
      "text/plain": [
       "DataFrame[]"
      ]
     },
     "execution_count": 29,
     "metadata": {},
     "output_type": "execute_result"
    }
   ],
   "source": [
    "# Crear la base de datos bronze si no existe\n",
    "spark.sql(\"CREATE DATABASE IF NOT EXISTS bronze\")"
   ]
  },
  {
   "cell_type": "code",
   "execution_count": 30,
   "id": "3d407f02-a261-4837-8a92-6ad43b33cb01",
   "metadata": {},
   "outputs": [
    {
     "name": "stderr",
     "output_type": "stream",
     "text": [
      "                                                                                \r"
     ]
    }
   ],
   "source": [
    "# Guardar los datos como una tabla en la base de datos bronze\n",
    "df_data_raw.write.mode('overwrite').saveAsTable('bronze.almacenamiento_bronze')"
   ]
  },
  {
   "cell_type": "code",
   "execution_count": 31,
   "id": "49a93d43-92f8-43c3-adb9-19478b6bda83",
   "metadata": {},
   "outputs": [
    {
     "name": "stdout",
     "output_type": "stream",
     "text": [
      "+------------------+------------------+-------------------+-----------+-----------+-----------------+------------------------------------+\n",
      "|latitude          |longitude         |date               |customer_id|employee_id|quantity_products|order_id                            |\n",
      "+------------------+------------------+-------------------+-----------+-----------+-----------------+------------------------------------+\n",
      "|6.287253619436304 |-75.59859567560713|18/06/2024 21:23:57|9723       |3830       |386              |d8b9b417-b098-4344-b137-362894e4dcel|\n",
      "|6.203530513155968 |-75.63432984287904|18/06/2024 21:22:55|9059       |1561       |593              |d8b9b417-b098-4344-b137-362894e4dccl|\n",
      "|6.225420074041011 |-75.65419144934765|18/06/2024 21:24:20|3770       |3455       |636              |d8b9b417-b098-4344-b137-362894e4dcfl|\n",
      "|6.238686550450639 |-75.56815898930817|18/06/2024 21:26:22|9595       |1737       |514              |d8b9b417-b098-4344-b137-362894e4dcki|\n",
      "|6.292585887939182 |-75.6348551273931 |18/06/2024 21:24:43|7629       |6337       |724              |d8b9b417-b098-4344-b137-362894e4dcgn|\n",
      "|6.232084268331572 |-75.51550951049711|18/06/2024 21:25:14|6776       |1114       |431              |d8b9b417-b098-4344-b137-362894e4dchk|\n",
      "|6.228942950196354 |-75.5936551795483 |18/06/2024 21:23:33|8525       |5668       |398              |d8b9b417-b098-4344-b137-362894e4dcdo|\n",
      "|6.2132438242163355|-75.68728459293375|18/06/2024 21:25:36|9514       |5668       |529              |d8b9b417-b098-4344-b137-362894e4dcig|\n",
      "|6.241947867079813 |-75.57603658548045|18/06/2024 21:25:58|3459       |3455       |650              |d8b9b417-b098-4344-b137-362894e4dcjf|\n",
      "|6.2285128771735385|-75.56891966725814|18/06/2024 21:23:57|3369       |1561       |538              |d8b9b417-b098-4344-b137-362894e4dcem|\n",
      "|6.2313435406048505|-75.60843069932139|18/06/2024 21:23:03|3632       |2232       |168              |d8b9b417-b098-4344-b137-362894e4dccm|\n",
      "|6.3096542729992535|-75.62122223558865|18/06/2024 21:24:20|7175       |2470       |628              |d8b9b417-b098-4344-b137-362894e4dcfm|\n",
      "|6.234749449815521 |-75.56852061340028|18/06/2024 21:24:04|5065       |9435       |422              |d8b9b417-b098-4344-b137-362894e4dcet|\n",
      "|6.254376546554159 |-75.54589768758942|18/06/2024 21:23:10|1888       |4942       |355              |d8b9b417-b098-4344-b137-362894e4dcct|\n",
      "|6.292306151221884 |-75.58973690667078|18/06/2024 21:24:28|1499       |9435       |676              |d8b9b417-b098-4344-b137-362894e4dcft|\n",
      "|6.360449716362895 |-75.69957046963381|18/06/2024 21:26:22|5515       |1679       |165              |d8b9b417-b098-4344-b137-362894e4dckq|\n",
      "|6.272872749597026 |-75.62440970070503|18/06/2024 21:24:50|5102       |4942       |422              |d8b9b417-b098-4344-b137-362894e4dcgv|\n",
      "|6.357031223771961 |-75.71261609573133|18/06/2024 21:25:21|9534       |2470       |471              |d8b9b417-b098-4344-b137-362894e4dchs|\n",
      "|6.207478366629022 |-75.64826738572094|18/06/2024 21:23:41|5395       |1737       |405              |d8b9b417-b098-4344-b137-362894e4dcdw|\n",
      "|6.353350711465851 |-75.66352085347923|18/06/2024 21:25:44|6663       |4750       |700              |d8b9b417-b098-4344-b137-362894e4dcio|\n",
      "+------------------+------------------+-------------------+-----------+-----------+-----------------+------------------------------------+\n",
      "only showing top 20 rows\n",
      "\n"
     ]
    }
   ],
   "source": [
    "# Verificar que la tabla está guardada en almacenamiento_bronze\n",
    "spark.sql(\"SELECT * FROM bronze.almacenamiento_bronze\").show(truncate=False)"
   ]
  },
  {
   "cell_type": "code",
   "execution_count": 32,
   "id": "6d426422-c8cf-4ff2-b69c-357fab7f5a9b",
   "metadata": {},
   "outputs": [],
   "source": [
    "# Crear la base de datos bronze si no existe\n",
    "spark.sql(\"CREATE DATABASE IF NOT EXISTS bronze\")\n",
    "# Guardar los datos como una tabla en la base de datos municipio\n",
    "df_50001.write.mode('overwrite').saveAsTable('bronze.municipio')\n",
    "# Verificar que la tabla está guardada en municipio\n",
    "#spark.sql(\"SELECT * FROM bronze.municipio\").show(truncate=False, n=20)\n"
   ]
  },
  {
   "cell_type": "code",
   "execution_count": 35,
   "id": "b6ff64eb-71a2-4976-9ba6-3cb37b9b2330",
   "metadata": {},
   "outputs": [
    {
     "name": "stdout",
     "output_type": "stream",
     "text": [
      "+------+----------+--------------+-----------------+---------------------------+\n",
      "|CODIGO|NOMBRE    |IDENTIFICACION|LIMITEMUNICIPIOID|SUBTIPO_COMUNACORREGIMIENTO|\n",
      "+------+----------+--------------+-----------------+---------------------------+\n",
      "|01    |POPULAR   |COMUNA 1      |001              |1                          |\n",
      "|02    |SANTA CRUZ|COMUNA 2      |001              |1                          |\n",
      "|03    |MANRIQUE  |COMUNA 3      |001              |1                          |\n",
      "|04    |ARANJUEZ  |COMUNA 4      |001              |1                          |\n",
      "|05    |CASTILLA  |COMUNA 5      |001              |1                          |\n",
      "+------+----------+--------------+-----------------+---------------------------+\n",
      "only showing top 5 rows\n",
      "\n"
     ]
    }
   ],
   "source": [
    "# Crear la base de datos bronze si no existe\n",
    "spark.sql(\"CREATE DATABASE IF NOT EXISTS bronze\")\n",
    "# Guardar los datos como una tabla en la base de datos neighborhoods\n",
    "df_neighborhoods.write.mode('overwrite').saveAsTable('bronze.neighborhoods')\n",
    "# Verificar que la tabla está guardada en barrios y mostrar solo las primeras 20 filas de algunas columnas\n",
    "spark.sql(\"SELECT CODIGO, NOMBRE, IDENTIFICACION, LIMITEMUNICIPIOID,SUBTIPO_COMUNACORREGIMIENTO  FROM bronze.neighborhoods\").show(truncate=False, n=5)\n"
   ]
  },
  {
   "cell_type": "code",
   "execution_count": 36,
   "id": "fbaf02e1-5d22-49b5-ad0a-631ec350bb40",
   "metadata": {},
   "outputs": [
    {
     "name": "stdout",
     "output_type": "stream",
     "text": [
      "+-----------+--------------------+--------------+------------------------------+-------------------------------+\n",
      "|customer_id|name                |phone         |email                         |address                        |\n",
      "+-----------+--------------------+--------------+------------------------------+-------------------------------+\n",
      "|4758       |Callie Reyes        |1-765-410-5785|magnis.dis@protonmail.ca      |151-4553 Interdum Road         |\n",
      "|5379       |Elizabeth Washington|1-955-634-5542|vel@google.edu                |4063 Nunc St.                  |\n",
      "|8111       |Hasad Wright        |1-324-830-5595|sed.auctor@aol.org            |Ap #625-8512 Non Rd.           |\n",
      "|9258       |Kirk Watts          |1-578-784-1146|laoreet.ipsum@protonmail.org  |211-2213 Pede St.              |\n",
      "|9142       |Cally Robbins       |1-887-472-0478|at.augue.id@google.com        |Ap #287-6324 A, Av.            |\n",
      "|5041       |Benedict Underwood  |1-138-146-9856|ante.ipsum@yahoo.ca           |2927 Velit Rd.                 |\n",
      "|4082       |Maite Frye          |1-978-891-2669|felis.ullamcorper@yahoo.org   |P.O. Box 304, 9982 Fusce Avenue|\n",
      "|7169       |John Austin         |1-110-466-4233|sit.amet.risus@yahoo.net      |4152 Nec Av.                   |\n",
      "|8481       |Janna Luna          |1-766-272-8164|donec.tincidunt@icloud.net    |Ap #411-662 Cum St.            |\n",
      "|9956       |Fritz Reid          |1-424-372-6261|malesuada@outlook.net         |308-2145 Neque. Ave            |\n",
      "|9867       |Alden Kerr          |1-246-193-8421|dolor@outlook.couk            |Ap #864-5025 Ipsum St.         |\n",
      "|8920       |Guinevere Ratliff   |1-601-313-7068|sed@protonmail.ca             |Ap #492-6216 Purus. Rd.        |\n",
      "|9534       |Thor Donaldson      |1-234-408-7380|rutrum@outlook.com            |Ap #655-1719 Sagittis St.      |\n",
      "|6693       |Jakeem Sargent      |1-151-736-7234|vitae.aliquam.eros@outlook.com|Ap #937-1675 Eu, Avenue        |\n",
      "|5363       |Knox Best           |1-768-521-2260|nunc.id@hotmail.com           |Ap #145-4692 Quis Street       |\n",
      "|5582       |Emily Carr          |1-820-241-7872|vel@protonmail.couk           |3036 Sit Rd.                   |\n",
      "|1215       |Chancellor Hurley   |1-546-281-1855|eget.volutpat@yahoo.com       |684-6633 Nec St.               |\n",
      "|2082       |Dean Fischer        |1-537-215-3226|accumsan@icloud.net           |242-770 Per Av.                |\n",
      "|5405       |Mariko Jacobson     |1-834-652-1855|risus.donec@icloud.net        |423-3881 Nisl. Road            |\n",
      "|1965       |Dustin Powers       |1-615-360-3967|erat.eget@protonmail.org      |Ap #959-5827 Malesuada Av.     |\n",
      "+-----------+--------------------+--------------+------------------------------+-------------------------------+\n",
      "only showing top 20 rows\n",
      "\n"
     ]
    }
   ],
   "source": [
    "# Crear la base de datos bronze si no existe\n",
    "spark.sql(\"CREATE DATABASE IF NOT EXISTS bronze\")\n",
    "# Guardar los datos como una tabla en la base de datos clientes\n",
    "df_customers.write.mode('overwrite').saveAsTable('bronze.customers')\n",
    "# Verificar que la tabla está guardada en clientes\n",
    "spark.sql(\"SELECT * FROM bronze.customers\").show(truncate=False)"
   ]
  },
  {
   "cell_type": "code",
   "execution_count": 37,
   "id": "71e86519-8ca1-46db-96ea-75f682a55fc2",
   "metadata": {},
   "outputs": [
    {
     "name": "stdout",
     "output_type": "stream",
     "text": [
      "+-----------+-----------------+--------------+--------------------------------------+-----------------------------+---------+\n",
      "|employee_id|name             |phone         |email                                 |address                      |comission|\n",
      "+-----------+-----------------+--------------+--------------------------------------+-----------------------------+---------+\n",
      "|3830       |Shaeleigh Turner |1-382-217-5724|pellentesque.ultricies@localstack.com |Ap #497-3659 Eu St.          |0.06     |\n",
      "|8362       |Catherine King   |1-721-878-1085|sed@localstack.com                    |Ap #897-2636 Enim Av.        |0.07     |\n",
      "|6696       |Patricia Cox     |1-265-643-2312|imperdiet.erat.nonummy@localstack.com |Ap #775-1599 Sed Av.         |0.04     |\n",
      "|1482       |Elijah Parker    |1-960-392-6387|blandit.congue@localstack.com         |P.O. Box 351, 3827 Dolor. Ave|0.13     |\n",
      "|9435       |Ryan Nichols     |1-746-416-6687|porttitor.tellus.non@localstack.com   |P.O. Box 829, 4074 Et Rd.    |0.18     |\n",
      "|4750       |Howard Guthrie   |1-411-714-2257|donec.luctus@localstack.com           |719-3465 Sagittis St.        |0.16     |\n",
      "|5668       |Melanie Ball     |1-642-654-0825|mi@localstack.com                     |Ap #491-4951 Rutrum Avenue   |0.18     |\n",
      "|1473       |Celeste Johns    |1-164-659-1664|quisque.ac@localstack.com             |8081 Dapibus Rd.             |0.07     |\n",
      "|9726       |Christen Hamilton|1-837-188-3723|proin.eget.odio@localstack.com        |265-4608 Ut Road             |0.17     |\n",
      "|1561       |Amelia Nolan     |1-638-262-0243|arcu.vestibulum@localstack.com        |7114 Tincidunt Av.           |0.09     |\n",
      "|9438       |Dacey Barr       |1-129-332-2987|in.consectetuer.ipsum@localstack.com  |351-2943 Maecenas Rd.        |0.02     |\n",
      "|1737       |Althea Mckenzie  |1-472-806-5180|cum.sociis@localstack.com             |Ap #530-6235 Vestibulum St.  |0.13     |\n",
      "|1679       |Darius Greer     |1-456-650-5173|blandit@localstack.com                |207-6885 Aliquam St.         |0.04     |\n",
      "|6659       |Melinda Le       |1-842-714-5612|turpis.nulla@localstack.com           |448-8729 Elit. Av.           |0.06     |\n",
      "|1114       |Bevis Sanford    |1-581-141-6488|aliquam.ornare.libero@localstack.com  |Ap #863-9016 Dolor St.       |0.14     |\n",
      "|2470       |Ori Tucker       |1-260-486-5538|nisl.maecenas.malesuada@localstack.com|P.O. Box 130, 746 Libero. Rd.|0.1      |\n",
      "|2232       |Forrest Bradley  |1-781-609-6287|enim.mauris@localstack.com            |994-5433 Sem Av.             |0.07     |\n",
      "|6337       |Phyllis Hubbard  |1-422-851-1159|in.at.pede@localstack.com             |4850 In Av.                  |0.1      |\n",
      "|3455       |Davis Jenkins    |1-561-441-2126|justo.proin@localstack.com            |3600 Blandit St.             |0.13     |\n",
      "|4942       |Sydnee Kirby     |1-347-675-1366|sem@localstack.com                    |543-6641 Nec Ave             |0.16     |\n",
      "+-----------+-----------------+--------------+--------------------------------------+-----------------------------+---------+\n",
      "\n"
     ]
    }
   ],
   "source": [
    "# Crear la base de datos bronze si no existe\n",
    "spark.sql(\"CREATE DATABASE IF NOT EXISTS bronze\")\n",
    "# Guardar los datos como una tabla en la base de datos empleados\n",
    "df_employees.write.mode('overwrite').saveAsTable('bronze.employees')\n",
    "# Verificar que la tabla está guardada en empleados\n",
    "spark.sql(\"SELECT * FROM bronze.employees\").show(truncate=False)"
   ]
  },
  {
   "cell_type": "markdown",
   "id": "7a7dd1bb-d59c-40fc-a12b-a21a20886f99",
   "metadata": {},
   "source": [
    "En Bronze se dejaron las tablas en Hive: nombre BD= bronze con tablas 1.almacenamiento_bronze 2.municipio 3.neighborhoods 4.customers y 5.employees\n",
    "\n",
    "##### CAPA SILVER ###########"
   ]
  },
  {
   "cell_type": "code",
   "execution_count": 38,
   "id": "29f6ce4f-8cc1-4f1f-be4a-0890f11f19fd",
   "metadata": {},
   "outputs": [
    {
     "name": "stdout",
     "output_type": "stream",
     "text": [
      "+--------+--------------------+-----------+\n",
      "|database|           tableName|isTemporary|\n",
      "+--------+--------------------+-----------+\n",
      "|  bronze|almacenamiento_br...|      false|\n",
      "|  bronze|           customers|      false|\n",
      "|  bronze|           employees|      false|\n",
      "|  bronze|           municipio|      false|\n",
      "|  bronze|       neighborhoods|      false|\n",
      "|        |          socketdata|       true|\n",
      "+--------+--------------------+-----------+\n",
      "\n"
     ]
    }
   ],
   "source": [
    "# Listar las tablas en la base de datos eventos_bronze\n",
    "tables_bronze = spark.sql(\"SHOW TABLES IN bronze\")\n",
    "tables_bronze.show()"
   ]
  },
  {
   "cell_type": "markdown",
   "id": "c0f9f806-cbba-41d7-a861-84a17f5c9997",
   "metadata": {},
   "source": [
    "# Definir la ruta base en HDFS para la capa Silver"
   ]
  },
  {
   "cell_type": "code",
   "execution_count": null,
   "id": "3c7dfe97-bcb3-4d03-b876-d2400a27526f",
   "metadata": {},
   "outputs": [],
   "source": [
    "# Crear la base de datos silver si no existe\n",
    "spark.sql(\"CREATE DATABASE IF NOT EXISTS silver\")"
   ]
  }
 ],
 "metadata": {
  "kernelspec": {
   "display_name": "Python 3 (ipykernel)",
   "language": "python",
   "name": "python3"
  },
  "language_info": {
   "codemirror_mode": {
    "name": "ipython",
    "version": 3
   },
   "file_extension": ".py",
   "mimetype": "text/x-python",
   "name": "python",
   "nbconvert_exporter": "python",
   "pygments_lexer": "ipython3",
   "version": "3.8.10"
  }
 },
 "nbformat": 4,
 "nbformat_minor": 5
}
