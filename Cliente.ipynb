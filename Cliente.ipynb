{
 "cells": [
  {
   "cell_type": "code",
   "execution_count": null,
   "id": "3b8704ed-1a01-4592-81e9-7e1cb3dc55b7",
   "metadata": {},
   "outputs": [],
   "source": [
    "!pip install geopandas"
   ]
  },
  {
   "cell_type": "code",
   "execution_count": 7,
   "id": "7ed32104-3d75-4e9c-a0e5-2c774fe0521b",
   "metadata": {},
   "outputs": [],
   "source": [
    "!hdfs dfs -mkdir /raw"
   ]
  },
  {
   "cell_type": "code",
   "execution_count": 2,
   "id": "b220ec7c-919f-4f6a-8616-74759e93211c",
   "metadata": {},
   "outputs": [
    {
     "name": "stdout",
     "output_type": "stream",
     "text": [
      "Deleted /raw/data_raw.parquet\n"
     ]
    }
   ],
   "source": [
    "!hadoop fs -rm -r /raw/data_raw.parquet"
   ]
  },
  {
   "cell_type": "code",
   "execution_count": 1,
   "id": "bf64e5d2-4d29-4cb3-ae86-49e92824dc07",
   "metadata": {},
   "outputs": [
    {
     "name": "stderr",
     "output_type": "stream",
     "text": [
      "Setting default log level to \"WARN\".\n",
      "To adjust logging level use sc.setLogLevel(newLevel). For SparkR, use setLogLevel(newLevel).\n"
     ]
    },
    {
     "data": {
      "text/html": [
       "\n",
       "            <div>\n",
       "                <p><b>SparkSession - in-memory</b></p>\n",
       "                \n",
       "        <div>\n",
       "            <p><b>SparkContext</b></p>\n",
       "\n",
       "            <p><a href=\"http://32021e6e04aa:4040\">Spark UI</a></p>\n",
       "\n",
       "            <dl>\n",
       "              <dt>Version</dt>\n",
       "                <dd><code>v3.1.3</code></dd>\n",
       "              <dt>Master</dt>\n",
       "                <dd><code>local[*]</code></dd>\n",
       "              <dt>AppName</dt>\n",
       "                <dd><code>streaming</code></dd>\n",
       "            </dl>\n",
       "        </div>\n",
       "        \n",
       "            </div>\n",
       "        "
      ],
      "text/plain": [
       "<pyspark.sql.session.SparkSession at 0x7fa6f9db86a0>"
      ]
     },
     "execution_count": 1,
     "metadata": {},
     "output_type": "execute_result"
    }
   ],
   "source": [
    "from pyspark.sql import SparkSession\n",
    "from pyspark.sql.functions import *\n",
    "from pyspark.sql.types import *\n",
    "import time\n",
    "import json\n",
    "\n",
    "spark = SparkSession \\\n",
    "  .builder \\\n",
    "  .appName(\"streaming\") \\\n",
    "  .master(\"local[*]\") \\\n",
    "  .getOrCreate()\n",
    "\n",
    "spark"
   ]
  },
  {
   "cell_type": "code",
   "execution_count": 3,
   "id": "7b62bb85-ffe2-42ad-9272-70d260dbef93",
   "metadata": {},
   "outputs": [],
   "source": [
    "schema = ArrayType(StructType([\n",
    "    StructField(\"latitude\", DoubleType(), True),\n",
    "    StructField(\"longitude\", DoubleType(), True),\n",
    "    StructField(\"date\", StringType(), True),\n",
    "    StructField(\"customer_id\", IntegerType(), True),\n",
    "    StructField(\"employee_id\", IntegerType(), True),\n",
    "    StructField(\"quantity_products\", IntegerType(), True),\n",
    "    StructField(\"order_id\", StringType(), True)\n",
    "]))\n",
    "\n",
    "static_schema = StructType([\n",
    "    StructField(\"latitude\", DoubleType(), True),\n",
    "    StructField(\"longitude\", DoubleType(), True),\n",
    "    StructField(\"date\", StringType(), True),\n",
    "    StructField(\"customer_id\", IntegerType(), True),\n",
    "    StructField(\"employee_id\", IntegerType(), True),\n",
    "    StructField(\"quantity_products\", IntegerType(), True),\n",
    "    StructField(\"order_id\", StringType(), True)\n",
    "])"
   ]
  },
  {
   "cell_type": "code",
   "execution_count": 4,
   "id": "7a3c43c1-6683-40fb-b4a8-fb9c7497cb76",
   "metadata": {},
   "outputs": [
    {
     "name": "stderr",
     "output_type": "stream",
     "text": [
      "                                                                                \r"
     ]
    }
   ],
   "source": [
    "static_df = spark.createDataFrame([], static_schema)\n",
    "n = 1\n",
    "while n<=30:\n",
    "    streaming_df = spark.readStream.format(\"socket\").option(\"host\", \"localhost\").option(\"port\", \"8000\").load()\n",
    "    json_df = streaming_df.select(from_json(col(\"value\"), schema).alias(\"data\"))\n",
    "    json_df = json_df.selectExpr(\"explode(data) as dict\").select(\"dict.*\")\n",
    "    writing_df = json_df.writeStream.format(\"memory\").queryName(\"socketData\").outputMode(\"update\").start()\n",
    "    static_stream_df = spark.sql(\"SELECT * FROM socketData\")\n",
    "    static_df = static_df.union(static_stream_df)\n",
    "    writing_df.awaitTermination(2)\n",
    "    writing_df.stop()\n",
    "    n += 1\n",
    "    if static_df.count() > 20:\n",
    "        static_df.write.mode('append').parquet('/raw/data_raw.parquet')\n",
    "        static_df = spark.createDataFrame([], static_schema)\n",
    "    time.sleep(5)"
   ]
  },
  {
   "cell_type": "code",
   "execution_count": 10,
   "id": "7bc91841-026d-4ba2-a32c-68fb269c5fee",
   "metadata": {},
   "outputs": [
    {
     "name": "stdout",
     "output_type": "stream",
     "text": [
      "Tabla estatica: 195\n",
      "+------------------+------------------+-------------------+-----------+-----------+-----------------+------------------------------------+\n",
      "|latitude          |longitude         |date               |customer_id|employee_id|quantity_products|order_id                            |\n",
      "+------------------+------------------+-------------------+-----------+-----------+-----------------+------------------------------------+\n",
      "|6.276178706065439 |-75.57310242733278|17/06/2024 00:17:03|2364       |6337       |252              |d8b9b417-b098-4344-b137-362894e4dczy|\n",
      "|6.206311814587399 |-75.58018935979655|17/06/2024 00:17:03|3121       |9435       |204              |d8b9b417-b098-4344-b137-362894e4dczx|\n",
      "|6.258995545343936 |-75.69974538611105|17/06/2024 00:17:03|2795       |6659       |525              |d8b9b417-b098-4344-b137-362894e4dczw|\n",
      "|6.279884384261213 |-75.69014757062227|17/06/2024 00:17:03|5024       |1737       |373              |d8b9b417-b098-4344-b137-362894e4dczv|\n",
      "|6.269043544815488 |-75.52342327451069|17/06/2024 00:17:03|5219       |9438       |701              |d8b9b417-b098-4344-b137-362894e4dczu|\n",
      "|6.275137187478537 |-75.50318386924586|17/06/2024 00:17:03|8033       |1679       |521              |d8b9b417-b098-4344-b137-362894e4dczt|\n",
      "|6.288597637875899 |-75.56744477026916|17/06/2024 00:16:55|5716       |1473       |447              |d8b9b417-b098-4344-b137-362894e4dczs|\n",
      "|6.3425956798601035|-75.66240076354963|17/06/2024 00:16:55|6081       |9435       |557              |d8b9b417-b098-4344-b137-362894e4dczr|\n",
      "|6.339532409193824 |-75.68458668012134|17/06/2024 00:16:55|1542       |1482       |404              |d8b9b417-b098-4344-b137-362894e4dczq|\n",
      "|6.351181791022152 |-75.67174852138568|17/06/2024 00:16:55|3157       |2470       |490              |d8b9b417-b098-4344-b137-362894e4dczp|\n",
      "|6.36816743711198  |-75.70582275681525|17/06/2024 00:16:55|6624       |3455       |174              |d8b9b417-b098-4344-b137-362894e4dczo|\n",
      "|6.345692611710395 |-75.6970352562113 |17/06/2024 00:16:48|6736       |1473       |413              |d8b9b417-b098-4344-b137-362894e4dczn|\n",
      "|6.220782889526533 |-75.66739796027   |17/06/2024 00:16:48|6137       |2232       |477              |d8b9b417-b098-4344-b137-362894e4dczm|\n",
      "|6.227681413473239 |-75.58510171829371|17/06/2024 00:16:48|3103       |8362       |191              |d8b9b417-b098-4344-b137-362894e4dczl|\n",
      "|6.2080819383425085|-75.54197027142334|17/06/2024 00:16:48|1888       |8362       |319              |d8b9b417-b098-4344-b137-362894e4dczk|\n",
      "|6.258202809096646 |-75.58504168705579|17/06/2024 00:16:48|5395       |9726       |221              |d8b9b417-b098-4344-b137-362894e4dczj|\n",
      "|6.277682949025991 |-75.50989576231916|17/06/2024 00:16:48|3787       |4942       |756              |d8b9b417-b098-4344-b137-362894e4dczi|\n",
      "|6.286643888288484 |-75.61564458913244|17/06/2024 00:16:48|2693       |6659       |590              |d8b9b417-b098-4344-b137-362894e4dczh|\n",
      "|6.189610614242002 |-75.54583518006699|17/06/2024 00:16:48|5219       |6696       |415              |d8b9b417-b098-4344-b137-362894e4dczg|\n",
      "|6.3354452818352005|-75.7012059880141 |17/06/2024 00:16:48|1154       |1473       |655              |d8b9b417-b098-4344-b137-362894e4dczf|\n",
      "+------------------+------------------+-------------------+-----------+-----------+-----------------+------------------------------------+\n",
      "only showing top 20 rows\n",
      "\n"
     ]
    }
   ],
   "source": [
    "df = spark.read.parquet(\"/raw/data_raw.parquet\")\n",
    "print(\"Tabla estatica:\", df.count())\n",
    "df = df.orderBy(desc(\"order_id\"))\n",
    "df.show(truncate=False)"
   ]
  },
  {
   "cell_type": "code",
   "execution_count": null,
   "id": "1b14fb21-17bb-4296-b524-1dab411edae1",
   "metadata": {},
   "outputs": [],
   "source": []
  }
 ],
 "metadata": {
  "kernelspec": {
   "display_name": "Python 3 (ipykernel)",
   "language": "python",
   "name": "python3"
  },
  "language_info": {
   "codemirror_mode": {
    "name": "ipython",
    "version": 3
   },
   "file_extension": ".py",
   "mimetype": "text/x-python",
   "name": "python",
   "nbconvert_exporter": "python",
   "pygments_lexer": "ipython3",
   "version": "3.8.10"
  }
 },
 "nbformat": 4,
 "nbformat_minor": 5
}
