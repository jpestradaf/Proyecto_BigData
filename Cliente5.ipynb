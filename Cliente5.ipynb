{
 "cells": [
  {
   "cell_type": "code",
   "execution_count": 189,
   "id": "3b8704ed-1a01-4592-81e9-7e1cb3dc55b7",
   "metadata": {},
   "outputs": [
    {
     "name": "stdout",
     "output_type": "stream",
     "text": [
      "Requirement already satisfied: geopandas in /usr/local/lib/python3.8/dist-packages (0.13.2)\n",
      "Requirement already satisfied: packaging in /usr/local/lib/python3.8/dist-packages (from geopandas) (21.3)\n",
      "Requirement already satisfied: pandas>=1.1.0 in /usr/local/lib/python3.8/dist-packages (from geopandas) (1.4.2)\n",
      "Requirement already satisfied: fiona>=1.8.19 in /usr/local/lib/python3.8/dist-packages (from geopandas) (1.9.6)\n",
      "Requirement already satisfied: shapely>=1.7.1 in /usr/local/lib/python3.8/dist-packages (from geopandas) (2.0.4)\n",
      "Requirement already satisfied: pyproj>=3.0.1 in /usr/local/lib/python3.8/dist-packages (from geopandas) (3.5.0)\n",
      "Requirement already satisfied: six in /usr/local/lib/python3.8/dist-packages (from fiona>=1.8.19->geopandas) (1.16.0)\n",
      "Requirement already satisfied: click-plugins>=1.0 in /usr/local/lib/python3.8/dist-packages (from fiona>=1.8.19->geopandas) (1.1.1)\n",
      "Requirement already satisfied: attrs>=19.2.0 in /usr/local/lib/python3.8/dist-packages (from fiona>=1.8.19->geopandas) (21.4.0)\n",
      "Requirement already satisfied: importlib-metadata in /usr/local/lib/python3.8/dist-packages (from fiona>=1.8.19->geopandas) (4.11.4)\n",
      "Requirement already satisfied: click~=8.0 in /usr/local/lib/python3.8/dist-packages (from fiona>=1.8.19->geopandas) (8.1.3)\n",
      "Requirement already satisfied: cligj>=0.5 in /usr/local/lib/python3.8/dist-packages (from fiona>=1.8.19->geopandas) (0.7.2)\n",
      "Requirement already satisfied: certifi in /usr/local/lib/python3.8/dist-packages (from fiona>=1.8.19->geopandas) (2022.5.18.1)\n",
      "Requirement already satisfied: numpy>=1.18.5 in /usr/local/lib/python3.8/dist-packages (from pandas>=1.1.0->geopandas) (1.22.4)\n",
      "Requirement already satisfied: pytz>=2020.1 in /usr/local/lib/python3.8/dist-packages (from pandas>=1.1.0->geopandas) (2022.1)\n",
      "Requirement already satisfied: python-dateutil>=2.8.1 in /usr/local/lib/python3.8/dist-packages (from pandas>=1.1.0->geopandas) (2.8.2)\n",
      "Requirement already satisfied: pyparsing!=3.0.5,>=2.0.2 in /usr/local/lib/python3.8/dist-packages (from packaging->geopandas) (2.4.7)\n",
      "Requirement already satisfied: zipp>=0.5 in /usr/local/lib/python3.8/dist-packages (from importlib-metadata->fiona>=1.8.19->geopandas) (3.8.0)\n",
      "\u001b[33mWARNING: Running pip as the 'root' user can result in broken permissions and conflicting behaviour with the system package manager. It is recommended to use a virtual environment instead: https://pip.pypa.io/warnings/venv\u001b[0m\u001b[33m\n",
      "\u001b[0m--- Logging error ---\n",
      "Traceback (most recent call last):\n",
      "  File \"/usr/local/lib/python3.8/dist-packages/pip/_internal/utils/logging.py\", line 177, in emit\n",
      "    self.console.print(renderable, overflow=\"ignore\", crop=False, style=style)\n",
      "  File \"/usr/local/lib/python3.8/dist-packages/pip/_vendor/rich/console.py\", line 1752, in print\n",
      "    extend(render(renderable, render_options))\n",
      "  File \"/usr/local/lib/python3.8/dist-packages/pip/_vendor/rich/console.py\", line 1390, in render\n",
      "    for render_output in iter_render:\n",
      "  File \"/usr/local/lib/python3.8/dist-packages/pip/_internal/utils/logging.py\", line 134, in __rich_console__\n",
      "    for line in lines:\n",
      "  File \"/usr/local/lib/python3.8/dist-packages/pip/_vendor/rich/segment.py\", line 245, in split_lines\n",
      "    for segment in segments:\n",
      "  File \"/usr/local/lib/python3.8/dist-packages/pip/_vendor/rich/console.py\", line 1368, in render\n",
      "    renderable = rich_cast(renderable)\n",
      "  File \"/usr/local/lib/python3.8/dist-packages/pip/_vendor/rich/protocol.py\", line 36, in rich_cast\n",
      "    renderable = cast_method()\n",
      "  File \"/usr/local/lib/python3.8/dist-packages/pip/_internal/self_outdated_check.py\", line 130, in __rich__\n",
      "    pip_cmd = get_best_invocation_for_this_pip()\n",
      "  File \"/usr/local/lib/python3.8/dist-packages/pip/_internal/utils/entrypoints.py\", line 58, in get_best_invocation_for_this_pip\n",
      "    if found_executable and os.path.samefile(\n",
      "  File \"/usr/lib/python3.8/genericpath.py\", line 101, in samefile\n",
      "    s2 = os.stat(f2)\n",
      "FileNotFoundError: [Errno 2] No such file or directory: '/usr/bin/pip3.8'\n",
      "Call stack:\n",
      "  File \"/usr/local/bin/pip\", line 8, in <module>\n",
      "    sys.exit(main())\n",
      "  File \"/usr/local/lib/python3.8/dist-packages/pip/_internal/cli/main.py\", line 70, in main\n",
      "    return command.main(cmd_args)\n",
      "  File \"/usr/local/lib/python3.8/dist-packages/pip/_internal/cli/base_command.py\", line 101, in main\n",
      "    return self._main(args)\n",
      "  File \"/usr/local/lib/python3.8/dist-packages/pip/_internal/cli/base_command.py\", line 223, in _main\n",
      "    self.handle_pip_version_check(options)\n",
      "  File \"/usr/local/lib/python3.8/dist-packages/pip/_internal/cli/req_command.py\", line 148, in handle_pip_version_check\n",
      "    pip_self_version_check(session, options)\n",
      "  File \"/usr/local/lib/python3.8/dist-packages/pip/_internal/self_outdated_check.py\", line 237, in pip_self_version_check\n",
      "    logger.info(\"[present-rich] %s\", upgrade_prompt)\n",
      "  File \"/usr/lib/python3.8/logging/__init__.py\", line 1446, in info\n",
      "    self._log(INFO, msg, args, **kwargs)\n",
      "  File \"/usr/lib/python3.8/logging/__init__.py\", line 1589, in _log\n",
      "    self.handle(record)\n",
      "  File \"/usr/lib/python3.8/logging/__init__.py\", line 1599, in handle\n",
      "    self.callHandlers(record)\n",
      "  File \"/usr/lib/python3.8/logging/__init__.py\", line 1661, in callHandlers\n",
      "    hdlr.handle(record)\n",
      "  File \"/usr/lib/python3.8/logging/__init__.py\", line 954, in handle\n",
      "    self.emit(record)\n",
      "  File \"/usr/local/lib/python3.8/dist-packages/pip/_internal/utils/logging.py\", line 179, in emit\n",
      "    self.handleError(record)\n",
      "Message: '[present-rich] %s'\n",
      "Arguments: (UpgradePrompt(old='22.1.2', new='24.0'),)\n"
     ]
    }
   ],
   "source": [
    "!pip install geopandas"
   ]
  },
  {
   "cell_type": "code",
   "execution_count": 190,
   "id": "7ed32104-3d75-4e9c-a0e5-2c774fe0521b",
   "metadata": {},
   "outputs": [
    {
     "name": "stdout",
     "output_type": "stream",
     "text": [
      "mkdir: `/raw': File exists\n"
     ]
    }
   ],
   "source": [
    "!hdfs dfs -mkdir /raw"
   ]
  },
  {
   "cell_type": "code",
   "execution_count": 191,
   "id": "37d43874-d1ac-430d-9cf8-4a2dba5b80ba",
   "metadata": {},
   "outputs": [
    {
     "name": "stdout",
     "output_type": "stream",
     "text": [
      "mkdir: `/raw/new': File exists\n"
     ]
    }
   ],
   "source": [
    "!hdfs dfs -mkdir /raw/new"
   ]
  },
  {
   "cell_type": "code",
   "execution_count": 192,
   "id": "dd8f25be-7822-47e8-b7ad-2d28e5e751f8",
   "metadata": {},
   "outputs": [
    {
     "name": "stdout",
     "output_type": "stream",
     "text": [
      "mkdir: `/data': File exists\n"
     ]
    }
   ],
   "source": [
    "!hdfs dfs -mkdir /data"
   ]
  },
  {
   "cell_type": "code",
   "execution_count": 193,
   "id": "1014e761-3e06-4d03-8901-e0c8686c6a36",
   "metadata": {},
   "outputs": [
    {
     "name": "stdout",
     "output_type": "stream",
     "text": [
      "mkdir: `/raw/processed': File exists\n"
     ]
    }
   ],
   "source": [
    "\n",
    "!hdfs dfs -mkdir /raw/processed"
   ]
  },
  {
   "cell_type": "code",
   "execution_count": 32,
   "id": "3ba02d6c-6763-4b52-b41f-43d092425b53",
   "metadata": {},
   "outputs": [],
   "source": [
    "#!hadoop fs -rm -r /raw/new/*.parquet"
   ]
  },
  {
   "cell_type": "code",
   "execution_count": 33,
   "id": "a92c4d2e-ffa3-4a9b-9612-792391078e1c",
   "metadata": {},
   "outputs": [],
   "source": [
    "\n",
    "#!hadoop fs -rm -r /raw/processed/*.parquet"
   ]
  },
  {
   "cell_type": "code",
   "execution_count": 194,
   "id": "7e4ed0cb-5228-4f12-ba56-be0b83e727ba",
   "metadata": {},
   "outputs": [
    {
     "name": "stdout",
     "output_type": "stream",
     "text": [
      "Found 4 items\n",
      "drwxr-xr-x   - root supergroup          0 2024-06-21 01:58 /raw/new/data_raw_21_06_2024__01_58_16.parquet\n",
      "drwxr-xr-x   - root supergroup          0 2024-06-21 02:02 /raw/new/data_raw_21_06_2024__02_02_03.parquet\n",
      "drwxr-xr-x   - root supergroup          0 2024-06-21 02:05 /raw/new/data_raw_21_06_2024__02_05_51.parquet\n",
      "drwxr-xr-x   - root supergroup          0 2024-06-21 02:09 /raw/new/data_raw_21_06_2024__02_09_38.parquet\n"
     ]
    }
   ],
   "source": [
    "!hdfs dfs -ls /raw/new/"
   ]
  },
  {
   "cell_type": "code",
   "execution_count": 35,
   "id": "b220ec7c-919f-4f6a-8616-74759e93211c",
   "metadata": {},
   "outputs": [],
   "source": [
    "#!hadoop fs -rm -r /raw/data_raw.parquet"
   ]
  },
  {
   "cell_type": "code",
   "execution_count": 195,
   "id": "bf64e5d2-4d29-4cb3-ae86-49e92824dc07",
   "metadata": {},
   "outputs": [
    {
     "data": {
      "text/html": [
       "\n",
       "            <div>\n",
       "                <p><b>SparkSession - hive</b></p>\n",
       "                \n",
       "        <div>\n",
       "            <p><b>SparkContext</b></p>\n",
       "\n",
       "            <p><a href=\"http://3d568b354311:4042\">Spark UI</a></p>\n",
       "\n",
       "            <dl>\n",
       "              <dt>Version</dt>\n",
       "                <dd><code>v3.1.3</code></dd>\n",
       "              <dt>Master</dt>\n",
       "                <dd><code>local[*]</code></dd>\n",
       "              <dt>AppName</dt>\n",
       "                <dd><code>streaming</code></dd>\n",
       "            </dl>\n",
       "        </div>\n",
       "        \n",
       "            </div>\n",
       "        "
      ],
      "text/plain": [
       "<pyspark.sql.session.SparkSession at 0x7a8ec743fac0>"
      ]
     },
     "execution_count": 195,
     "metadata": {},
     "output_type": "execute_result"
    }
   ],
   "source": [
    "from pyspark.sql import SparkSession\n",
    "from pyspark.sql.functions import *\n",
    "from pyspark.sql.types import *\n",
    "import time\n",
    "import json\n",
    "from datetime import datetime\n",
    "\n",
    "spark = SparkSession \\\n",
    "  .builder \\\n",
    "  .appName(\"streaming\") \\\n",
    "  .master(\"local[*]\") \\\n",
    "  .getOrCreate()\n",
    "\n",
    "spark"
   ]
  },
  {
   "cell_type": "code",
   "execution_count": 196,
   "id": "7b62bb85-ffe2-42ad-9272-70d260dbef93",
   "metadata": {},
   "outputs": [],
   "source": [
    "schema = ArrayType(StructType([\n",
    "    StructField(\"object_id\", IntegerType(), True),\n",
    "    StructField(\"latitude\", DoubleType(), True),\n",
    "    StructField(\"longitude\", DoubleType(), True),\n",
    "    StructField(\"date\", StringType(), True),\n",
    "    StructField(\"customer_id\", IntegerType(), True),\n",
    "    StructField(\"employee_id\", IntegerType(), True),\n",
    "    StructField(\"quantity_products\", IntegerType(), True),\n",
    "    StructField(\"order_id\", StringType(), True)\n",
    "]))\n",
    "\n",
    "static_schema = StructType([\n",
    "    StructField(\"object_id\", IntegerType(), True),\n",
    "    StructField(\"latitude\", DoubleType(), True),\n",
    "    StructField(\"longitude\", DoubleType(), True),\n",
    "    StructField(\"date\", StringType(), True),\n",
    "    StructField(\"customer_id\", IntegerType(), True),\n",
    "    StructField(\"employee_id\", IntegerType(), True),\n",
    "    StructField(\"quantity_products\", IntegerType(), True),\n",
    "    StructField(\"order_id\", StringType(), True)\n",
    "])"
   ]
  },
  {
   "cell_type": "code",
   "execution_count": 197,
   "id": "7a3c43c1-6683-40fb-b4a8-fb9c7497cb76",
   "metadata": {},
   "outputs": [
    {
     "name": "stdout",
     "output_type": "stream",
     "text": [
      "/raw/new/data_raw_21_06_2024__05_22_48.parquet\n"
     ]
    },
    {
     "name": "stderr",
     "output_type": "stream",
     "text": [
      "24/06/21 05:26:02 ERROR streaming.MicroBatchExecution: Query socketData [id = 968dc90d-01b5-40cf-b953-99d6edfef47e, runId = 57ea80b1-24ad-4eac-a0e2-75beb23d03d9] terminated with error\n",
      "java.net.ConnectException: Connection refused (Connection refused)\n",
      "\tat java.net.PlainSocketImpl.socketConnect(Native Method)\n",
      "\tat java.net.AbstractPlainSocketImpl.doConnect(AbstractPlainSocketImpl.java:350)\n",
      "\tat java.net.AbstractPlainSocketImpl.connectToAddress(AbstractPlainSocketImpl.java:206)\n",
      "\tat java.net.AbstractPlainSocketImpl.connect(AbstractPlainSocketImpl.java:188)\n",
      "\tat java.net.SocksSocketImpl.connect(SocksSocketImpl.java:392)\n",
      "\tat java.net.Socket.connect(Socket.java:607)\n",
      "\tat java.net.Socket.connect(Socket.java:556)\n",
      "\tat java.net.Socket.<init>(Socket.java:452)\n",
      "\tat java.net.Socket.<init>(Socket.java:229)\n",
      "\tat org.apache.spark.sql.execution.streaming.sources.TextSocketMicroBatchStream.initialize(TextSocketMicroBatchStream.scala:71)\n",
      "\tat org.apache.spark.sql.execution.streaming.sources.TextSocketMicroBatchStream.planInputPartitions(TextSocketMicroBatchStream.scala:117)\n",
      "\tat org.apache.spark.sql.execution.datasources.v2.MicroBatchScanExec.partitions$lzycompute(MicroBatchScanExec.scala:44)\n",
      "\tat org.apache.spark.sql.execution.datasources.v2.MicroBatchScanExec.partitions(MicroBatchScanExec.scala:44)\n",
      "\tat org.apache.spark.sql.execution.datasources.v2.DataSourceV2ScanExecBase.supportsColumnar(DataSourceV2ScanExecBase.scala:87)\n",
      "\tat org.apache.spark.sql.execution.datasources.v2.DataSourceV2ScanExecBase.supportsColumnar$(DataSourceV2ScanExecBase.scala:86)\n",
      "\tat org.apache.spark.sql.execution.datasources.v2.MicroBatchScanExec.supportsColumnar(MicroBatchScanExec.scala:29)\n",
      "\tat org.apache.spark.sql.execution.datasources.v2.DataSourceV2Strategy.apply(DataSourceV2Strategy.scala:120)\n",
      "\tat org.apache.spark.sql.catalyst.planning.QueryPlanner.$anonfun$plan$1(QueryPlanner.scala:63)\n",
      "\tat scala.collection.Iterator$$anon$11.nextCur(Iterator.scala:484)\n",
      "\tat scala.collection.Iterator$$anon$11.hasNext(Iterator.scala:490)\n",
      "\tat scala.collection.Iterator$$anon$11.hasNext(Iterator.scala:489)\n",
      "\tat org.apache.spark.sql.catalyst.planning.QueryPlanner.plan(QueryPlanner.scala:93)\n",
      "\tat org.apache.spark.sql.execution.SparkStrategies.plan(SparkStrategies.scala:67)\n",
      "\tat org.apache.spark.sql.catalyst.planning.QueryPlanner.$anonfun$plan$3(QueryPlanner.scala:78)\n",
      "\tat scala.collection.TraversableOnce.$anonfun$foldLeft$1(TraversableOnce.scala:162)\n",
      "\tat scala.collection.TraversableOnce.$anonfun$foldLeft$1$adapted(TraversableOnce.scala:162)\n",
      "\tat scala.collection.Iterator.foreach(Iterator.scala:941)\n",
      "\tat scala.collection.Iterator.foreach$(Iterator.scala:941)\n",
      "\tat scala.collection.AbstractIterator.foreach(Iterator.scala:1429)\n",
      "\tat scala.collection.TraversableOnce.foldLeft(TraversableOnce.scala:162)\n",
      "\tat scala.collection.TraversableOnce.foldLeft$(TraversableOnce.scala:160)\n",
      "\tat scala.collection.AbstractIterator.foldLeft(Iterator.scala:1429)\n",
      "\tat org.apache.spark.sql.catalyst.planning.QueryPlanner.$anonfun$plan$2(QueryPlanner.scala:75)\n",
      "\tat scala.collection.Iterator$$anon$11.nextCur(Iterator.scala:484)\n",
      "\tat scala.collection.Iterator$$anon$11.hasNext(Iterator.scala:490)\n",
      "\tat org.apache.spark.sql.catalyst.planning.QueryPlanner.plan(QueryPlanner.scala:93)\n",
      "\tat org.apache.spark.sql.execution.SparkStrategies.plan(SparkStrategies.scala:67)\n",
      "\tat org.apache.spark.sql.catalyst.planning.QueryPlanner.$anonfun$plan$3(QueryPlanner.scala:78)\n",
      "\tat scala.collection.TraversableOnce.$anonfun$foldLeft$1(TraversableOnce.scala:162)\n",
      "\tat scala.collection.TraversableOnce.$anonfun$foldLeft$1$adapted(TraversableOnce.scala:162)\n",
      "\tat scala.collection.Iterator.foreach(Iterator.scala:941)\n",
      "\tat scala.collection.Iterator.foreach$(Iterator.scala:941)\n",
      "\tat scala.collection.AbstractIterator.foreach(Iterator.scala:1429)\n",
      "\tat scala.collection.TraversableOnce.foldLeft(TraversableOnce.scala:162)\n",
      "\tat scala.collection.TraversableOnce.foldLeft$(TraversableOnce.scala:160)\n",
      "\tat scala.collection.AbstractIterator.foldLeft(Iterator.scala:1429)\n",
      "\tat org.apache.spark.sql.catalyst.planning.QueryPlanner.$anonfun$plan$2(QueryPlanner.scala:75)\n",
      "\tat scala.collection.Iterator$$anon$11.nextCur(Iterator.scala:484)\n",
      "\tat scala.collection.Iterator$$anon$11.hasNext(Iterator.scala:490)\n",
      "\tat org.apache.spark.sql.catalyst.planning.QueryPlanner.plan(QueryPlanner.scala:93)\n",
      "\tat org.apache.spark.sql.execution.SparkStrategies.plan(SparkStrategies.scala:67)\n",
      "\tat org.apache.spark.sql.catalyst.planning.QueryPlanner.$anonfun$plan$3(QueryPlanner.scala:78)\n",
      "\tat scala.collection.TraversableOnce.$anonfun$foldLeft$1(TraversableOnce.scala:162)\n",
      "\tat scala.collection.TraversableOnce.$anonfun$foldLeft$1$adapted(TraversableOnce.scala:162)\n",
      "\tat scala.collection.Iterator.foreach(Iterator.scala:941)\n",
      "\tat scala.collection.Iterator.foreach$(Iterator.scala:941)\n",
      "\tat scala.collection.AbstractIterator.foreach(Iterator.scala:1429)\n",
      "\tat scala.collection.TraversableOnce.foldLeft(TraversableOnce.scala:162)\n",
      "\tat scala.collection.TraversableOnce.foldLeft$(TraversableOnce.scala:160)\n",
      "\tat scala.collection.AbstractIterator.foldLeft(Iterator.scala:1429)\n",
      "\tat org.apache.spark.sql.catalyst.planning.QueryPlanner.$anonfun$plan$2(QueryPlanner.scala:75)\n",
      "\tat scala.collection.Iterator$$anon$11.nextCur(Iterator.scala:484)\n",
      "\tat scala.collection.Iterator$$anon$11.hasNext(Iterator.scala:490)\n",
      "\tat org.apache.spark.sql.catalyst.planning.QueryPlanner.plan(QueryPlanner.scala:93)\n",
      "\tat org.apache.spark.sql.execution.SparkStrategies.plan(SparkStrategies.scala:67)\n",
      "\tat org.apache.spark.sql.catalyst.planning.QueryPlanner.$anonfun$plan$3(QueryPlanner.scala:78)\n",
      "\tat scala.collection.TraversableOnce.$anonfun$foldLeft$1(TraversableOnce.scala:162)\n",
      "\tat scala.collection.TraversableOnce.$anonfun$foldLeft$1$adapted(TraversableOnce.scala:162)\n",
      "\tat scala.collection.Iterator.foreach(Iterator.scala:941)\n",
      "\tat scala.collection.Iterator.foreach$(Iterator.scala:941)\n",
      "\tat scala.collection.AbstractIterator.foreach(Iterator.scala:1429)\n",
      "\tat scala.collection.TraversableOnce.foldLeft(TraversableOnce.scala:162)\n",
      "\tat scala.collection.TraversableOnce.foldLeft$(TraversableOnce.scala:160)\n",
      "\tat scala.collection.AbstractIterator.foldLeft(Iterator.scala:1429)\n",
      "\tat org.apache.spark.sql.catalyst.planning.QueryPlanner.$anonfun$plan$2(QueryPlanner.scala:75)\n",
      "\tat scala.collection.Iterator$$anon$11.nextCur(Iterator.scala:484)\n",
      "\tat scala.collection.Iterator$$anon$11.hasNext(Iterator.scala:490)\n",
      "\tat org.apache.spark.sql.catalyst.planning.QueryPlanner.plan(QueryPlanner.scala:93)\n",
      "\tat org.apache.spark.sql.execution.SparkStrategies.plan(SparkStrategies.scala:67)\n",
      "\tat org.apache.spark.sql.catalyst.planning.QueryPlanner.$anonfun$plan$3(QueryPlanner.scala:78)\n",
      "\tat scala.collection.TraversableOnce.$anonfun$foldLeft$1(TraversableOnce.scala:162)\n",
      "\tat scala.collection.TraversableOnce.$anonfun$foldLeft$1$adapted(TraversableOnce.scala:162)\n",
      "\tat scala.collection.Iterator.foreach(Iterator.scala:941)\n",
      "\tat scala.collection.Iterator.foreach$(Iterator.scala:941)\n",
      "\tat scala.collection.AbstractIterator.foreach(Iterator.scala:1429)\n",
      "\tat scala.collection.TraversableOnce.foldLeft(TraversableOnce.scala:162)\n",
      "\tat scala.collection.TraversableOnce.foldLeft$(TraversableOnce.scala:160)\n",
      "\tat scala.collection.AbstractIterator.foldLeft(Iterator.scala:1429)\n",
      "\tat org.apache.spark.sql.catalyst.planning.QueryPlanner.$anonfun$plan$2(QueryPlanner.scala:75)\n",
      "\tat scala.collection.Iterator$$anon$11.nextCur(Iterator.scala:484)\n",
      "\tat scala.collection.Iterator$$anon$11.hasNext(Iterator.scala:490)\n",
      "\tat org.apache.spark.sql.catalyst.planning.QueryPlanner.plan(QueryPlanner.scala:93)\n",
      "\tat org.apache.spark.sql.execution.SparkStrategies.plan(SparkStrategies.scala:67)\n",
      "\tat org.apache.spark.sql.catalyst.planning.QueryPlanner.$anonfun$plan$3(QueryPlanner.scala:78)\n",
      "\tat scala.collection.TraversableOnce.$anonfun$foldLeft$1(TraversableOnce.scala:162)\n",
      "\tat scala.collection.TraversableOnce.$anonfun$foldLeft$1$adapted(TraversableOnce.scala:162)\n",
      "\tat scala.collection.Iterator.foreach(Iterator.scala:941)\n",
      "\tat scala.collection.Iterator.foreach$(Iterator.scala:941)\n",
      "\tat scala.collection.AbstractIterator.foreach(Iterator.scala:1429)\n",
      "\tat scala.collection.TraversableOnce.foldLeft(TraversableOnce.scala:162)\n",
      "\tat scala.collection.TraversableOnce.foldLeft$(TraversableOnce.scala:160)\n",
      "\tat scala.collection.AbstractIterator.foldLeft(Iterator.scala:1429)\n",
      "\tat org.apache.spark.sql.catalyst.planning.QueryPlanner.$anonfun$plan$2(QueryPlanner.scala:75)\n",
      "\tat scala.collection.Iterator$$anon$11.nextCur(Iterator.scala:484)\n",
      "\tat scala.collection.Iterator$$anon$11.hasNext(Iterator.scala:490)\n",
      "\tat org.apache.spark.sql.catalyst.planning.QueryPlanner.plan(QueryPlanner.scala:93)\n",
      "\tat org.apache.spark.sql.execution.SparkStrategies.plan(SparkStrategies.scala:67)\n",
      "\tat org.apache.spark.sql.execution.QueryExecution$.createSparkPlan(QueryExecution.scala:391)\n",
      "\tat org.apache.spark.sql.execution.QueryExecution.$anonfun$sparkPlan$1(QueryExecution.scala:104)\n",
      "\tat org.apache.spark.sql.catalyst.QueryPlanningTracker.measurePhase(QueryPlanningTracker.scala:111)\n",
      "\tat org.apache.spark.sql.execution.QueryExecution.$anonfun$executePhase$1(QueryExecution.scala:143)\n",
      "\tat org.apache.spark.sql.SparkSession.withActive(SparkSession.scala:775)\n",
      "\tat org.apache.spark.sql.execution.QueryExecution.executePhase(QueryExecution.scala:143)\n",
      "\tat org.apache.spark.sql.execution.QueryExecution.sparkPlan$lzycompute(QueryExecution.scala:104)\n",
      "\tat org.apache.spark.sql.execution.QueryExecution.sparkPlan(QueryExecution.scala:97)\n",
      "\tat org.apache.spark.sql.execution.QueryExecution.$anonfun$executedPlan$1(QueryExecution.scala:117)\n",
      "\tat org.apache.spark.sql.catalyst.QueryPlanningTracker.measurePhase(QueryPlanningTracker.scala:111)\n",
      "\tat org.apache.spark.sql.execution.QueryExecution.$anonfun$executePhase$1(QueryExecution.scala:143)\n",
      "\tat org.apache.spark.sql.SparkSession.withActive(SparkSession.scala:775)\n",
      "\tat org.apache.spark.sql.execution.QueryExecution.executePhase(QueryExecution.scala:143)\n",
      "\tat org.apache.spark.sql.execution.QueryExecution.executedPlan$lzycompute(QueryExecution.scala:117)\n",
      "\tat org.apache.spark.sql.execution.QueryExecution.executedPlan(QueryExecution.scala:110)\n",
      "\tat org.apache.spark.sql.execution.streaming.MicroBatchExecution.$anonfun$runBatch$14(MicroBatchExecution.scala:577)\n",
      "\tat org.apache.spark.sql.execution.streaming.ProgressReporter.reportTimeTaken(ProgressReporter.scala:357)\n",
      "\tat org.apache.spark.sql.execution.streaming.ProgressReporter.reportTimeTaken$(ProgressReporter.scala:355)\n",
      "\tat org.apache.spark.sql.execution.streaming.StreamExecution.reportTimeTaken(StreamExecution.scala:68)\n",
      "\tat org.apache.spark.sql.execution.streaming.MicroBatchExecution.runBatch(MicroBatchExecution.scala:567)\n",
      "\tat org.apache.spark.sql.execution.streaming.MicroBatchExecution.$anonfun$runActivatedStream$2(MicroBatchExecution.scala:226)\n",
      "\tat scala.runtime.java8.JFunction0$mcV$sp.apply(JFunction0$mcV$sp.java:23)\n",
      "\tat org.apache.spark.sql.execution.streaming.ProgressReporter.reportTimeTaken(ProgressReporter.scala:357)\n",
      "\tat org.apache.spark.sql.execution.streaming.ProgressReporter.reportTimeTaken$(ProgressReporter.scala:355)\n",
      "\tat org.apache.spark.sql.execution.streaming.StreamExecution.reportTimeTaken(StreamExecution.scala:68)\n",
      "\tat org.apache.spark.sql.execution.streaming.MicroBatchExecution.$anonfun$runActivatedStream$1(MicroBatchExecution.scala:194)\n",
      "\tat org.apache.spark.sql.execution.streaming.ProcessingTimeExecutor.execute(TriggerExecutor.scala:57)\n",
      "\tat org.apache.spark.sql.execution.streaming.MicroBatchExecution.runActivatedStream(MicroBatchExecution.scala:188)\n",
      "\tat org.apache.spark.sql.execution.streaming.StreamExecution.$anonfun$runStream$1(StreamExecution.scala:334)\n",
      "\tat scala.runtime.java8.JFunction0$mcV$sp.apply(JFunction0$mcV$sp.java:23)\n",
      "\tat org.apache.spark.sql.SparkSession.withActive(SparkSession.scala:775)\n",
      "\tat org.apache.spark.sql.execution.streaming.StreamExecution.org$apache$spark$sql$execution$streaming$StreamExecution$$runStream(StreamExecution.scala:317)\n",
      "\tat org.apache.spark.sql.execution.streaming.StreamExecution$$anon$1.run(StreamExecution.scala:244)\n"
     ]
    },
    {
     "ename": "StreamingQueryException",
     "evalue": "Connection refused (Connection refused)\n=== Streaming Query ===\nIdentifier: socketData [id = 968dc90d-01b5-40cf-b953-99d6edfef47e, runId = 57ea80b1-24ad-4eac-a0e2-75beb23d03d9]\nCurrent Committed Offsets: {}\nCurrent Available Offsets: {TextSocketV2[host: localhost, port: 8000]: -1}\n\nCurrent State: ACTIVE\nThread State: RUNNABLE\n\nLogical Plan:\nWriteToMicroBatchDataSource org.apache.spark.sql.execution.streaming.sources.MemoryStreamingWrite@a305d6f\n+- Project [dict#71128.object_id AS object_id#71130, dict#71128.latitude AS latitude#71131, dict#71128.longitude AS longitude#71132, dict#71128.date AS date#71133, dict#71128.customer_id AS customer_id#71134, dict#71128.employee_id AS employee_id#71135, dict#71128.quantity_products AS quantity_products#71136, dict#71128.order_id AS order_id#71137]\n   +- Project [dict#71128]\n      +- Generate explode(data#71125), false, [dict#71128]\n         +- Project [from_json(ArrayType(StructType(StructField(object_id,IntegerType,true), StructField(latitude,DoubleType,true), StructField(longitude,DoubleType,true), StructField(date,StringType,true), StructField(customer_id,IntegerType,true), StructField(employee_id,IntegerType,true), StructField(quantity_products,IntegerType,true), StructField(order_id,StringType,true)),true), value#71123, Some(Etc/UTC)) AS data#71125]\n            +- StreamingDataSourceV2Relation [value#71123], org.apache.spark.sql.execution.streaming.sources.TextSocketTable$$anon$1@6a1de00c, TextSocketV2[host: localhost, port: 8000]\n",
     "output_type": "error",
     "traceback": [
      "\u001b[0;31m---------------------------------------------------------------------------\u001b[0m",
      "\u001b[0;31mStreamingQueryException\u001b[0m                   Traceback (most recent call last)",
      "Input \u001b[0;32mIn [197]\u001b[0m, in \u001b[0;36m<cell line: 3>\u001b[0;34m()\u001b[0m\n\u001b[1;32m      7\u001b[0m static_stream_df \u001b[38;5;241m=\u001b[39m spark\u001b[38;5;241m.\u001b[39msql(\u001b[38;5;124m\"\u001b[39m\u001b[38;5;124mSELECT * FROM socketData\u001b[39m\u001b[38;5;124m\"\u001b[39m)\n\u001b[1;32m      8\u001b[0m static_df \u001b[38;5;241m=\u001b[39m static_df\u001b[38;5;241m.\u001b[39munion(static_stream_df)\n\u001b[0;32m----> 9\u001b[0m \u001b[43mwriting_df\u001b[49m\u001b[38;5;241;43m.\u001b[39;49m\u001b[43mawaitTermination\u001b[49m\u001b[43m(\u001b[49m\u001b[38;5;241;43m2\u001b[39;49m\u001b[43m)\u001b[49m\n\u001b[1;32m     10\u001b[0m writing_df\u001b[38;5;241m.\u001b[39mstop()\n\u001b[1;32m     11\u001b[0m \u001b[38;5;28;01mif\u001b[39;00m static_df\u001b[38;5;241m.\u001b[39mcount() \u001b[38;5;241m>\u001b[39m \u001b[38;5;241m50\u001b[39m:\n",
      "File \u001b[0;32m/usr/local/lib/python3.8/dist-packages/pyspark/sql/streaming.py:99\u001b[0m, in \u001b[0;36mStreamingQuery.awaitTermination\u001b[0;34m(self, timeout)\u001b[0m\n\u001b[1;32m     97\u001b[0m     \u001b[38;5;28;01mif\u001b[39;00m \u001b[38;5;129;01mnot\u001b[39;00m \u001b[38;5;28misinstance\u001b[39m(timeout, (\u001b[38;5;28mint\u001b[39m, \u001b[38;5;28mfloat\u001b[39m)) \u001b[38;5;129;01mor\u001b[39;00m timeout \u001b[38;5;241m<\u001b[39m \u001b[38;5;241m0\u001b[39m:\n\u001b[1;32m     98\u001b[0m         \u001b[38;5;28;01mraise\u001b[39;00m \u001b[38;5;167;01mValueError\u001b[39;00m(\u001b[38;5;124m\"\u001b[39m\u001b[38;5;124mtimeout must be a positive integer or float. Got \u001b[39m\u001b[38;5;132;01m%s\u001b[39;00m\u001b[38;5;124m\"\u001b[39m \u001b[38;5;241m%\u001b[39m timeout)\n\u001b[0;32m---> 99\u001b[0m     \u001b[38;5;28;01mreturn\u001b[39;00m \u001b[38;5;28;43mself\u001b[39;49m\u001b[38;5;241;43m.\u001b[39;49m\u001b[43m_jsq\u001b[49m\u001b[38;5;241;43m.\u001b[39;49m\u001b[43mawaitTermination\u001b[49m\u001b[43m(\u001b[49m\u001b[38;5;28;43mint\u001b[39;49m\u001b[43m(\u001b[49m\u001b[43mtimeout\u001b[49m\u001b[43m \u001b[49m\u001b[38;5;241;43m*\u001b[39;49m\u001b[43m \u001b[49m\u001b[38;5;241;43m1000\u001b[39;49m\u001b[43m)\u001b[49m\u001b[43m)\u001b[49m\n\u001b[1;32m    100\u001b[0m \u001b[38;5;28;01melse\u001b[39;00m:\n\u001b[1;32m    101\u001b[0m     \u001b[38;5;28;01mreturn\u001b[39;00m \u001b[38;5;28mself\u001b[39m\u001b[38;5;241m.\u001b[39m_jsq\u001b[38;5;241m.\u001b[39mawaitTermination()\n",
      "File \u001b[0;32m/usr/local/lib/python3.8/dist-packages/py4j/java_gateway.py:1304\u001b[0m, in \u001b[0;36mJavaMember.__call__\u001b[0;34m(self, *args)\u001b[0m\n\u001b[1;32m   1298\u001b[0m command \u001b[38;5;241m=\u001b[39m proto\u001b[38;5;241m.\u001b[39mCALL_COMMAND_NAME \u001b[38;5;241m+\u001b[39m\\\n\u001b[1;32m   1299\u001b[0m     \u001b[38;5;28mself\u001b[39m\u001b[38;5;241m.\u001b[39mcommand_header \u001b[38;5;241m+\u001b[39m\\\n\u001b[1;32m   1300\u001b[0m     args_command \u001b[38;5;241m+\u001b[39m\\\n\u001b[1;32m   1301\u001b[0m     proto\u001b[38;5;241m.\u001b[39mEND_COMMAND_PART\n\u001b[1;32m   1303\u001b[0m answer \u001b[38;5;241m=\u001b[39m \u001b[38;5;28mself\u001b[39m\u001b[38;5;241m.\u001b[39mgateway_client\u001b[38;5;241m.\u001b[39msend_command(command)\n\u001b[0;32m-> 1304\u001b[0m return_value \u001b[38;5;241m=\u001b[39m \u001b[43mget_return_value\u001b[49m\u001b[43m(\u001b[49m\n\u001b[1;32m   1305\u001b[0m \u001b[43m    \u001b[49m\u001b[43manswer\u001b[49m\u001b[43m,\u001b[49m\u001b[43m \u001b[49m\u001b[38;5;28;43mself\u001b[39;49m\u001b[38;5;241;43m.\u001b[39;49m\u001b[43mgateway_client\u001b[49m\u001b[43m,\u001b[49m\u001b[43m \u001b[49m\u001b[38;5;28;43mself\u001b[39;49m\u001b[38;5;241;43m.\u001b[39;49m\u001b[43mtarget_id\u001b[49m\u001b[43m,\u001b[49m\u001b[43m \u001b[49m\u001b[38;5;28;43mself\u001b[39;49m\u001b[38;5;241;43m.\u001b[39;49m\u001b[43mname\u001b[49m\u001b[43m)\u001b[49m\n\u001b[1;32m   1307\u001b[0m \u001b[38;5;28;01mfor\u001b[39;00m temp_arg \u001b[38;5;129;01min\u001b[39;00m temp_args:\n\u001b[1;32m   1308\u001b[0m     temp_arg\u001b[38;5;241m.\u001b[39m_detach()\n",
      "File \u001b[0;32m/usr/local/lib/python3.8/dist-packages/pyspark/sql/utils.py:117\u001b[0m, in \u001b[0;36mcapture_sql_exception.<locals>.deco\u001b[0;34m(*a, **kw)\u001b[0m\n\u001b[1;32m    113\u001b[0m converted \u001b[38;5;241m=\u001b[39m convert_exception(e\u001b[38;5;241m.\u001b[39mjava_exception)\n\u001b[1;32m    114\u001b[0m \u001b[38;5;28;01mif\u001b[39;00m \u001b[38;5;129;01mnot\u001b[39;00m \u001b[38;5;28misinstance\u001b[39m(converted, UnknownException):\n\u001b[1;32m    115\u001b[0m     \u001b[38;5;66;03m# Hide where the exception came from that shows a non-Pythonic\u001b[39;00m\n\u001b[1;32m    116\u001b[0m     \u001b[38;5;66;03m# JVM exception message.\u001b[39;00m\n\u001b[0;32m--> 117\u001b[0m     \u001b[38;5;28;01mraise\u001b[39;00m converted \u001b[38;5;28;01mfrom\u001b[39;00m \u001b[38;5;28mNone\u001b[39m\n\u001b[1;32m    118\u001b[0m \u001b[38;5;28;01melse\u001b[39;00m:\n\u001b[1;32m    119\u001b[0m     \u001b[38;5;28;01mraise\u001b[39;00m\n",
      "\u001b[0;31mStreamingQueryException\u001b[0m: Connection refused (Connection refused)\n=== Streaming Query ===\nIdentifier: socketData [id = 968dc90d-01b5-40cf-b953-99d6edfef47e, runId = 57ea80b1-24ad-4eac-a0e2-75beb23d03d9]\nCurrent Committed Offsets: {}\nCurrent Available Offsets: {TextSocketV2[host: localhost, port: 8000]: -1}\n\nCurrent State: ACTIVE\nThread State: RUNNABLE\n\nLogical Plan:\nWriteToMicroBatchDataSource org.apache.spark.sql.execution.streaming.sources.MemoryStreamingWrite@a305d6f\n+- Project [dict#71128.object_id AS object_id#71130, dict#71128.latitude AS latitude#71131, dict#71128.longitude AS longitude#71132, dict#71128.date AS date#71133, dict#71128.customer_id AS customer_id#71134, dict#71128.employee_id AS employee_id#71135, dict#71128.quantity_products AS quantity_products#71136, dict#71128.order_id AS order_id#71137]\n   +- Project [dict#71128]\n      +- Generate explode(data#71125), false, [dict#71128]\n         +- Project [from_json(ArrayType(StructType(StructField(object_id,IntegerType,true), StructField(latitude,DoubleType,true), StructField(longitude,DoubleType,true), StructField(date,StringType,true), StructField(customer_id,IntegerType,true), StructField(employee_id,IntegerType,true), StructField(quantity_products,IntegerType,true), StructField(order_id,StringType,true)),true), value#71123, Some(Etc/UTC)) AS data#71125]\n            +- StreamingDataSourceV2Relation [value#71123], org.apache.spark.sql.execution.streaming.sources.TextSocketTable$$anon$1@6a1de00c, TextSocketV2[host: localhost, port: 8000]\n"
     ]
    }
   ],
   "source": [
    "static_df = spark.createDataFrame([], static_schema)\n",
    "while True:\n",
    "    streaming_df = spark.readStream.format(\"socket\").option(\"host\", \"localhost\").option(\"port\", \"8000\").load()\n",
    "    json_df = streaming_df.select(from_json(col(\"value\"), schema).alias(\"data\"))\n",
    "    json_df = json_df.selectExpr(\"explode(data) as dict\").select(\"dict.*\")\n",
    "    writing_df = json_df.writeStream.format(\"memory\").queryName(\"socketData\").outputMode(\"update\").start()\n",
    "    static_stream_df = spark.sql(\"SELECT * FROM socketData\")\n",
    "    static_df = static_df.union(static_stream_df)\n",
    "    writing_df.awaitTermination(2)\n",
    "    writing_df.stop()\n",
    "    if static_df.count() > 50:\n",
    "        now = datetime.now()\n",
    "        now = now.strftime(\"%d_%m_%Y__%H_%M_%S\")\n",
    "        ruta = '/raw/new/data_raw_'+now+'.parquet'\n",
    "        print(ruta)\n",
    "        static_df.write.mode('append').parquet(ruta)\n",
    "        static_df = spark.createDataFrame([], static_schema)\n",
    "    time.sleep(30)"
   ]
  },
  {
   "cell_type": "code",
   "execution_count": 198,
   "id": "7bc91841-026d-4ba2-a32c-68fb269c5fee",
   "metadata": {},
   "outputs": [
    {
     "name": "stdout",
     "output_type": "stream",
     "text": [
      "Tabla estatica: 269\n",
      "+---------+------------------+------------------+-------------------+-----------+-----------+-----------------+------------------------------------+\n",
      "|object_id|latitude          |longitude         |date               |customer_id|employee_id|quantity_products|order_id                            |\n",
      "+---------+------------------+------------------+-------------------+-----------+-----------+-----------------+------------------------------------+\n",
      "|336      |6.312877773625606 |-75.67142513127672|21/06/2024 02:09:36|8837       |9726       |577              |d8b9b417-b098-4344-b137-362894e4dckh|\n",
      "|339      |6.248162954925148 |-75.49213858646789|21/06/2024 02:09:36|2381       |6696       |476              |d8b9b417-b098-4344-b137-362894e4dckg|\n",
      "|328      |6.260502879589433 |-75.55631439510852|21/06/2024 02:09:36|7311       |9726       |252              |d8b9b417-b098-4344-b137-362894e4dckf|\n",
      "|322      |6.293711329824756 |-75.55888626472442|21/06/2024 02:09:36|8190       |3455       |608              |d8b9b417-b098-4344-b137-362894e4dcke|\n",
      "|327      |6.279714756943891 |-75.59504684486872|21/06/2024 02:09:36|9723       |5668       |366              |d8b9b417-b098-4344-b137-362894e4dckd|\n",
      "|328      |6.2520435177906215|-75.546257035767  |21/06/2024 02:09:36|6944       |8362       |572              |d8b9b417-b098-4344-b137-362894e4dckc|\n",
      "|327      |6.281782784170848 |-75.60590403880232|21/06/2024 02:09:36|6374       |8362       |474              |d8b9b417-b098-4344-b137-362894e4dckb|\n",
      "|330      |6.245226206139274 |-75.56426514383985|21/06/2024 02:09:36|6255       |3455       |643              |d8b9b417-b098-4344-b137-362894e4dcka|\n",
      "|338      |6.257701909387247 |-75.6557052370646 |21/06/2024 02:09:36|3875       |5668       |456              |d8b9b417-b098-4344-b137-362894e4dcjz|\n",
      "|324      |6.278980465093946 |-75.55745153529763|21/06/2024 02:09:36|9440       |1737       |503              |d8b9b417-b098-4344-b137-362894e4dcjy|\n",
      "|336      |6.331757204319395 |-75.70416990451201|21/06/2024 02:09:04|5534       |5668       |384              |d8b9b417-b098-4344-b137-362894e4dcjx|\n",
      "|336      |6.367015709059585 |-75.71486060841902|21/06/2024 02:09:04|4211       |2470       |534              |d8b9b417-b098-4344-b137-362894e4dcjw|\n",
      "|337      |6.260637879364325 |-75.65810247921237|21/06/2024 02:09:04|7760       |6659       |514              |d8b9b417-b098-4344-b137-362894e4dcjv|\n",
      "|326      |6.305182916165329 |-75.5825207333652 |21/06/2024 02:09:04|5550       |4942       |480              |d8b9b417-b098-4344-b137-362894e4dcju|\n",
      "|336      |6.290939838251076 |-75.69478626032029|21/06/2024 02:09:04|3173       |2470       |348              |d8b9b417-b098-4344-b137-362894e4dcjt|\n",
      "|335      |6.204694473788893 |-75.59841621316718|21/06/2024 02:08:32|9935       |8362       |648              |d8b9b417-b098-4344-b137-362894e4dcjs|\n",
      "|339      |6.225881512149081 |-75.52893564743401|21/06/2024 02:08:32|8920       |1114       |358              |d8b9b417-b098-4344-b137-362894e4dcjr|\n",
      "|341      |6.199796920983687 |-75.6460717180403 |21/06/2024 02:08:32|3572       |9435       |826              |d8b9b417-b098-4344-b137-362894e4dcjq|\n",
      "|336      |6.3301460271137024|-75.71399579720216|21/06/2024 02:08:32|3173       |3830       |497              |d8b9b417-b098-4344-b137-362894e4dcjp|\n",
      "|337      |6.255136834613724 |-75.64123972230065|21/06/2024 02:08:32|1923       |1114       |562              |d8b9b417-b098-4344-b137-362894e4dcjo|\n",
      "+---------+------------------+------------------+-------------------+-----------+-----------+-----------------+------------------------------------+\n",
      "only showing top 20 rows\n",
      "\n"
     ]
    }
   ],
   "source": [
    "df = spark.read.parquet(\"/raw/new/*.parquet\")\n",
    "print(\"Tabla estatica:\", df.count())\n",
    "df = df.orderBy(desc(\"order_id\"))\n",
    "df.show(truncate=False)"
   ]
  },
  {
   "cell_type": "code",
   "execution_count": 199,
   "id": "22682611-af0e-41c0-80d1-d34f9abe3202",
   "metadata": {},
   "outputs": [],
   "source": [
    "paths = [\n",
    "    'file:///workspace/base.data/50001.parquet',\n",
    "    'file:///workspace/base.data/customers.parquet',\n",
    "    'file:///workspace/base.data/employees.parquet',\n",
    "    'file:///workspace/base.data/medellin_neighborhoods.parquet'\n",
    "]\n",
    "\n",
    "hdfs_destination = \"hdfs:////data/\"\n"
   ]
  },
  {
   "cell_type": "markdown",
   "id": "a1cead0c-e4c1-49c0-9f54-651797912c0a",
   "metadata": {},
   "source": [
    "Función para mover archivos a HDFS"
   ]
  },
  {
   "cell_type": "code",
   "execution_count": 200,
   "id": "14e8ff9e-fd37-40b7-a13d-c6f8a99292fa",
   "metadata": {},
   "outputs": [
    {
     "name": "stdout",
     "output_type": "stream",
     "text": [
      "Archivo 50001.parquet movido a hdfs:////data/\n",
      "Archivo customers.parquet movido a hdfs:////data/\n",
      "Archivo employees.parquet movido a hdfs:////data/\n",
      "Archivo medellin_neighborhoods.parquet movido a hdfs:////data/\n"
     ]
    }
   ],
   "source": [
    "def move_to_hdfs(file_paths, hdfs_dest):\n",
    "    for path in file_paths:\n",
    "        # Leer el archivo local\n",
    "        df = spark.read.parquet(path)\n",
    "        \n",
    "        # Extraer el nombre del archivo para usarlo como nombre de archivo en HDFS\n",
    "        file_name = path.split(\"/\")[-1]\n",
    "        \n",
    "        # Escribir en HDFS\n",
    "        df.write.parquet(hdfs_dest + file_name, mode=\"overwrite\")\n",
    "        \n",
    "        print(f\"Archivo {file_name} movido a {hdfs_dest}\")\n",
    "\n",
    "# Llamar a la función para mover archivos\n",
    "move_to_hdfs(paths, hdfs_destination)"
   ]
  },
  {
   "cell_type": "markdown",
   "id": "d567b18a-0342-4d60-99d0-feed8d701250",
   "metadata": {},
   "source": [
    "Listar Archivos en HDFS desde Python"
   ]
  },
  {
   "cell_type": "code",
   "execution_count": 201,
   "id": "fb908d92-2fbc-4e73-b2ce-46aaa47e3b0b",
   "metadata": {},
   "outputs": [
    {
     "name": "stdout",
     "output_type": "stream",
     "text": [
      "Found 6 items\n",
      "drwxr-xr-x   - root supergroup          0 2024-06-19 20:56 /raw/50001.parquet\n",
      "drwxr-xr-x   - root supergroup          0 2024-06-19 20:56 /raw/customers.parquet\n",
      "drwxr-xr-x   - root supergroup          0 2024-06-19 20:56 /raw/employees.parquet\n",
      "drwxr-xr-x   - root supergroup          0 2024-06-19 20:56 /raw/medellin_neighborhoods.parquet\n",
      "drwxr-xr-x   - root supergroup          0 2024-06-21 05:22 /raw/new\n",
      "drwxr-xr-x   - root supergroup          0 2024-06-21 01:52 /raw/processed\n",
      "\n"
     ]
    }
   ],
   "source": [
    "from subprocess import Popen, PIPE\n",
    "\n",
    "# Comando para listar archivos en HDFS\n",
    "command = ['hadoop', 'fs', '-ls', '/raw' ]\n",
    "\n",
    "# Ejecutar el comando y capturar la salida\n",
    "process = Popen(command, stdout=PIPE, stderr=PIPE)\n",
    "stdout, stderr = process.communicate()\n",
    "\n",
    "# Decodificar la salida y mostrarla\n",
    "output = stdout.decode()\n",
    "print(output)\n"
   ]
  },
  {
   "cell_type": "code",
   "execution_count": 202,
   "id": "bcc77f5c-5fb6-4f73-86e4-ae3b68b0ab40",
   "metadata": {},
   "outputs": [
    {
     "name": "stdout",
     "output_type": "stream",
     "text": [
      "Found 5 items\n",
      "drwxr-xr-x   - root supergroup          0 2024-06-21 01:58 /raw/new/data_raw_21_06_2024__01_58_16.parquet\n",
      "drwxr-xr-x   - root supergroup          0 2024-06-21 02:02 /raw/new/data_raw_21_06_2024__02_02_03.parquet\n",
      "drwxr-xr-x   - root supergroup          0 2024-06-21 02:05 /raw/new/data_raw_21_06_2024__02_05_51.parquet\n",
      "drwxr-xr-x   - root supergroup          0 2024-06-21 02:09 /raw/new/data_raw_21_06_2024__02_09_38.parquet\n",
      "drwxr-xr-x   - root supergroup          0 2024-06-21 05:22 /raw/new/data_raw_21_06_2024__05_22_48.parquet\n"
     ]
    }
   ],
   "source": [
    "!hdfs dfs -ls /raw/new"
   ]
  },
  {
   "cell_type": "code",
   "execution_count": 203,
   "id": "545937b7-c361-4cc0-b86e-4d73583759fd",
   "metadata": {},
   "outputs": [
    {
     "name": "stdout",
     "output_type": "stream",
     "text": [
      "Found 4 items\n",
      "drwxr-xr-x   - root supergroup          0 2024-06-21 05:26 /data/50001.parquet\n",
      "drwxr-xr-x   - root supergroup          0 2024-06-21 05:26 /data/customers.parquet\n",
      "drwxr-xr-x   - root supergroup          0 2024-06-21 05:26 /data/employees.parquet\n",
      "drwxr-xr-x   - root supergroup          0 2024-06-21 05:26 /data/medellin_neighborhoods.parquet\n"
     ]
    }
   ],
   "source": [
    "!hdfs dfs -ls /data\n"
   ]
  },
  {
   "cell_type": "code",
   "execution_count": 204,
   "id": "83cb3eb1-e394-4693-9765-f1c6050fa6cc",
   "metadata": {},
   "outputs": [],
   "source": [
    "#!hdfs dfs -rm -r /raw/new/50001.parquet\n",
    "#!hdfs dfs -rm -r /raw/new/customers.parquet\n",
    "#!hdfs dfs -rm -r /raw/new/employees.parquet\n",
    "#!hdfs dfs -rm -r /raw/new/medellin_neighborhoods.parquet\n"
   ]
  },
  {
   "cell_type": "code",
   "execution_count": 205,
   "id": "bed29a1c-40a1-4e7c-a5f4-c401b4efac16",
   "metadata": {},
   "outputs": [],
   "source": [
    "# Definir la ruta base en HDFS\n",
    "hdfs_base_path = 'hdfs://localhost:9000'\n",
    "\n",
    "# Leer cada archivo Parquet\n",
    "df_50001 = spark.read.parquet(hdfs_base_path + '/data/50001.parquet')\n",
    "df_customers = spark.read.parquet(hdfs_base_path + '/data/customers.parquet')\n",
    "df_data_raw = spark.read.parquet(hdfs_base_path + '/raw/new/*.parquet')\n",
    "df_employees = spark.read.parquet(hdfs_base_path + '/data/employees.parquet')\n",
    "df_neighborhoods = spark.read.parquet(hdfs_base_path + '/data/medellin_neighborhoods.parquet')\n"
   ]
  },
  {
   "cell_type": "code",
   "execution_count": 206,
   "id": "c7630fa9-7da8-404b-93bb-dac0f77aaabc",
   "metadata": {},
   "outputs": [
    {
     "name": "stdout",
     "output_type": "stream",
     "text": [
      "+---------+------------------+------------------+-------------------+-----------+-----------+-----------------+--------------------+\n",
      "|object_id|          latitude|         longitude|               date|customer_id|employee_id|quantity_products|            order_id|\n",
      "+---------+------------------+------------------+-------------------+-----------+-----------+-----------------+--------------------+\n",
      "|      337| 6.272252523303907|-75.64754590534695|21/06/2024 01:55:01|       6253|       1679|              225|d8b9b417-b098-434...|\n",
      "|      330| 6.228334667224176|-75.56989476031579|21/06/2024 01:55:01|       5687|       3830|              294|d8b9b417-b098-434...|\n",
      "|      341|6.2644164362595784|-75.69769593180834|21/06/2024 01:55:01|       8837|       2232|              422|d8b9b417-b098-434...|\n",
      "|      337| 6.312778670415543|-75.66684760175428|21/06/2024 01:55:01|       2390|       9438|              727|d8b9b417-b098-434...|\n",
      "|      335| 6.237990075558335|-75.58065203777282|21/06/2024 01:55:01|       3103|       2232|              360|d8b9b417-b098-434...|\n",
      "|      334|6.1896650224447605|-75.58040446730507|21/06/2024 01:55:01|       6789|       2470|              724|d8b9b417-b098-434...|\n",
      "|      337|  6.30322371581286|-75.66088069457669|21/06/2024 01:55:01|       4978|       9438|              498|d8b9b417-b098-434...|\n",
      "|      324| 6.287800456217061|-75.55533555287938|21/06/2024 01:55:01|       7805|       9438|              638|d8b9b417-b098-434...|\n",
      "|      333| 6.248714537791439|-75.62599761949413|21/06/2024 01:55:01|       2566|       9435|              369|d8b9b417-b098-434...|\n",
      "|      326| 6.295057719286122|-75.58365136412945|21/06/2024 01:55:01|       4281|       9726|              429|d8b9b417-b098-434...|\n",
      "+---------+------------------+------------------+-------------------+-----------+-----------+-----------------+--------------------+\n",
      "only showing top 10 rows\n",
      "\n"
     ]
    }
   ],
   "source": [
    "df_data_raw.show(10)\n"
   ]
  },
  {
   "cell_type": "code",
   "execution_count": 207,
   "id": "eac3290d-5258-45ee-a039-224c05bba946",
   "metadata": {},
   "outputs": [
    {
     "name": "stdout",
     "output_type": "stream",
     "text": [
      "+--------+----------+----------+----------+----------+--------------------+\n",
      "|DPTOMPIO|DPTO_CCDGO|MPIO_CCDGO|MPIO_CNMBR|MPIO_CCNCT|            geometry|\n",
      "+--------+----------+----------+----------+----------+--------------------+\n",
      "|   05001|        05|       001|  MEDELLÍN|     05001|[01 03 00 00 00 0...|\n",
      "+--------+----------+----------+----------+----------+--------------------+\n",
      "\n"
     ]
    }
   ],
   "source": [
    "df_50001.show()"
   ]
  },
  {
   "cell_type": "code",
   "execution_count": 208,
   "id": "fdd6a694-b8e7-44e9-a8ce-8f047ef110e0",
   "metadata": {},
   "outputs": [
    {
     "name": "stdout",
     "output_type": "stream",
     "text": [
      "+--------+------+----------+--------------+-----------------+---------------------------+--------------+----------------+------------------+--------------------+\n",
      "|OBJECTID|CODIGO|    NOMBRE|IDENTIFICACION|LIMITEMUNICIPIOID|SUBTIPO_COMUNACORREGIMIENTO|LINK_DOCUMENTO|       SHAPEAREA|          SHAPELEN|            geometry|\n",
      "+--------+------+----------+--------------+-----------------+---------------------------+--------------+----------------+------------------+--------------------+\n",
      "|     321|    01|   POPULAR|      COMUNA 1|              001|                          1|          null|3098289.60257159| 9604.987826371042|[01 03 00 00 00 0...|\n",
      "|     322|    02|SANTA CRUZ|      COMUNA 2|              001|                          1|          null|2195874.52580248| 8597.714448746181|[01 03 00 00 00 0...|\n",
      "|     323|    03|  MANRIQUE|      COMUNA 3|              001|                          1|          null|5096746.29132065|  12078.2371083362|[01 03 00 00 00 0...|\n",
      "|     324|    04|  ARANJUEZ|      COMUNA 4|              001|                          1|          null|4883731.20686567|  9643.08926478059|[01 03 00 00 00 0...|\n",
      "|     325|    05|  CASTILLA|      COMUNA 5|              001|                          1|          null|6064367.05380115|16098.614898044401|[01 03 00 00 00 0...|\n",
      "+--------+------+----------+--------------+-----------------+---------------------------+--------------+----------------+------------------+--------------------+\n",
      "only showing top 5 rows\n",
      "\n"
     ]
    }
   ],
   "source": [
    "df_neighborhoods.show(5)"
   ]
  },
  {
   "cell_type": "code",
   "execution_count": 209,
   "id": "873d1b36-03c8-40ce-9339-c46d9f0b4e41",
   "metadata": {},
   "outputs": [
    {
     "name": "stdout",
     "output_type": "stream",
     "text": [
      "+-----------+----------------+--------------+--------------------+--------------------+---------+\n",
      "|employee_id|            name|         phone|               email|             address|comission|\n",
      "+-----------+----------------+--------------+--------------------+--------------------+---------+\n",
      "|       3830|Shaeleigh Turner|1-382-217-5724|pellentesque.ultr...| Ap #497-3659 Eu St.|     0.06|\n",
      "|       8362|  Catherine King|1-721-878-1085|  sed@localstack.com|Ap #897-2636 Enim...|     0.07|\n",
      "|       6696|    Patricia Cox|1-265-643-2312|imperdiet.erat.no...|Ap #775-1599 Sed Av.|     0.04|\n",
      "|       1482|   Elijah Parker|1-960-392-6387|blandit.congue@lo...|P.O. Box 351, 382...|     0.13|\n",
      "|       9435|    Ryan Nichols|1-746-416-6687|porttitor.tellus....|P.O. Box 829, 407...|     0.18|\n",
      "+-----------+----------------+--------------+--------------------+--------------------+---------+\n",
      "only showing top 5 rows\n",
      "\n"
     ]
    }
   ],
   "source": [
    "df_employees.show(5)"
   ]
  },
  {
   "cell_type": "code",
   "execution_count": 210,
   "id": "7596947a-b3a2-4faa-90b3-74660dea0a49",
   "metadata": {},
   "outputs": [
    {
     "name": "stdout",
     "output_type": "stream",
     "text": [
      "root\n",
      " |-- object_id: integer (nullable = true)\n",
      " |-- latitude: double (nullable = true)\n",
      " |-- longitude: double (nullable = true)\n",
      " |-- date: string (nullable = true)\n",
      " |-- customer_id: integer (nullable = true)\n",
      " |-- employee_id: integer (nullable = true)\n",
      " |-- quantity_products: integer (nullable = true)\n",
      " |-- order_id: string (nullable = true)\n",
      "\n",
      "La cantidad de eventos es: 269\n"
     ]
    }
   ],
   "source": [
    "# Mostrar el esquema del DataFrame\n",
    "df_data_raw.printSchema()\n",
    "\n",
    "# Contar la cantidad de eventos\n",
    "event_count = df_data_raw.count()\n",
    "# Mostrar la cantidad de eventos\n",
    "print(f\"La cantidad de eventos es: {event_count}\")"
   ]
  },
  {
   "cell_type": "code",
   "execution_count": 211,
   "id": "e523b73c-f8d8-43db-90ff-c10cc6c033fc",
   "metadata": {},
   "outputs": [],
   "source": [
    "#Dejar las tablas en bronze con HIVE\n",
    "from pyspark.sql import SparkSession\n",
    "\n",
    "spark = SparkSession.builder \\\n",
    "    .appName(\"Spark SQL Hive Integration\") \\\n",
    "    .config(\"spark.sql.warehouse.dir\", \"/user/hive/warehouse\") \\\n",
    "    .enableHiveSupport() \\\n",
    "    .getOrCreate()"
   ]
  },
  {
   "cell_type": "code",
   "execution_count": 212,
   "id": "e76937de-511a-4a03-ad80-be2f86f5f782",
   "metadata": {},
   "outputs": [],
   "source": [
    "# Aumentar el límite de la tasa de datos de IOPub\n",
    "from notebook.services.config import ConfigManager\n",
    "cm = ConfigManager().update('notebook', {\n",
    "    'ServerApp': {\n",
    "        'iopub_data_rate_limit': 10000000\n",
    "    }\n",
    "})\n"
   ]
  },
  {
   "cell_type": "code",
   "execution_count": 213,
   "id": "dd93d621-1d53-4b95-877a-44c308176737",
   "metadata": {},
   "outputs": [
    {
     "data": {
      "text/plain": [
       "DataFrame[]"
      ]
     },
     "execution_count": 213,
     "metadata": {},
     "output_type": "execute_result"
    }
   ],
   "source": [
    "# Crear la base de datos bronze si no existe\n",
    "spark.sql(\"CREATE DATABASE IF NOT EXISTS bronze\")"
   ]
  },
  {
   "cell_type": "code",
   "execution_count": 214,
   "id": "9d9f49ce-1c94-468f-9683-908e45a54c57",
   "metadata": {},
   "outputs": [],
   "source": [
    "# Guardar los datos como una tabla en la base de datos bronze\n",
    "df_data_raw.write.mode('append').saveAsTable('bronze.almacenamiento_bronze_nuevo')\n"
   ]
  },
  {
   "cell_type": "code",
   "execution_count": 215,
   "id": "f35ff8a3-01bf-463c-8725-8c940cdd64c6",
   "metadata": {},
   "outputs": [
    {
     "name": "stdout",
     "output_type": "stream",
     "text": [
      "+---------+-----------------+------------------+-------------------+-----------+-----------+-----------------+--------------------+\n",
      "|object_id|         latitude|         longitude|               date|customer_id|employee_id|quantity_products|            order_id|\n",
      "+---------+-----------------+------------------+-------------------+-----------+-----------+-----------------+--------------------+\n",
      "|      334|6.222446938596848|-75.56855864645483|21/06/2024 01:59:20|       8657|       2232|              392|d8b9b417-b098-434...|\n",
      "|      339|6.216340691862865|-75.52325545011696|21/06/2024 01:59:52|       3118|       4942|              539|d8b9b417-b098-434...|\n",
      "|      338|6.234301858827036| -75.6168586442365|21/06/2024 01:59:52|       5624|       9438|              540|d8b9b417-b098-434...|\n",
      "|      337|6.260951370843877|-75.66692073981508|21/06/2024 01:59:52|       8184|       2470|              444|d8b9b417-b098-434...|\n",
      "|      339|6.251539356032007|-75.53244101782771|21/06/2024 01:59:52|       2918|       9726|              597|d8b9b417-b098-434...|\n",
      "|      334|6.182040633805007|-75.55671114118243|21/06/2024 01:59:52|       9535|       1473|              432|d8b9b417-b098-434...|\n",
      "|      343|6.229747223442643|-75.57710845590925|21/06/2024 01:59:52|       5190|       4942|              504|d8b9b417-b098-434...|\n",
      "|      323|6.274563406667454|-75.53889609946889|21/06/2024 01:59:52|       8913|       4750|              370|d8b9b417-b098-434...|\n",
      "|      336|6.332854188176024| -75.7122239486514|21/06/2024 02:00:24|       5368|       1561|              542|d8b9b417-b098-434...|\n",
      "|      328|6.250869226116005|-75.55165084071096|21/06/2024 02:00:24|       1793|       6659|              501|d8b9b417-b098-434...|\n",
      "|      341|6.176720545608899|-75.67071071089825|21/06/2024 02:00:24|       5602|       1679|              567|d8b9b417-b098-434...|\n",
      "|      334|6.201149500497264|-75.56647105257245|21/06/2024 02:00:24|       7311|       1679|              935|d8b9b417-b098-434...|\n",
      "|      323|6.263153016140105|-75.54475412288473|21/06/2024 02:00:24|       1256|       3830|              695|d8b9b417-b098-434...|\n",
      "|      338|6.203654939354002|-75.61143567502276|21/06/2024 02:00:24|       2345|       9438|              624|d8b9b417-b098-434...|\n",
      "|      341|6.199796920983687| -75.6460717180403|21/06/2024 02:08:32|       3572|       9435|              826|d8b9b417-b098-434...|\n",
      "|      339|6.225881512149081|-75.52893564743401|21/06/2024 02:08:32|       8920|       1114|              358|d8b9b417-b098-434...|\n",
      "|      335|6.204694473788893|-75.59841621316718|21/06/2024 02:08:32|       9935|       8362|              648|d8b9b417-b098-434...|\n",
      "|      336|6.290939838251076|-75.69478626032029|21/06/2024 02:09:04|       3173|       2470|              348|d8b9b417-b098-434...|\n",
      "|      326|6.305182916165329| -75.5825207333652|21/06/2024 02:09:04|       5550|       4942|              480|d8b9b417-b098-434...|\n",
      "|      337|6.260637879364325|-75.65810247921237|21/06/2024 02:09:04|       7760|       6659|              514|d8b9b417-b098-434...|\n",
      "+---------+-----------------+------------------+-------------------+-----------+-----------+-----------------+--------------------+\n",
      "only showing top 20 rows\n",
      "\n"
     ]
    }
   ],
   "source": [
    "# Consulta para seleccionar todos los datos de la tabla\n",
    "resultados = spark.sql(\"SELECT * FROM bronze.almacenamiento_bronze_nuevo\")\n",
    "\n",
    "# Mostrar los primeros registros de los resultados\n",
    "resultados.show()\n"
   ]
  },
  {
   "cell_type": "code",
   "execution_count": 216,
   "id": "49a93d43-92f8-43c3-adb9-19478b6bda83",
   "metadata": {},
   "outputs": [
    {
     "name": "stdout",
     "output_type": "stream",
     "text": [
      "+---------+-----------------+------------------+-------------------+-----------+-----------+-----------------+------------------------------------+\n",
      "|object_id|latitude         |longitude         |date               |customer_id|employee_id|quantity_products|order_id                            |\n",
      "+---------+-----------------+------------------+-------------------+-----------+-----------+-----------------+------------------------------------+\n",
      "|334      |6.222446938596848|-75.56855864645483|21/06/2024 01:59:20|8657       |2232       |392              |d8b9b417-b098-4344-b137-362894e4dceu|\n",
      "|339      |6.216340691862865|-75.52325545011696|21/06/2024 01:59:52|3118       |4942       |539              |d8b9b417-b098-4344-b137-362894e4dcev|\n",
      "|338      |6.234301858827036|-75.6168586442365 |21/06/2024 01:59:52|5624       |9438       |540              |d8b9b417-b098-4344-b137-362894e4dcew|\n",
      "|337      |6.260951370843877|-75.66692073981508|21/06/2024 01:59:52|8184       |2470       |444              |d8b9b417-b098-4344-b137-362894e4dcex|\n",
      "|339      |6.251539356032007|-75.53244101782771|21/06/2024 01:59:52|2918       |9726       |597              |d8b9b417-b098-4344-b137-362894e4dcey|\n",
      "|334      |6.182040633805007|-75.55671114118243|21/06/2024 01:59:52|9535       |1473       |432              |d8b9b417-b098-4344-b137-362894e4dcez|\n",
      "|343      |6.229747223442643|-75.57710845590925|21/06/2024 01:59:52|5190       |4942       |504              |d8b9b417-b098-4344-b137-362894e4dcfa|\n",
      "|323      |6.274563406667454|-75.53889609946889|21/06/2024 01:59:52|8913       |4750       |370              |d8b9b417-b098-4344-b137-362894e4dcfb|\n",
      "|336      |6.332854188176024|-75.7122239486514 |21/06/2024 02:00:24|5368       |1561       |542              |d8b9b417-b098-4344-b137-362894e4dcfc|\n",
      "|328      |6.250869226116005|-75.55165084071096|21/06/2024 02:00:24|1793       |6659       |501              |d8b9b417-b098-4344-b137-362894e4dcfd|\n",
      "|341      |6.176720545608899|-75.67071071089825|21/06/2024 02:00:24|5602       |1679       |567              |d8b9b417-b098-4344-b137-362894e4dcfe|\n",
      "|334      |6.201149500497264|-75.56647105257245|21/06/2024 02:00:24|7311       |1679       |935              |d8b9b417-b098-4344-b137-362894e4dcff|\n",
      "|323      |6.263153016140105|-75.54475412288473|21/06/2024 02:00:24|1256       |3830       |695              |d8b9b417-b098-4344-b137-362894e4dcfg|\n",
      "|338      |6.203654939354002|-75.61143567502276|21/06/2024 02:00:24|2345       |9438       |624              |d8b9b417-b098-4344-b137-362894e4dcfh|\n",
      "|341      |6.199796920983687|-75.6460717180403 |21/06/2024 02:08:32|3572       |9435       |826              |d8b9b417-b098-4344-b137-362894e4dcjq|\n",
      "|339      |6.225881512149081|-75.52893564743401|21/06/2024 02:08:32|8920       |1114       |358              |d8b9b417-b098-4344-b137-362894e4dcjr|\n",
      "|335      |6.204694473788893|-75.59841621316718|21/06/2024 02:08:32|9935       |8362       |648              |d8b9b417-b098-4344-b137-362894e4dcjs|\n",
      "|336      |6.290939838251076|-75.69478626032029|21/06/2024 02:09:04|3173       |2470       |348              |d8b9b417-b098-4344-b137-362894e4dcjt|\n",
      "|326      |6.305182916165329|-75.5825207333652 |21/06/2024 02:09:04|5550       |4942       |480              |d8b9b417-b098-4344-b137-362894e4dcju|\n",
      "|337      |6.260637879364325|-75.65810247921237|21/06/2024 02:09:04|7760       |6659       |514              |d8b9b417-b098-4344-b137-362894e4dcjv|\n",
      "+---------+-----------------+------------------+-------------------+-----------+-----------+-----------------+------------------------------------+\n",
      "only showing top 20 rows\n",
      "\n"
     ]
    }
   ],
   "source": [
    "# Verificar que la tabla está guardada en almacenamiento_bronze\n",
    "spark.sql(\"SELECT * FROM bronze.almacenamiento_bronze_nuevo\").show(truncate=False)"
   ]
  },
  {
   "cell_type": "code",
   "execution_count": 217,
   "id": "6d426422-c8cf-4ff2-b69c-357fab7f5a9b",
   "metadata": {},
   "outputs": [],
   "source": [
    "# Crear la base de datos bronze si no existe\n",
    "spark.sql(\"CREATE DATABASE IF NOT EXISTS bronze\")\n",
    "# Guardar los datos como una tabla en la base de datos municipio\n",
    "df_50001.write.mode('append').saveAsTable('bronze.municipio_nuevo')\n",
    "# Verificar que la tabla está guardada en municipio\n",
    "#spark.sql(\"SELECT * FROM bronze.municipio_nuevo\").show(truncate=False, n=20)\n"
   ]
  },
  {
   "cell_type": "code",
   "execution_count": 218,
   "id": "b6ff64eb-71a2-4976-9ba6-3cb37b9b2330",
   "metadata": {},
   "outputs": [
    {
     "name": "stdout",
     "output_type": "stream",
     "text": [
      "+------+----------+--------------+-----------------+---------------------------+\n",
      "|CODIGO|NOMBRE    |IDENTIFICACION|LIMITEMUNICIPIOID|SUBTIPO_COMUNACORREGIMIENTO|\n",
      "+------+----------+--------------+-----------------+---------------------------+\n",
      "|01    |POPULAR   |COMUNA 1      |001              |1                          |\n",
      "|02    |SANTA CRUZ|COMUNA 2      |001              |1                          |\n",
      "|03    |MANRIQUE  |COMUNA 3      |001              |1                          |\n",
      "|04    |ARANJUEZ  |COMUNA 4      |001              |1                          |\n",
      "|05    |CASTILLA  |COMUNA 5      |001              |1                          |\n",
      "+------+----------+--------------+-----------------+---------------------------+\n",
      "only showing top 5 rows\n",
      "\n"
     ]
    }
   ],
   "source": [
    "# Crear la base de datos bronze si no existe\n",
    "spark.sql(\"CREATE DATABASE IF NOT EXISTS bronze\")\n",
    "# Guardar los datos como una tabla en la base de datos neighborhoods\n",
    "df_neighborhoods.write.mode('overwrite').saveAsTable('bronze.neighborhoods_nuevo')\n",
    "# Verificar que la tabla está guardada en barrios y mostrar solo las primeras 20 filas de algunas columnas\n",
    "spark.sql(\"SELECT CODIGO, NOMBRE, IDENTIFICACION, LIMITEMUNICIPIOID,SUBTIPO_COMUNACORREGIMIENTO  FROM bronze.neighborhoods_nuevo\").show(truncate=False, n=5)\n"
   ]
  },
  {
   "cell_type": "code",
   "execution_count": 219,
   "id": "fbaf02e1-5d22-49b5-ad0a-631ec350bb40",
   "metadata": {},
   "outputs": [
    {
     "name": "stdout",
     "output_type": "stream",
     "text": [
      "+-----------+--------------------+--------------+------------------------------+-------------------------------+\n",
      "|customer_id|name                |phone         |email                         |address                        |\n",
      "+-----------+--------------------+--------------+------------------------------+-------------------------------+\n",
      "|4758       |Callie Reyes        |1-765-410-5785|magnis.dis@protonmail.ca      |151-4553 Interdum Road         |\n",
      "|5379       |Elizabeth Washington|1-955-634-5542|vel@google.edu                |4063 Nunc St.                  |\n",
      "|8111       |Hasad Wright        |1-324-830-5595|sed.auctor@aol.org            |Ap #625-8512 Non Rd.           |\n",
      "|9258       |Kirk Watts          |1-578-784-1146|laoreet.ipsum@protonmail.org  |211-2213 Pede St.              |\n",
      "|9142       |Cally Robbins       |1-887-472-0478|at.augue.id@google.com        |Ap #287-6324 A, Av.            |\n",
      "|5041       |Benedict Underwood  |1-138-146-9856|ante.ipsum@yahoo.ca           |2927 Velit Rd.                 |\n",
      "|4082       |Maite Frye          |1-978-891-2669|felis.ullamcorper@yahoo.org   |P.O. Box 304, 9982 Fusce Avenue|\n",
      "|7169       |John Austin         |1-110-466-4233|sit.amet.risus@yahoo.net      |4152 Nec Av.                   |\n",
      "|8481       |Janna Luna          |1-766-272-8164|donec.tincidunt@icloud.net    |Ap #411-662 Cum St.            |\n",
      "|9956       |Fritz Reid          |1-424-372-6261|malesuada@outlook.net         |308-2145 Neque. Ave            |\n",
      "|9867       |Alden Kerr          |1-246-193-8421|dolor@outlook.couk            |Ap #864-5025 Ipsum St.         |\n",
      "|8920       |Guinevere Ratliff   |1-601-313-7068|sed@protonmail.ca             |Ap #492-6216 Purus. Rd.        |\n",
      "|9534       |Thor Donaldson      |1-234-408-7380|rutrum@outlook.com            |Ap #655-1719 Sagittis St.      |\n",
      "|6693       |Jakeem Sargent      |1-151-736-7234|vitae.aliquam.eros@outlook.com|Ap #937-1675 Eu, Avenue        |\n",
      "|5363       |Knox Best           |1-768-521-2260|nunc.id@hotmail.com           |Ap #145-4692 Quis Street       |\n",
      "|5582       |Emily Carr          |1-820-241-7872|vel@protonmail.couk           |3036 Sit Rd.                   |\n",
      "|1215       |Chancellor Hurley   |1-546-281-1855|eget.volutpat@yahoo.com       |684-6633 Nec St.               |\n",
      "|2082       |Dean Fischer        |1-537-215-3226|accumsan@icloud.net           |242-770 Per Av.                |\n",
      "|5405       |Mariko Jacobson     |1-834-652-1855|risus.donec@icloud.net        |423-3881 Nisl. Road            |\n",
      "|1965       |Dustin Powers       |1-615-360-3967|erat.eget@protonmail.org      |Ap #959-5827 Malesuada Av.     |\n",
      "+-----------+--------------------+--------------+------------------------------+-------------------------------+\n",
      "only showing top 20 rows\n",
      "\n"
     ]
    }
   ],
   "source": [
    "# Crear la base de datos bronze si no existe\n",
    "spark.sql(\"CREATE DATABASE IF NOT EXISTS bronze\")\n",
    "# Guardar los datos como una tabla en la base de datos clientes\n",
    "df_customers.write.mode('overwrite').saveAsTable('bronze.customers_nuevo')\n",
    "# Verificar que la tabla está guardada en clientes\n",
    "spark.sql(\"SELECT * FROM bronze.customers_nuevo\").show(truncate=False)"
   ]
  },
  {
   "cell_type": "code",
   "execution_count": 220,
   "id": "71e86519-8ca1-46db-96ea-75f682a55fc2",
   "metadata": {},
   "outputs": [
    {
     "name": "stdout",
     "output_type": "stream",
     "text": [
      "+-----------+-----------------+--------------+--------------------------------------+-----------------------------+---------+\n",
      "|employee_id|name             |phone         |email                                 |address                      |comission|\n",
      "+-----------+-----------------+--------------+--------------------------------------+-----------------------------+---------+\n",
      "|3830       |Shaeleigh Turner |1-382-217-5724|pellentesque.ultricies@localstack.com |Ap #497-3659 Eu St.          |0.06     |\n",
      "|8362       |Catherine King   |1-721-878-1085|sed@localstack.com                    |Ap #897-2636 Enim Av.        |0.07     |\n",
      "|6696       |Patricia Cox     |1-265-643-2312|imperdiet.erat.nonummy@localstack.com |Ap #775-1599 Sed Av.         |0.04     |\n",
      "|1482       |Elijah Parker    |1-960-392-6387|blandit.congue@localstack.com         |P.O. Box 351, 3827 Dolor. Ave|0.13     |\n",
      "|9435       |Ryan Nichols     |1-746-416-6687|porttitor.tellus.non@localstack.com   |P.O. Box 829, 4074 Et Rd.    |0.18     |\n",
      "|4750       |Howard Guthrie   |1-411-714-2257|donec.luctus@localstack.com           |719-3465 Sagittis St.        |0.16     |\n",
      "|5668       |Melanie Ball     |1-642-654-0825|mi@localstack.com                     |Ap #491-4951 Rutrum Avenue   |0.18     |\n",
      "|1473       |Celeste Johns    |1-164-659-1664|quisque.ac@localstack.com             |8081 Dapibus Rd.             |0.07     |\n",
      "|9726       |Christen Hamilton|1-837-188-3723|proin.eget.odio@localstack.com        |265-4608 Ut Road             |0.17     |\n",
      "|1561       |Amelia Nolan     |1-638-262-0243|arcu.vestibulum@localstack.com        |7114 Tincidunt Av.           |0.09     |\n",
      "|9438       |Dacey Barr       |1-129-332-2987|in.consectetuer.ipsum@localstack.com  |351-2943 Maecenas Rd.        |0.02     |\n",
      "|1737       |Althea Mckenzie  |1-472-806-5180|cum.sociis@localstack.com             |Ap #530-6235 Vestibulum St.  |0.13     |\n",
      "|1679       |Darius Greer     |1-456-650-5173|blandit@localstack.com                |207-6885 Aliquam St.         |0.04     |\n",
      "|6659       |Melinda Le       |1-842-714-5612|turpis.nulla@localstack.com           |448-8729 Elit. Av.           |0.06     |\n",
      "|1114       |Bevis Sanford    |1-581-141-6488|aliquam.ornare.libero@localstack.com  |Ap #863-9016 Dolor St.       |0.14     |\n",
      "|2470       |Ori Tucker       |1-260-486-5538|nisl.maecenas.malesuada@localstack.com|P.O. Box 130, 746 Libero. Rd.|0.1      |\n",
      "|2232       |Forrest Bradley  |1-781-609-6287|enim.mauris@localstack.com            |994-5433 Sem Av.             |0.07     |\n",
      "|6337       |Phyllis Hubbard  |1-422-851-1159|in.at.pede@localstack.com             |4850 In Av.                  |0.1      |\n",
      "|3455       |Davis Jenkins    |1-561-441-2126|justo.proin@localstack.com            |3600 Blandit St.             |0.13     |\n",
      "|4942       |Sydnee Kirby     |1-347-675-1366|sem@localstack.com                    |543-6641 Nec Ave             |0.16     |\n",
      "+-----------+-----------------+--------------+--------------------------------------+-----------------------------+---------+\n",
      "\n"
     ]
    }
   ],
   "source": [
    "# Crear la base de datos bronze si no existe\n",
    "spark.sql(\"CREATE DATABASE IF NOT EXISTS bronze\")\n",
    "# Guardar los datos como una tabla en la base de datos empleados\n",
    "df_employees.write.mode('overwrite').saveAsTable('bronze.employees_nuevo')\n",
    "# Verificar que la tabla está guardada en empleados\n",
    "spark.sql(\"SELECT * FROM bronze.employees_nuevo\").show(truncate=False)"
   ]
  },
  {
   "cell_type": "markdown",
   "id": "7a7dd1bb-d59c-40fc-a12b-a21a20886f99",
   "metadata": {},
   "source": [
    "# En Bronze se dejaron las tablas en Hive: nombre BD= bronze con tablas 1.almacenamiento_bronze 2.municipio 3.neighborhoods 4.customers y 5.employees\n",
    "\n",
    "##### CAPA SILVER ###########"
   ]
  },
  {
   "cell_type": "code",
   "execution_count": 221,
   "id": "29f6ce4f-8cc1-4f1f-be4a-0890f11f19fd",
   "metadata": {},
   "outputs": [
    {
     "name": "stdout",
     "output_type": "stream",
     "text": [
      "+--------+--------------------+-----------+\n",
      "|database|           tableName|isTemporary|\n",
      "+--------+--------------------+-----------+\n",
      "|  bronze|almacenamiento_br...|      false|\n",
      "|  bronze|     customers_nuevo|      false|\n",
      "|  bronze|     employees_nuevo|      false|\n",
      "|  bronze|     municipio_nuevo|      false|\n",
      "|  bronze| neighborhoods_nuevo|      false|\n",
      "|        |          socketdata|       true|\n",
      "+--------+--------------------+-----------+\n",
      "\n"
     ]
    }
   ],
   "source": [
    "# Listar las tablas en la base de datos eventos_bronze\n",
    "tables_bronze = spark.sql(\"SHOW TABLES IN bronze\")\n",
    "tables_bronze.show()"
   ]
  },
  {
   "cell_type": "code",
   "execution_count": 222,
   "id": "3cdd423c-ac07-4f8a-9357-3754e753b786",
   "metadata": {},
   "outputs": [],
   "source": [
    "from pyspark.sql import SparkSession\n",
    "from pyspark.sql.functions import col, year, to_timestamp, month, dayofmonth, hour, minute, second, date_format\n"
   ]
  },
  {
   "cell_type": "code",
   "execution_count": 223,
   "id": "22f60798-151e-4fe0-bac9-7ad4ed64e138",
   "metadata": {},
   "outputs": [],
   "source": [
    "spark = SparkSession.builder \\\n",
    "    .appName(\"Transformación Bronze a Silver\") \\\n",
    "    .getOrCreate()\n"
   ]
  },
  {
   "cell_type": "code",
   "execution_count": 224,
   "id": "ed117996-3aa9-4501-a000-31f18ee7b7ed",
   "metadata": {},
   "outputs": [],
   "source": [
    "bronze_path_hdfs = 'hdfs://localhost:9000'\n"
   ]
  },
  {
   "cell_type": "code",
   "execution_count": 225,
   "id": "3ffd6009-949c-441a-8285-57122b1c69d5",
   "metadata": {},
   "outputs": [],
   "source": [
    "df_bronze = spark.read.parquet(bronze_path_hdfs + '/raw/new/*.parquet')\n"
   ]
  },
  {
   "cell_type": "code",
   "execution_count": 226,
   "id": "b98fb83e-878d-4900-815b-da5f965d47a8",
   "metadata": {},
   "outputs": [
    {
     "name": "stdout",
     "output_type": "stream",
     "text": [
      "root\n",
      " |-- object_id: integer (nullable = true)\n",
      " |-- latitude: double (nullable = true)\n",
      " |-- longitude: double (nullable = true)\n",
      " |-- date: string (nullable = true)\n",
      " |-- customer_id: integer (nullable = true)\n",
      " |-- employee_id: integer (nullable = true)\n",
      " |-- quantity_products: integer (nullable = true)\n",
      " |-- order_id: string (nullable = true)\n",
      "\n",
      "+---------+------------------+------------------+-------------------+-----------+-----------+-----------------+------------------------------------+\n",
      "|object_id|latitude          |longitude         |date               |customer_id|employee_id|quantity_products|order_id                            |\n",
      "+---------+------------------+------------------+-------------------+-----------+-----------+-----------------+------------------------------------+\n",
      "|337      |6.272252523303907 |-75.64754590534695|21/06/2024 01:55:01|6253       |1679       |225              |d8b9b417-b098-4344-b137-362894e4dccc|\n",
      "|330      |6.228334667224176 |-75.56989476031579|21/06/2024 01:55:01|5687       |3830       |294              |d8b9b417-b098-4344-b137-362894e4dccd|\n",
      "|341      |6.2644164362595784|-75.69769593180834|21/06/2024 01:55:01|8837       |2232       |422              |d8b9b417-b098-4344-b137-362894e4dcce|\n",
      "|337      |6.312778670415543 |-75.66684760175428|21/06/2024 01:55:01|2390       |9438       |727              |d8b9b417-b098-4344-b137-362894e4dccf|\n",
      "|335      |6.237990075558335 |-75.58065203777282|21/06/2024 01:55:01|3103       |2232       |360              |d8b9b417-b098-4344-b137-362894e4dccg|\n",
      "|334      |6.1896650224447605|-75.58040446730507|21/06/2024 01:55:01|6789       |2470       |724              |d8b9b417-b098-4344-b137-362894e4dcch|\n",
      "|337      |6.30322371581286  |-75.66088069457669|21/06/2024 01:55:01|4978       |9438       |498              |d8b9b417-b098-4344-b137-362894e4dcci|\n",
      "|324      |6.287800456217061 |-75.55533555287938|21/06/2024 01:55:01|7805       |9438       |638              |d8b9b417-b098-4344-b137-362894e4dccj|\n",
      "|333      |6.248714537791439 |-75.62599761949413|21/06/2024 01:55:01|2566       |9435       |369              |d8b9b417-b098-4344-b137-362894e4dcck|\n",
      "|326      |6.295057719286122 |-75.58365136412945|21/06/2024 01:55:01|4281       |9726       |429              |d8b9b417-b098-4344-b137-362894e4dccl|\n",
      "+---------+------------------+------------------+-------------------+-----------+-----------+-----------------+------------------------------------+\n",
      "only showing top 10 rows\n",
      "\n"
     ]
    }
   ],
   "source": [
    "df_bronze.printSchema()\n",
    "df_bronze.show(10, truncate=False)\n"
   ]
  },
  {
   "cell_type": "code",
   "execution_count": 227,
   "id": "d1de7620-0c1f-4ad5-adc4-0468b82a8c75",
   "metadata": {},
   "outputs": [
    {
     "name": "stdout",
     "output_type": "stream",
     "text": [
      "mkdir: `/silver/new': File exists\n"
     ]
    }
   ],
   "source": [
    "!hdfs dfs -mkdir /silver/new"
   ]
  },
  {
   "cell_type": "markdown",
   "id": "c0f9f806-cbba-41d7-a861-84a17f5c9997",
   "metadata": {},
   "source": [
    "# Definir la ruta base en HDFS para la capa Silver"
   ]
  },
  {
   "cell_type": "code",
   "execution_count": 228,
   "id": "9045fec6-4876-4337-aebe-bee1773b95e1",
   "metadata": {},
   "outputs": [],
   "source": [
    "silver_path_hdfs = \"hdfs://localhost:9000/silver/new\""
   ]
  },
  {
   "cell_type": "code",
   "execution_count": 229,
   "id": "e90a9a3e-7406-4ddd-97e9-49a823a7e88e",
   "metadata": {},
   "outputs": [
    {
     "name": "stdout",
     "output_type": "stream",
     "text": [
      "root\n",
      " |-- object_id: integer (nullable = true)\n",
      " |-- latitude: double (nullable = true)\n",
      " |-- longitude: double (nullable = true)\n",
      " |-- customer_id: integer (nullable = true)\n",
      " |-- employee_id: integer (nullable = true)\n",
      " |-- quantity_products: integer (nullable = true)\n",
      " |-- order_id: string (nullable = true)\n",
      " |-- event_date: timestamp (nullable = true)\n",
      " |-- partition_date: string (nullable = true)\n",
      " |-- event_day: integer (nullable = true)\n",
      " |-- event_hour: integer (nullable = true)\n",
      " |-- event_minute: integer (nullable = true)\n",
      " |-- event_month: integer (nullable = true)\n",
      " |-- event_second: integer (nullable = true)\n",
      " |-- event_year: integer (nullable = true)\n",
      "\n",
      "+---------+------------------+------------------+-----------+-----------+-----------------+------------------------------------+-------------------+--------------+---------+----------+------------+-----------+------------+----------+\n",
      "|object_id|latitude          |longitude         |customer_id|employee_id|quantity_products|order_id                            |event_date         |partition_date|event_day|event_hour|event_minute|event_month|event_second|event_year|\n",
      "+---------+------------------+------------------+-----------+-----------+-----------------+------------------------------------+-------------------+--------------+---------+----------+------------+-----------+------------+----------+\n",
      "|337      |6.272252523303907 |-75.64754590534695|6253       |1679       |225              |d8b9b417-b098-4344-b137-362894e4dccc|2024-06-21 01:55:01|21062024      |21       |1         |55          |6          |1           |2024      |\n",
      "|330      |6.228334667224176 |-75.56989476031579|5687       |3830       |294              |d8b9b417-b098-4344-b137-362894e4dccd|2024-06-21 01:55:01|21062024      |21       |1         |55          |6          |1           |2024      |\n",
      "|341      |6.2644164362595784|-75.69769593180834|8837       |2232       |422              |d8b9b417-b098-4344-b137-362894e4dcce|2024-06-21 01:55:01|21062024      |21       |1         |55          |6          |1           |2024      |\n",
      "|337      |6.312778670415543 |-75.66684760175428|2390       |9438       |727              |d8b9b417-b098-4344-b137-362894e4dccf|2024-06-21 01:55:01|21062024      |21       |1         |55          |6          |1           |2024      |\n",
      "|335      |6.237990075558335 |-75.58065203777282|3103       |2232       |360              |d8b9b417-b098-4344-b137-362894e4dccg|2024-06-21 01:55:01|21062024      |21       |1         |55          |6          |1           |2024      |\n",
      "|334      |6.1896650224447605|-75.58040446730507|6789       |2470       |724              |d8b9b417-b098-4344-b137-362894e4dcch|2024-06-21 01:55:01|21062024      |21       |1         |55          |6          |1           |2024      |\n",
      "|337      |6.30322371581286  |-75.66088069457669|4978       |9438       |498              |d8b9b417-b098-4344-b137-362894e4dcci|2024-06-21 01:55:01|21062024      |21       |1         |55          |6          |1           |2024      |\n",
      "|324      |6.287800456217061 |-75.55533555287938|7805       |9438       |638              |d8b9b417-b098-4344-b137-362894e4dccj|2024-06-21 01:55:01|21062024      |21       |1         |55          |6          |1           |2024      |\n",
      "|333      |6.248714537791439 |-75.62599761949413|2566       |9435       |369              |d8b9b417-b098-4344-b137-362894e4dcck|2024-06-21 01:55:01|21062024      |21       |1         |55          |6          |1           |2024      |\n",
      "|326      |6.295057719286122 |-75.58365136412945|4281       |9726       |429              |d8b9b417-b098-4344-b137-362894e4dccl|2024-06-21 01:55:01|21062024      |21       |1         |55          |6          |1           |2024      |\n",
      "+---------+------------------+------------------+-----------+-----------+-----------------+------------------------------------+-------------------+--------------+---------+----------+------------+-----------+------------+----------+\n",
      "only showing top 10 rows\n",
      "\n"
     ]
    }
   ],
   "source": [
    "# Transformación del DataFrame\n",
    "df_silver = df_bronze.withColumn(\"event_date\", to_timestamp(col(\"date\"), \"dd/MM/yyyy HH:mm:ss\")) \\\n",
    "    .withColumn(\"partition_date\", date_format(col(\"event_date\"), \"ddMMyyyy\")) \\\n",
    "    .withColumn(\"event_day\", dayofmonth(col(\"event_date\"))) \\\n",
    "    .withColumn(\"event_hour\", hour(col(\"event_date\"))) \\\n",
    "    .withColumn(\"event_minute\", minute(col(\"event_date\"))) \\\n",
    "    .withColumn(\"event_month\", month(col(\"event_date\"))) \\\n",
    "    .withColumn(\"event_second\", second(col(\"event_date\"))) \\\n",
    "    .withColumn(\"event_year\", year(col(\"event_date\"))) \\\n",
    "    .withColumnRenamed(\"order_id\", \"order_id\") \\\n",
    "    .withColumnRenamed(\"employee_id\", \"employee_id\") \\\n",
    "    .withColumnRenamed(\"quantity_products\", \"quantity_products\") \\\n",
    "    .withColumnRenamed(\"latitude\", \"latitude\") \\\n",
    "    .withColumnRenamed(\"longitude\", \"longitude\") \\\n",
    "    .withColumnRenamed(\"customer_id\", \"customer_id\")\n",
    "\n",
    "# Eliminar la columna original de fecha si no es necesaria\n",
    "df_silver = df_silver.drop(\"date\")\n",
    "\n",
    "# Mostrar el esquema y las primeras 10 filas\n",
    "df_silver.printSchema()\n",
    "df_silver.show(10, truncate=False)"
   ]
  },
  {
   "cell_type": "code",
   "execution_count": 231,
   "id": "3cc70dc6-3bfc-4681-ae37-93dfcba44af8",
   "metadata": {},
   "outputs": [],
   "source": [
    "# Guardar el DataFrame df_silver en la ruta definida en HDFS\n",
    "df_silver.write.mode(\"append\").parquet(silver_path_hdfs + \"/df_silver\")"
   ]
  },
  {
   "cell_type": "code",
   "execution_count": 232,
   "id": "5c91a065-edd0-42ac-bae7-3e687cf05912",
   "metadata": {},
   "outputs": [
    {
     "name": "stdout",
     "output_type": "stream",
     "text": [
      "++\n",
      "||\n",
      "++\n",
      "++\n",
      "\n"
     ]
    }
   ],
   "source": [
    "# Crear la base de datos silver en Hive\n",
    "tables_silver = spark.sql(\"CREATE DATABASE IF NOT EXISTS silver\")\n",
    "tables_silver.show()"
   ]
  },
  {
   "cell_type": "code",
   "execution_count": 233,
   "id": "e83d857b-28f2-476a-8c9f-4bc1b2e7148c",
   "metadata": {},
   "outputs": [
    {
     "name": "stdout",
     "output_type": "stream",
     "text": [
      "+---------+-----------------+------------------+-----------+-----------+-----------------+------------------------------------+-------------------+--------------+---------+----------+------------+-----------+------------+----------+\n",
      "|object_id|latitude         |longitude         |customer_id|employee_id|quantity_products|order_id                            |event_date         |partition_date|event_day|event_hour|event_minute|event_month|event_second|event_year|\n",
      "+---------+-----------------+------------------+-----------+-----------+-----------------+------------------------------------+-------------------+--------------+---------+----------+------------+-----------+------------+----------+\n",
      "|334      |6.222446938596848|-75.56855864645483|8657       |2232       |392              |d8b9b417-b098-4344-b137-362894e4dceu|2024-06-21 01:59:20|21062024      |21       |1         |59          |6          |20          |2024      |\n",
      "|339      |6.216340691862865|-75.52325545011696|3118       |4942       |539              |d8b9b417-b098-4344-b137-362894e4dcev|2024-06-21 01:59:52|21062024      |21       |1         |59          |6          |52          |2024      |\n",
      "|338      |6.234301858827036|-75.6168586442365 |5624       |9438       |540              |d8b9b417-b098-4344-b137-362894e4dcew|2024-06-21 01:59:52|21062024      |21       |1         |59          |6          |52          |2024      |\n",
      "|337      |6.260951370843877|-75.66692073981508|8184       |2470       |444              |d8b9b417-b098-4344-b137-362894e4dcex|2024-06-21 01:59:52|21062024      |21       |1         |59          |6          |52          |2024      |\n",
      "|339      |6.251539356032007|-75.53244101782771|2918       |9726       |597              |d8b9b417-b098-4344-b137-362894e4dcey|2024-06-21 01:59:52|21062024      |21       |1         |59          |6          |52          |2024      |\n",
      "|334      |6.182040633805007|-75.55671114118243|9535       |1473       |432              |d8b9b417-b098-4344-b137-362894e4dcez|2024-06-21 01:59:52|21062024      |21       |1         |59          |6          |52          |2024      |\n",
      "|343      |6.229747223442643|-75.57710845590925|5190       |4942       |504              |d8b9b417-b098-4344-b137-362894e4dcfa|2024-06-21 01:59:52|21062024      |21       |1         |59          |6          |52          |2024      |\n",
      "|323      |6.274563406667454|-75.53889609946889|8913       |4750       |370              |d8b9b417-b098-4344-b137-362894e4dcfb|2024-06-21 01:59:52|21062024      |21       |1         |59          |6          |52          |2024      |\n",
      "|336      |6.332854188176024|-75.7122239486514 |5368       |1561       |542              |d8b9b417-b098-4344-b137-362894e4dcfc|2024-06-21 02:00:24|21062024      |21       |2         |0           |6          |24          |2024      |\n",
      "|328      |6.250869226116005|-75.55165084071096|1793       |6659       |501              |d8b9b417-b098-4344-b137-362894e4dcfd|2024-06-21 02:00:24|21062024      |21       |2         |0           |6          |24          |2024      |\n",
      "|341      |6.176720545608899|-75.67071071089825|5602       |1679       |567              |d8b9b417-b098-4344-b137-362894e4dcfe|2024-06-21 02:00:24|21062024      |21       |2         |0           |6          |24          |2024      |\n",
      "|334      |6.201149500497264|-75.56647105257245|7311       |1679       |935              |d8b9b417-b098-4344-b137-362894e4dcff|2024-06-21 02:00:24|21062024      |21       |2         |0           |6          |24          |2024      |\n",
      "|323      |6.263153016140105|-75.54475412288473|1256       |3830       |695              |d8b9b417-b098-4344-b137-362894e4dcfg|2024-06-21 02:00:24|21062024      |21       |2         |0           |6          |24          |2024      |\n",
      "|338      |6.203654939354002|-75.61143567502276|2345       |9438       |624              |d8b9b417-b098-4344-b137-362894e4dcfh|2024-06-21 02:00:24|21062024      |21       |2         |0           |6          |24          |2024      |\n",
      "|322      |6.293711329824756|-75.55888626472442|8190       |3455       |608              |d8b9b417-b098-4344-b137-362894e4dcke|2024-06-21 02:09:36|21062024      |21       |2         |9           |6          |36          |2024      |\n",
      "|328      |6.260502879589433|-75.55631439510852|7311       |9726       |252              |d8b9b417-b098-4344-b137-362894e4dckf|2024-06-21 02:09:36|21062024      |21       |2         |9           |6          |36          |2024      |\n",
      "|339      |6.248162954925148|-75.49213858646789|2381       |6696       |476              |d8b9b417-b098-4344-b137-362894e4dckg|2024-06-21 02:09:36|21062024      |21       |2         |9           |6          |36          |2024      |\n",
      "|336      |6.312877773625606|-75.67142513127672|8837       |9726       |577              |d8b9b417-b098-4344-b137-362894e4dckh|2024-06-21 02:09:36|21062024      |21       |2         |9           |6          |36          |2024      |\n",
      "|339      |6.28671865439589 |-75.50792975509367|9188       |3830       |692              |d8b9b417-b098-4344-b137-362894e4dccc|2024-06-21 05:18:58|21062024      |21       |5         |18          |6          |58          |2024      |\n",
      "|343      |6.214741634676935|-75.58108828671644|8194       |6659       |612              |d8b9b417-b098-4344-b137-362894e4dccd|2024-06-21 05:18:58|21062024      |21       |5         |18          |6          |58          |2024      |\n",
      "+---------+-----------------+------------------+-----------+-----------+-----------------+------------------------------------+-------------------+--------------+---------+----------+------------+-----------+------------+----------+\n",
      "only showing top 20 rows\n",
      "\n"
     ]
    }
   ],
   "source": [
    "# Crear la base de datos silver si no existe\n",
    "spark.sql(\"CREATE DATABASE IF NOT EXISTS silver\")\n",
    "# Guardar los datos como una tabla en la base de datos silver\n",
    "df_silver.write.mode('overwrite').saveAsTable('silver.silver_new')\n",
    "# Verificar que la tabla está guardada en empleados\n",
    "spark.sql(\"SELECT * FROM silver.silver_new\").show(truncate=False)"
   ]
  },
  {
   "cell_type": "code",
   "execution_count": 234,
   "id": "7596b225-b6dd-4c20-91fb-f1c3f00eb090",
   "metadata": {},
   "outputs": [
    {
     "name": "stdout",
     "output_type": "stream",
     "text": [
      "root\n",
      " |-- OBJECTID: long (nullable = true)\n",
      " |-- CODIGO: string (nullable = true)\n",
      " |-- NOMBRE: string (nullable = true)\n",
      " |-- IDENTIFICACION: string (nullable = true)\n",
      " |-- LIMITEMUNICIPIOID: string (nullable = true)\n",
      " |-- SUBTIPO_COMUNACORREGIMIENTO: long (nullable = true)\n",
      " |-- LINK_DOCUMENTO: integer (nullable = true)\n",
      " |-- SHAPEAREA: double (nullable = true)\n",
      " |-- SHAPELEN: double (nullable = true)\n",
      " |-- geometry: binary (nullable = true)\n",
      "\n"
     ]
    }
   ],
   "source": [
    "df_neighborhoods.printSchema()\n"
   ]
  },
  {
   "cell_type": "markdown",
   "id": "a9c4173c-354d-4bc7-93c9-3d9c99f370b7",
   "metadata": {},
   "source": [
    "# Union (join) "
   ]
  },
  {
   "cell_type": "code",
   "execution_count": 235,
   "id": "8864aace-b9a0-4524-a9c9-e85fd5c81293",
   "metadata": {},
   "outputs": [
    {
     "name": "stdout",
     "output_type": "stream",
     "text": [
      "+------------------+------------------+-----------+-----------+-----------------+--------------------+-------------------+--------------+---------+----------+------------+-----------+------------+----------+--------------------+----------------+\n",
      "|          latitude|         longitude|customer_id|employee_id|quantity_products|            order_id|         event_date|partition_date|event_day|event_hour|event_minute|event_month|event_second|event_year|        neighborhood|         commune|\n",
      "+------------------+------------------+-----------+-----------+-----------------+--------------------+-------------------+--------------+---------+----------+------------+-----------+------------+----------+--------------------+----------------+\n",
      "| 6.272252523303907|-75.64754590534695|       6253|       1679|              225|d8b9b417-b098-434...|2024-06-21 01:55:01|      21062024|       21|         1|          55|          6|           1|      2024|CORREGIMIENTO DE ...|CORREGIMIENTO 60|\n",
      "| 6.228334667224176|-75.56989476031579|       5687|       3830|              294|d8b9b417-b098-434...|2024-06-21 01:55:01|      21062024|       21|         1|          55|          6|           1|      2024|       LA CANDELARIA|       COMUNA 10|\n",
      "|6.2644164362595784|-75.69769593180834|       8837|       2232|              422|d8b9b417-b098-434...|2024-06-21 01:55:01|      21062024|       21|         1|          55|          6|           1|      2024|CORREGIMIENTO DE ...|CORREGIMIENTO 80|\n",
      "| 6.312778670415543|-75.66684760175428|       2390|       9438|              727|d8b9b417-b098-434...|2024-06-21 01:55:01|      21062024|       21|         1|          55|          6|           1|      2024|CORREGIMIENTO DE ...|CORREGIMIENTO 60|\n",
      "| 6.237990075558335|-75.58065203777282|       3103|       2232|              360|d8b9b417-b098-434...|2024-06-21 01:55:01|      21062024|       21|         1|          55|          6|           1|      2024|               BELÉN|       COMUNA 16|\n",
      "|6.1896650224447605|-75.58040446730507|       6789|       2470|              724|d8b9b417-b098-434...|2024-06-21 01:55:01|      21062024|       21|         1|          55|          6|           1|      2024|          EL POBLADO|       COMUNA 14|\n",
      "|  6.30322371581286|-75.66088069457669|       4978|       9438|              498|d8b9b417-b098-434...|2024-06-21 01:55:01|      21062024|       21|         1|          55|          6|           1|      2024|CORREGIMIENTO DE ...|CORREGIMIENTO 60|\n",
      "| 6.287800456217061|-75.55533555287938|       7805|       9438|              638|d8b9b417-b098-434...|2024-06-21 01:55:01|      21062024|       21|         1|          55|          6|           1|      2024|            ARANJUEZ|        COMUNA 4|\n",
      "| 6.248714537791439|-75.62599761949413|       2566|       9435|              369|d8b9b417-b098-434...|2024-06-21 01:55:01|      21062024|       21|         1|          55|          6|           1|      2024|          SAN JAVIER|       COMUNA 13|\n",
      "| 6.295057719286122|-75.58365136412945|       4281|       9726|              429|d8b9b417-b098-434...|2024-06-21 01:55:01|      21062024|       21|         1|          55|          6|           1|      2024|     DOCE DE OCTUBRE|        COMUNA 6|\n",
      "|  6.29991810237842|-75.54432280339475|       8322|       9435|              430|d8b9b417-b098-434...|2024-06-21 01:55:33|      21062024|       21|         1|          55|          6|          33|      2024|             POPULAR|        COMUNA 1|\n",
      "| 6.276125086029852|-75.65601941173112|       9604|       1482|              518|d8b9b417-b098-434...|2024-06-21 01:55:33|      21062024|       21|         1|          55|          6|          33|      2024|CORREGIMIENTO DE ...|CORREGIMIENTO 60|\n",
      "| 6.338280106958211|-75.67896564247832|       6253|       8362|              368|d8b9b417-b098-434...|2024-06-21 01:55:33|      21062024|       21|         1|          55|          6|          33|      2024|CORREGIMIENTO DE ...|CORREGIMIENTO 50|\n",
      "| 6.206065847090859|-75.66146658768385|       1726|       1114|              644|d8b9b417-b098-434...|2024-06-21 01:55:33|      21062024|       21|         1|          55|          6|          33|      2024|CORREGIMIENTO DE ...|CORREGIMIENTO 80|\n",
      "| 6.308362116684866|-75.62228681635257|       5237|       9435|              780|d8b9b417-b098-434...|2024-06-21 01:55:33|      21062024|       21|         1|          55|          6|          33|      2024|CORREGIMIENTO DE ...|CORREGIMIENTO 60|\n",
      "| 6.292936785992742|-75.55312147196855|       1262|       3830|              341|d8b9b417-b098-434...|2024-06-21 01:55:33|      21062024|       21|         1|          55|          6|          33|      2024|          SANTA CRUZ|        COMUNA 2|\n",
      "| 6.250834697768259|-75.65818786555079|       3814|       3455|              605|d8b9b417-b098-434...|2024-06-21 01:55:33|      21062024|       21|         1|          55|          6|          33|      2024|CORREGIMIENTO DE ...|CORREGIMIENTO 70|\n",
      "| 6.255254736329183|-75.69583628266935|       9869|       6659|              267|d8b9b417-b098-434...|2024-06-21 01:55:33|      21062024|       21|         1|          55|          6|          33|      2024|CORREGIMIENTO DE ...|CORREGIMIENTO 80|\n",
      "|6.2185750156384465|-75.61099093661348|       6081|       4750|              408|d8b9b417-b098-434...|2024-06-21 01:55:33|      21062024|       21|         1|          55|          6|          33|      2024|CORREGIMIENTO DE ...|CORREGIMIENTO 70|\n",
      "| 6.229562829172458|-75.56974508255209|       7800|       4750|              405|d8b9b417-b098-434...|2024-06-21 01:56:06|      21062024|       21|         1|          56|          6|           6|      2024|       LA CANDELARIA|       COMUNA 10|\n",
      "+------------------+------------------+-----------+-----------+-----------------+--------------------+-------------------+--------------+---------+----------+------------+-----------+------------+----------+--------------------+----------------+\n",
      "only showing top 20 rows\n",
      "\n"
     ]
    }
   ],
   "source": [
    "from pyspark.sql.functions import col\n",
    "\n",
    "# Seleccionar solo las columnas NOMBRE e IDENTIFICACION de df_neighborhoods, y renombrar OBJECTID a object_id\n",
    "df_neighborhoods_seleccionado = df_neighborhoods.select(\n",
    "    col(\"OBJECTID\").alias(\"object_id\"),\n",
    "    col(\"NOMBRE\").alias(\"neighborhood\"),\n",
    "    col(\"IDENTIFICACION\").alias(\"commune\")\n",
    ")\n",
    "\n",
    "# Realizar el left join en la columna object_id\n",
    "df_resultado = df_silver.join(\n",
    "    df_neighborhoods_seleccionado,\n",
    "    df_silver['object_id'] == df_neighborhoods_seleccionado['object_id'],\n",
    "    \"left\"\n",
    ").select(\n",
    "    df_silver['*'],  # Seleccionar todas las columnas de df_silver\n",
    "    df_neighborhoods_seleccionado['neighborhood'],  # Seleccionar la columna renombrada neighborhood\n",
    "    df_neighborhoods_seleccionado['commune']  # Seleccionar la columna renombrada commune\n",
    ").drop(df_silver['object_id'])  # Eliminar la columna object_id del resultado final\n",
    "\n",
    "# Mostrar el resultado (opcional)\n",
    "df_resultado.show()\n"
   ]
  },
  {
   "cell_type": "code",
   "execution_count": 236,
   "id": "4f739706-86a5-4192-ad6a-c487dd541dac",
   "metadata": {},
   "outputs": [
    {
     "name": "stdout",
     "output_type": "stream",
     "text": [
      "+------------------+------------------+-----------+-----------+-----------------+------------------------------------+-------------------+--------------+---------+----------+------------+-----------+------------+----------+-------------------------------------+----------------+\n",
      "|latitude          |longitude         |customer_id|employee_id|quantity_products|order_id                            |event_date         |partition_date|event_day|event_hour|event_minute|event_month|event_second|event_year|neighborhood                         |commune         |\n",
      "+------------------+------------------+-----------+-----------+-----------------+------------------------------------+-------------------+--------------+---------+----------+------------+-----------+------------+----------+-------------------------------------+----------------+\n",
      "|6.272252523303907 |-75.64754590534695|6253       |1679       |225              |d8b9b417-b098-4344-b137-362894e4dccc|2024-06-21 01:55:01|21062024      |21       |1         |55          |6          |1           |2024      |CORREGIMIENTO DE SAN CRISTÓBAL       |CORREGIMIENTO 60|\n",
      "|6.228334667224176 |-75.56989476031579|5687       |3830       |294              |d8b9b417-b098-4344-b137-362894e4dccd|2024-06-21 01:55:01|21062024      |21       |1         |55          |6          |1           |2024      |LA CANDELARIA                        |COMUNA 10       |\n",
      "|6.2644164362595784|-75.69769593180834|8837       |2232       |422              |d8b9b417-b098-4344-b137-362894e4dcce|2024-06-21 01:55:01|21062024      |21       |1         |55          |6          |1           |2024      |CORREGIMIENTO DE SAN ANTONIO DE PRADO|CORREGIMIENTO 80|\n",
      "|6.312778670415543 |-75.66684760175428|2390       |9438       |727              |d8b9b417-b098-4344-b137-362894e4dccf|2024-06-21 01:55:01|21062024      |21       |1         |55          |6          |1           |2024      |CORREGIMIENTO DE SAN CRISTÓBAL       |CORREGIMIENTO 60|\n",
      "|6.237990075558335 |-75.58065203777282|3103       |2232       |360              |d8b9b417-b098-4344-b137-362894e4dccg|2024-06-21 01:55:01|21062024      |21       |1         |55          |6          |1           |2024      |BELÉN                                |COMUNA 16       |\n",
      "+------------------+------------------+-----------+-----------+-----------------+------------------------------------+-------------------+--------------+---------+----------+------------+-----------+------------+----------+-------------------------------------+----------------+\n",
      "only showing top 5 rows\n",
      "\n"
     ]
    }
   ],
   "source": [
    "# Mostrar el DataFrame\n",
    "df_resultado.show(truncate=False, n=5)"
   ]
  },
  {
   "cell_type": "code",
   "execution_count": 237,
   "id": "62f8cef3-b668-4e8e-998f-9e0fbfe005f0",
   "metadata": {},
   "outputs": [
    {
     "name": "stdout",
     "output_type": "stream",
     "text": [
      "root\n",
      " |-- latitude: double (nullable = true)\n",
      " |-- longitude: double (nullable = true)\n",
      " |-- customer_id: integer (nullable = true)\n",
      " |-- employee_id: integer (nullable = true)\n",
      " |-- quantity_products: integer (nullable = true)\n",
      " |-- order_id: string (nullable = true)\n",
      " |-- event_date: timestamp (nullable = true)\n",
      " |-- partition_date: string (nullable = true)\n",
      " |-- event_day: integer (nullable = true)\n",
      " |-- event_hour: integer (nullable = true)\n",
      " |-- event_minute: integer (nullable = true)\n",
      " |-- event_month: integer (nullable = true)\n",
      " |-- event_second: integer (nullable = true)\n",
      " |-- event_year: integer (nullable = true)\n",
      " |-- neighborhood: string (nullable = true)\n",
      " |-- commune: string (nullable = true)\n",
      "\n"
     ]
    }
   ],
   "source": [
    "df_resultado.printSchema()"
   ]
  },
  {
   "cell_type": "code",
   "execution_count": null,
   "id": "deb268e3-c365-4e6a-a2c6-41c6473a02f6",
   "metadata": {},
   "outputs": [],
   "source": []
  }
 ],
 "metadata": {
  "kernelspec": {
   "display_name": "Python 3 (ipykernel)",
   "language": "python",
   "name": "python3"
  },
  "language_info": {
   "codemirror_mode": {
    "name": "ipython",
    "version": 3
   },
   "file_extension": ".py",
   "mimetype": "text/x-python",
   "name": "python",
   "nbconvert_exporter": "python",
   "pygments_lexer": "ipython3",
   "version": "3.8.10"
  }
 },
 "nbformat": 4,
 "nbformat_minor": 5
}
